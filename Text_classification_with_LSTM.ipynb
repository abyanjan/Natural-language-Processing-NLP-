{
  "nbformat": 4,
  "nbformat_minor": 0,
  "metadata": {
    "colab": {
      "name": "Text classification with LSTM.ipynb",
      "provenance": [],
      "authorship_tag": "ABX9TyNxoKZxmB3sIOs50BLhbG3U",
      "include_colab_link": true
    },
    "kernelspec": {
      "name": "python3",
      "display_name": "Python 3"
    }
  },
  "cells": [
    {
      "cell_type": "markdown",
      "metadata": {
        "id": "view-in-github",
        "colab_type": "text"
      },
      "source": [
        "<a href=\"https://colab.research.google.com/github/abyanjan/Natural-language-Processing-NLP-/blob/master/Text_classification_with_LSTM.ipynb\" target=\"_parent\"><img src=\"https://colab.research.google.com/assets/colab-badge.svg\" alt=\"Open In Colab\"/></a>"
      ]
    },
    {
      "cell_type": "code",
      "metadata": {
        "colab": {
          "base_uri": "https://localhost:8080/"
        },
        "id": "BiNGtgRxyA0a",
        "outputId": "72eb7b4c-5bd9-40e9-dbe7-7ec2e505df11"
      },
      "source": [
        "!pip install emoji"
      ],
      "execution_count": 1,
      "outputs": [
        {
          "output_type": "stream",
          "text": [
            "Collecting emoji\n",
            "\u001b[?25l  Downloading https://files.pythonhosted.org/packages/24/fa/b3368f41b95a286f8d300e323449ab4e86b85334c2e0b477e94422b8ed0f/emoji-1.2.0-py3-none-any.whl (131kB)\n",
            "\r\u001b[K     |██▌                             | 10kB 16.1MB/s eta 0:00:01\r\u001b[K     |█████                           | 20kB 21.7MB/s eta 0:00:01\r\u001b[K     |███████▌                        | 30kB 10.8MB/s eta 0:00:01\r\u001b[K     |██████████                      | 40kB 8.6MB/s eta 0:00:01\r\u001b[K     |████████████▌                   | 51kB 4.2MB/s eta 0:00:01\r\u001b[K     |███████████████                 | 61kB 4.8MB/s eta 0:00:01\r\u001b[K     |█████████████████▌              | 71kB 5.0MB/s eta 0:00:01\r\u001b[K     |████████████████████            | 81kB 5.3MB/s eta 0:00:01\r\u001b[K     |██████████████████████▌         | 92kB 5.6MB/s eta 0:00:01\r\u001b[K     |█████████████████████████       | 102kB 5.7MB/s eta 0:00:01\r\u001b[K     |███████████████████████████▌    | 112kB 5.7MB/s eta 0:00:01\r\u001b[K     |██████████████████████████████  | 122kB 5.7MB/s eta 0:00:01\r\u001b[K     |████████████████████████████████| 133kB 5.7MB/s \n",
            "\u001b[?25hInstalling collected packages: emoji\n",
            "Successfully installed emoji-1.2.0\n"
          ],
          "name": "stdout"
        }
      ]
    },
    {
      "cell_type": "markdown",
      "metadata": {
        "id": "EvvgkJGQdh7o"
      },
      "source": [
        "**Dowloading data from kaggle**"
      ]
    },
    {
      "cell_type": "code",
      "metadata": {
        "id": "n5tXycx5afMA"
      },
      "source": [
        "!pip install -q kaggle"
      ],
      "execution_count": 2,
      "outputs": []
    },
    {
      "cell_type": "code",
      "metadata": {
        "id": "wt8wxA4ubm3Y"
      },
      "source": [
        "#from google.colab import files\r\n",
        "#files.upload()"
      ],
      "execution_count": null,
      "outputs": []
    },
    {
      "cell_type": "code",
      "metadata": {
        "id": "BfNymmxPbzeR"
      },
      "source": [
        "!mkdir ~/.kaggle"
      ],
      "execution_count": 3,
      "outputs": []
    },
    {
      "cell_type": "code",
      "metadata": {
        "id": "2eZCsddOcRux"
      },
      "source": [
        "! cp kaggle.json ~/.kaggle/"
      ],
      "execution_count": 4,
      "outputs": []
    },
    {
      "cell_type": "code",
      "metadata": {
        "id": "IF8M2J17cV59"
      },
      "source": [
        "! chmod 600 ~/.kaggle/kaggle.json"
      ],
      "execution_count": 5,
      "outputs": []
    },
    {
      "cell_type": "code",
      "metadata": {
        "id": "IyCn3NNbcefg"
      },
      "source": [
        "#! kaggle datasets list"
      ],
      "execution_count": null,
      "outputs": []
    },
    {
      "cell_type": "code",
      "metadata": {
        "colab": {
          "base_uri": "https://localhost:8080/"
        },
        "id": "9Smo1g3UcwsG",
        "outputId": "e8f39e90-cefa-48ac-e3a6-c93cfcd8d3f4"
      },
      "source": [
        "! kaggle competitions download -c 'nlp-getting-started'"
      ],
      "execution_count": 6,
      "outputs": [
        {
          "output_type": "stream",
          "text": [
            "Warning: Looks like you're using an outdated API Version, please consider updating (server 1.5.10 / client 1.5.4)\n",
            "Downloading train.csv to /content\n",
            "  0% 0.00/965k [00:00<?, ?B/s]\n",
            "100% 965k/965k [00:00<00:00, 66.0MB/s]\n",
            "Downloading test.csv to /content\n",
            "  0% 0.00/411k [00:00<?, ?B/s]\n",
            "100% 411k/411k [00:00<00:00, 57.5MB/s]\n",
            "Downloading sample_submission.csv to /content\n",
            "  0% 0.00/22.2k [00:00<?, ?B/s]\n",
            "100% 22.2k/22.2k [00:00<00:00, 22.2MB/s]\n"
          ],
          "name": "stdout"
        }
      ]
    },
    {
      "cell_type": "code",
      "metadata": {
        "id": "grSQFuxJyllZ"
      },
      "source": [
        ""
      ],
      "execution_count": null,
      "outputs": []
    },
    {
      "cell_type": "markdown",
      "metadata": {
        "id": "4Oy01ebPyzwk"
      },
      "source": [
        "## Data Processing"
      ]
    },
    {
      "cell_type": "code",
      "metadata": {
        "id": "gJU0pmYKylfJ"
      },
      "source": [
        "# Read data\r\n",
        "import pandas as pd\r\n",
        "import numpy as np"
      ],
      "execution_count": 7,
      "outputs": []
    },
    {
      "cell_type": "code",
      "metadata": {
        "colab": {
          "base_uri": "https://localhost:8080/",
          "height": 202
        },
        "id": "niqMudblylSq",
        "outputId": "5c6fdf28-c573-4f9c-ae1c-4eff09a240a5"
      },
      "source": [
        "train_df = pd.read_csv('train.csv')\r\n",
        "train_df.head()"
      ],
      "execution_count": 8,
      "outputs": [
        {
          "output_type": "execute_result",
          "data": {
            "text/html": [
              "<div>\n",
              "<style scoped>\n",
              "    .dataframe tbody tr th:only-of-type {\n",
              "        vertical-align: middle;\n",
              "    }\n",
              "\n",
              "    .dataframe tbody tr th {\n",
              "        vertical-align: top;\n",
              "    }\n",
              "\n",
              "    .dataframe thead th {\n",
              "        text-align: right;\n",
              "    }\n",
              "</style>\n",
              "<table border=\"1\" class=\"dataframe\">\n",
              "  <thead>\n",
              "    <tr style=\"text-align: right;\">\n",
              "      <th></th>\n",
              "      <th>id</th>\n",
              "      <th>keyword</th>\n",
              "      <th>location</th>\n",
              "      <th>text</th>\n",
              "      <th>target</th>\n",
              "    </tr>\n",
              "  </thead>\n",
              "  <tbody>\n",
              "    <tr>\n",
              "      <th>0</th>\n",
              "      <td>1</td>\n",
              "      <td>NaN</td>\n",
              "      <td>NaN</td>\n",
              "      <td>Our Deeds are the Reason of this #earthquake M...</td>\n",
              "      <td>1</td>\n",
              "    </tr>\n",
              "    <tr>\n",
              "      <th>1</th>\n",
              "      <td>4</td>\n",
              "      <td>NaN</td>\n",
              "      <td>NaN</td>\n",
              "      <td>Forest fire near La Ronge Sask. Canada</td>\n",
              "      <td>1</td>\n",
              "    </tr>\n",
              "    <tr>\n",
              "      <th>2</th>\n",
              "      <td>5</td>\n",
              "      <td>NaN</td>\n",
              "      <td>NaN</td>\n",
              "      <td>All residents asked to 'shelter in place' are ...</td>\n",
              "      <td>1</td>\n",
              "    </tr>\n",
              "    <tr>\n",
              "      <th>3</th>\n",
              "      <td>6</td>\n",
              "      <td>NaN</td>\n",
              "      <td>NaN</td>\n",
              "      <td>13,000 people receive #wildfires evacuation or...</td>\n",
              "      <td>1</td>\n",
              "    </tr>\n",
              "    <tr>\n",
              "      <th>4</th>\n",
              "      <td>7</td>\n",
              "      <td>NaN</td>\n",
              "      <td>NaN</td>\n",
              "      <td>Just got sent this photo from Ruby #Alaska as ...</td>\n",
              "      <td>1</td>\n",
              "    </tr>\n",
              "  </tbody>\n",
              "</table>\n",
              "</div>"
            ],
            "text/plain": [
              "   id keyword  ...                                               text target\n",
              "0   1     NaN  ...  Our Deeds are the Reason of this #earthquake M...      1\n",
              "1   4     NaN  ...             Forest fire near La Ronge Sask. Canada      1\n",
              "2   5     NaN  ...  All residents asked to 'shelter in place' are ...      1\n",
              "3   6     NaN  ...  13,000 people receive #wildfires evacuation or...      1\n",
              "4   7     NaN  ...  Just got sent this photo from Ruby #Alaska as ...      1\n",
              "\n",
              "[5 rows x 5 columns]"
            ]
          },
          "metadata": {
            "tags": []
          },
          "execution_count": 8
        }
      ]
    },
    {
      "cell_type": "code",
      "metadata": {
        "id": "ZTpiGlo-ylPA"
      },
      "source": [
        "# taking only the required columns\r\n",
        "train_df = train_df[['text','target']]"
      ],
      "execution_count": 9,
      "outputs": []
    },
    {
      "cell_type": "code",
      "metadata": {
        "colab": {
          "base_uri": "https://localhost:8080/"
        },
        "id": "IKSt1syjzQLF",
        "outputId": "a75c6f8e-3254-4cb4-cdee-f0867b499ae4"
      },
      "source": [
        "print(f'Number of samples: {train_df.shape[0]}')"
      ],
      "execution_count": 10,
      "outputs": [
        {
          "output_type": "stream",
          "text": [
            "Number of samples: 7613\n"
          ],
          "name": "stdout"
        }
      ]
    },
    {
      "cell_type": "code",
      "metadata": {
        "colab": {
          "base_uri": "https://localhost:8080/",
          "height": 279
        },
        "id": "-qGT1p8uzeAT",
        "outputId": "4e8708f8-37b3-4d17-ddf6-3a535805b334"
      },
      "source": [
        "# Target Distribution\r\n",
        "import matplotlib.pyplot as plt\r\n",
        "\r\n",
        "train_df.target.value_counts().plot(kind ='bar')\r\n",
        "#plt.bar()"
      ],
      "execution_count": 11,
      "outputs": [
        {
          "output_type": "execute_result",
          "data": {
            "text/plain": [
              "<matplotlib.axes._subplots.AxesSubplot at 0x7fb51ba6df98>"
            ]
          },
          "metadata": {
            "tags": []
          },
          "execution_count": 11
        },
        {
          "output_type": "display_data",
          "data": {
            "image/png": "[encoded data removed]",
            "text/plain": [
              "<Figure size 432x288 with 1 Axes>"
            ]
          },
          "metadata": {
            "tags": [],
            "needs_background": "light"
          }
        }
      ]
    },
    {
      "cell_type": "markdown",
      "metadata": {
        "id": "zzqHgK2U1Ecs"
      },
      "source": [
        "**Checking for any duplicates in the text**"
      ]
    },
    {
      "cell_type": "code",
      "metadata": {
        "colab": {
          "base_uri": "https://localhost:8080/"
        },
        "id": "3jfXOGRZz7_N",
        "outputId": "06acd89a-766d-43f3-f9d3-90c271db9821"
      },
      "source": [
        "train_df['text'].duplicated().sum()"
      ],
      "execution_count": 12,
      "outputs": [
        {
          "output_type": "execute_result",
          "data": {
            "text/plain": [
              "110"
            ]
          },
          "metadata": {
            "tags": []
          },
          "execution_count": 12
        }
      ]
    },
    {
      "cell_type": "code",
      "metadata": {
        "id": "JOmGnDVP1U-P"
      },
      "source": [
        "# dropping the dupicated texts\r\n",
        "train_df = train_df.drop_duplicates('text', keep='last')"
      ],
      "execution_count": 13,
      "outputs": []
    },
    {
      "cell_type": "markdown",
      "metadata": {
        "id": "xdJDt_j41ovV"
      },
      "source": [
        "**Checking for any Null values**"
      ]
    },
    {
      "cell_type": "code",
      "metadata": {
        "colab": {
          "base_uri": "https://localhost:8080/"
        },
        "id": "GWCwls9a1n1c",
        "outputId": "27e370fa-e8af-4e59-a0c7-10b406b10292"
      },
      "source": [
        "print(f\"Number of Null Values: {train_df['text'].isnull().sum()}\")"
      ],
      "execution_count": 14,
      "outputs": [
        {
          "output_type": "stream",
          "text": [
            "Number of Null Values: 0\n"
          ],
          "name": "stdout"
        }
      ]
    },
    {
      "cell_type": "code",
      "metadata": {
        "id": "hOSIDXuH2GpH"
      },
      "source": [
        ""
      ],
      "execution_count": null,
      "outputs": []
    },
    {
      "cell_type": "markdown",
      "metadata": {
        "id": "neeaQh5d2G9u"
      },
      "source": [
        "### Cleaning the Text"
      ]
    },
    {
      "cell_type": "code",
      "metadata": {
        "colab": {
          "base_uri": "https://localhost:8080/"
        },
        "id": "Kbe2404c2KEb",
        "outputId": "6807a79b-61e0-4d3a-ed2f-6e67e96748d6"
      },
      "source": [
        "# checking few of the texts\r\n",
        "np.random.seed(123)\r\n",
        "for i in np.random.randint(0, len(train_df), 10):\r\n",
        "  print(train_df['text'][i], '\\n')"
      ],
      "execution_count": 15,
      "outputs": [
        {
          "output_type": "stream",
          "text": [
            "APD investigating fatal shooting of 3 year old child in southeast Anchorage http://t.co/qYccvUubkr \n",
            "\n",
            "holy crap @KingMyth1999 my phone just exploded. haha \n",
            "\n",
            "I will never support looting or the burning of buildings but when seeing the people fight back against the police. I was proud \n",
            "\n",
            "#HeartDisease U.S. Forest Service says spending more than half of budget on fires http://t.co/KzfiGkEeva \n",
            "\n",
            "I need an arcade shooter fix but CTE is empty &amp; only running obliteration. I'd even buy a CoD title if they weren't all overpriced on steam \n",
            "\n",
            "Long Road To Ruin - Foo Fighters \n",
            "\n",
            "FUCK NUCLEAR WEAPON \n",
            "\n",
            "#NowPlaying Last Smoke Before The Snowstorm by Benjamin Francis Leftwich - hopefully new album coming soon :) ? http://t.co/5kjy8G0i4y \n",
            "\n",
            "California oil spill might be larger than projected: http://t.co/xwxBYHTuzC http://t.co/wzeDxEFBlg \n",
            "\n",
            "'I'm there!' Bride &amp; Groom on mountain cliff edge. Ha Ha just kidding. I WILL NOT EVER be there. Ha Ha - http://t.co/Io9ry1akON \n",
            "\n"
          ],
          "name": "stdout"
        }
      ]
    },
    {
      "cell_type": "code",
      "metadata": {
        "id": "7EAgKGqW68V1"
      },
      "source": [
        "import re\r\n",
        "import emoji\r\n",
        "import nltk"
      ],
      "execution_count": 16,
      "outputs": []
    },
    {
      "cell_type": "code",
      "metadata": {
        "id": "8WeF1OhJ2Skw"
      },
      "source": [
        "# defining function to clean the text\r\n",
        "\r\n",
        "def clean_text(text):\r\n",
        "  text = re.sub(r\"(?:\\@|http?\\://|https?\\://|www)\\S+\", \"\", text) #Remove urls\r\n",
        "  text = re.sub(\"@[A-Za-z0-9]+\",\"\",text) #Remove @ sign\r\n",
        "  text = text.replace(\"#\", \"\") #Remove hashtag sign \r\n",
        "  #text = ''.join(w for w in text if w not in emoji.UNICODE_EMOJI) # remove emojis\r\n",
        "  text = re.sub(r\"[^a-zA-Z0-9]\", \" \", text.lower()) # remove any punctuations and convert to lower case\r\n",
        "  text = re.sub(' +', ' ', text) # remove any extra spaces\r\n",
        "\r\n",
        "  return text\r\n",
        " "
      ],
      "execution_count": 17,
      "outputs": []
    },
    {
      "cell_type": "code",
      "metadata": {
        "colab": {
          "base_uri": "https://localhost:8080/"
        },
        "id": "z_QvOA2W2ls9",
        "outputId": "67401dc1-1d48-47ae-b3ac-6dc732f7a450"
      },
      "source": [
        "# checking the text after cleaning\r\n",
        "np.random.seed(123)\r\n",
        "for i in np.random.randint(0, len(train_df), 10):\r\n",
        "  text_after_clean = clean_text(train_df['text'][i])\r\n",
        "  print(text_after_clean, '\\n')"
      ],
      "execution_count": 18,
      "outputs": [
        {
          "output_type": "stream",
          "text": [
            "apd investigating fatal shooting of 3 year old child in southeast anchorage  \n",
            "\n",
            "holy crap my phone just exploded haha \n",
            "\n",
            "i will never support looting or the burning of buildings but when seeing the people fight back against the police i was proud \n",
            "\n",
            "heartdisease u s forest service says spending more than half of budget on fires  \n",
            "\n",
            "i need an arcade shooter fix but cte is empty amp only running obliteration i d even buy a cod title if they weren t all overpriced on steam \n",
            "\n",
            "long road to ruin foo fighters \n",
            "\n",
            "fuck nuclear weapon \n",
            "\n",
            "nowplaying last smoke before the snowstorm by benjamin francis leftwich hopefully new album coming soon  \n",
            "\n",
            "california oil spill might be larger than projected  \n",
            "\n",
            " i m there bride amp groom on mountain cliff edge ha ha just kidding i will not ever be there ha ha  \n",
            "\n"
          ],
          "name": "stdout"
        }
      ]
    },
    {
      "cell_type": "code",
      "metadata": {
        "id": "Jx8LDTSpDEQ_"
      },
      "source": [
        "# cleaning the whole text\r\n",
        "train_df['text'] = train_df['text'].apply(clean_text)"
      ],
      "execution_count": 19,
      "outputs": []
    },
    {
      "cell_type": "code",
      "metadata": {
        "colab": {
          "base_uri": "https://localhost:8080/",
          "height": 202
        },
        "id": "zmVIiiZNE5wP",
        "outputId": "bc302c05-9151-47e5-a0c6-0e694805b3c9"
      },
      "source": [
        "train_df.head()"
      ],
      "execution_count": 20,
      "outputs": [
        {
          "output_type": "execute_result",
          "data": {
            "text/html": [
              "<div>\n",
              "<style scoped>\n",
              "    .dataframe tbody tr th:only-of-type {\n",
              "        vertical-align: middle;\n",
              "    }\n",
              "\n",
              "    .dataframe tbody tr th {\n",
              "        vertical-align: top;\n",
              "    }\n",
              "\n",
              "    .dataframe thead th {\n",
              "        text-align: right;\n",
              "    }\n",
              "</style>\n",
              "<table border=\"1\" class=\"dataframe\">\n",
              "  <thead>\n",
              "    <tr style=\"text-align: right;\">\n",
              "      <th></th>\n",
              "      <th>text</th>\n",
              "      <th>target</th>\n",
              "    </tr>\n",
              "  </thead>\n",
              "  <tbody>\n",
              "    <tr>\n",
              "      <th>0</th>\n",
              "      <td>our deeds are the reason of this earthquake ma...</td>\n",
              "      <td>1</td>\n",
              "    </tr>\n",
              "    <tr>\n",
              "      <th>1</th>\n",
              "      <td>forest fire near la ronge sask canada</td>\n",
              "      <td>1</td>\n",
              "    </tr>\n",
              "    <tr>\n",
              "      <th>2</th>\n",
              "      <td>all residents asked to shelter in place are be...</td>\n",
              "      <td>1</td>\n",
              "    </tr>\n",
              "    <tr>\n",
              "      <th>3</th>\n",
              "      <td>13 000 people receive wildfires evacuation ord...</td>\n",
              "      <td>1</td>\n",
              "    </tr>\n",
              "    <tr>\n",
              "      <th>4</th>\n",
              "      <td>just got sent this photo from ruby alaska as s...</td>\n",
              "      <td>1</td>\n",
              "    </tr>\n",
              "  </tbody>\n",
              "</table>\n",
              "</div>"
            ],
            "text/plain": [
              "                                                text  target\n",
              "0  our deeds are the reason of this earthquake ma...       1\n",
              "1              forest fire near la ronge sask canada       1\n",
              "2  all residents asked to shelter in place are be...       1\n",
              "3  13 000 people receive wildfires evacuation ord...       1\n",
              "4  just got sent this photo from ruby alaska as s...       1"
            ]
          },
          "metadata": {
            "tags": []
          },
          "execution_count": 20
        }
      ]
    },
    {
      "cell_type": "code",
      "metadata": {
        "id": "3U-waQsVE8z_"
      },
      "source": [
        ""
      ],
      "execution_count": null,
      "outputs": []
    },
    {
      "cell_type": "markdown",
      "metadata": {
        "id": "K94VVAc5FEcx"
      },
      "source": [
        "**Train Test Split**"
      ]
    },
    {
      "cell_type": "code",
      "metadata": {
        "id": "LamnqkjqFHnG"
      },
      "source": [
        "from sklearn.model_selection import train_test_split\r\n",
        "\r\n",
        "train_X, test_X, train_y, test_y = train_test_split(train_df['text'], train_df['target'], \r\n",
        "                                                    test_size = 0.2, \r\n",
        "                                                    stratify = train_df['target'],\r\n",
        "                                                    random_state = 0)\r\n",
        "\r\n",
        "\r\n",
        "#train_X.shape, test_X.shape"
      ],
      "execution_count": 21,
      "outputs": []
    },
    {
      "cell_type": "code",
      "metadata": {
        "colab": {
          "base_uri": "https://localhost:8080/"
        },
        "id": "cKsRDX8fHFbG",
        "outputId": "817ea7ce-2943-49b7-b20a-e213dd640415"
      },
      "source": [
        "type(train_X)"
      ],
      "execution_count": 22,
      "outputs": [
        {
          "output_type": "execute_result",
          "data": {
            "text/plain": [
              "pandas.core.series.Series"
            ]
          },
          "metadata": {
            "tags": []
          },
          "execution_count": 22
        }
      ]
    },
    {
      "cell_type": "markdown",
      "metadata": {
        "id": "yC5K1ScHFpbr"
      },
      "source": [
        "### Text tokenization "
      ]
    },
    {
      "cell_type": "code",
      "metadata": {
        "id": "x68DZk5nFpJd"
      },
      "source": [
        "import tensorflow as tf\r\n",
        "from tensorflow.keras.preprocessing.text import Tokenizer\r\n"
      ],
      "execution_count": 23,
      "outputs": []
    },
    {
      "cell_type": "code",
      "metadata": {
        "id": "RlVtIwGzIXGB"
      },
      "source": [
        "# creating tokenizer\r\n",
        "VOCAB_SIZE = 5000\r\n",
        "tokenizer = Tokenizer(num_words= VOCAB_SIZE, oov_token='unk')\r\n",
        "\r\n",
        "# fit tokenizer on train data\r\n",
        "tokenizer.fit_on_texts(train_X)"
      ],
      "execution_count": 24,
      "outputs": []
    },
    {
      "cell_type": "code",
      "metadata": {
        "id": "pZExFpvrJmDv"
      },
      "source": [
        "# convert the train and test data with the tokenizer\r\n",
        "train_X = np.array(tokenizer.texts_to_sequences(train_X), dtype='object')\r\n",
        "test_X = np.array(tokenizer.texts_to_sequences(test_X),dtype='object')"
      ],
      "execution_count": 25,
      "outputs": []
    },
    {
      "cell_type": "code",
      "metadata": {
        "colab": {
          "base_uri": "https://localhost:8080/"
        },
        "id": "YZpxDFk4Jl0h",
        "outputId": "322a6ac9-1f5f-4209-f70d-8e06200bb944"
      },
      "source": [
        "train_X"
      ],
      "execution_count": 26,
      "outputs": [
        {
          "output_type": "execute_result",
          "data": {
            "text/plain": [
              "array([list([1, 2010, 2011, 4, 120, 31, 215, 926, 256, 148, 216, 217, 159, 62, 1, 3802]),\n",
              "       list([7, 66, 19, 118, 2, 2012, 5, 927, 2, 129, 154, 1790, 20, 3803, 3804, 28, 2, 1596]),\n",
              "       list([27, 1, 1791, 2, 1, 264, 257, 1447, 1, 8, 163, 3805, 2926, 1597, 5, 2, 1, 4, 107, 1]),\n",
              "       ..., list([965, 2046, 2485, 1, 477, 5, 156, 160, 12, 47, 193]),\n",
              "       list([7, 28, 427, 1, 7, 1051, 784, 11]),\n",
              "       list([3797, 116, 578, 5, 242, 4, 964, 1, 705, 141, 1, 1, 2, 172, 2011, 3672, 109, 5, 3797, 4, 964])],\n",
              "      dtype=object)"
            ]
          },
          "metadata": {
            "tags": []
          },
          "execution_count": 26
        }
      ]
    },
    {
      "cell_type": "code",
      "metadata": {
        "id": "PJNHVGzhKrog"
      },
      "source": [
        ""
      ],
      "execution_count": null,
      "outputs": []
    },
    {
      "cell_type": "markdown",
      "metadata": {
        "id": "TZeh1X94OL5P"
      },
      "source": [
        "**Padding**"
      ]
    },
    {
      "cell_type": "code",
      "metadata": {
        "colab": {
          "base_uri": "https://localhost:8080/"
        },
        "id": "zk_Xzv7mGbaU",
        "outputId": "ed74b571-b7aa-4f39-a091-ac7bc6da1a08"
      },
      "source": [
        "# Distribution of Lengths of the sequences\r\n",
        "text_lengths = [len(seq) for seq in train_X]\r\n",
        "\r\n",
        "print(f'Maximum Text Length: {max(text_lengths)}')\r\n",
        "print(f'Minimum Text Length: {min(text_lengths)}')\r\n",
        "print(f'Mean Text Length: {round(np.mean(text_lengths),3)}')"
      ],
      "execution_count": 27,
      "outputs": [
        {
          "output_type": "stream",
          "text": [
            "Maximum Text Length: 34\n",
            "Minimum Text Length: 1\n",
            "Mean Text Length: 14.166\n"
          ],
          "name": "stdout"
        }
      ]
    },
    {
      "cell_type": "code",
      "metadata": {
        "colab": {
          "base_uri": "https://localhost:8080/",
          "height": 268
        },
        "id": "yh84ViwCHyoP",
        "outputId": "8eb7cfd1-d82e-4994-ca46-73b1cb36fd09"
      },
      "source": [
        "plt.hist(text_lengths)\r\n",
        "plt.show()"
      ],
      "execution_count": 28,
      "outputs": [
        {
          "output_type": "display_data",
          "data": {
            "image/png": "[encoded data removed]",
            "text/plain": [
              "<Figure size 432x288 with 1 Axes>"
            ]
          },
          "metadata": {
            "tags": [],
            "needs_background": "light"
          }
        }
      ]
    },
    {
      "cell_type": "code",
      "metadata": {
        "id": "PEVcFdLNOO_B"
      },
      "source": [
        "# add the padding\r\n",
        "MAX_LENGTH = 20\r\n",
        "train_X = tf.keras.preprocessing.sequence.pad_sequences(train_X, maxlen=MAX_LENGTH, padding='post',truncating='post')\r\n",
        "test_X =  tf.keras.preprocessing.sequence.pad_sequences(test_X, maxlen=MAX_LENGTH, padding='post',truncating='post')"
      ],
      "execution_count": 29,
      "outputs": []
    },
    {
      "cell_type": "code",
      "metadata": {
        "colab": {
          "base_uri": "https://localhost:8080/"
        },
        "id": "pB0hi_qPPmCD",
        "outputId": "b2456117-0f7e-4871-d51e-5d8755c4364f"
      },
      "source": [
        "train_X[1]"
      ],
      "execution_count": 31,
      "outputs": [
        {
          "output_type": "execute_result",
          "data": {
            "text/plain": [
              "array([   7,   66,   19,  118,    2, 2012,    5,  927,    2,  129,  154,\n",
              "       1790,   20, 3803, 3804,   28,    2, 1596,    0,    0], dtype=int32)"
            ]
          },
          "metadata": {
            "tags": []
          },
          "execution_count": 31
        }
      ]
    },
    {
      "cell_type": "code",
      "metadata": {
        "id": "-6HaDy7DPnTA"
      },
      "source": [
        ""
      ],
      "execution_count": null,
      "outputs": []
    },
    {
      "cell_type": "markdown",
      "metadata": {
        "id": "qbuT4L6WPsUN"
      },
      "source": [
        "### Modeling"
      ]
    },
    {
      "cell_type": "code",
      "metadata": {
        "id": "6R-w50PHPzP-"
      },
      "source": [
        "from tensorflow.keras.models import Sequential\r\n",
        "from tensorflow.keras.layers import Input, LSTM, Dense, Embedding, Dropout"
      ],
      "execution_count": 32,
      "outputs": []
    },
    {
      "cell_type": "code",
      "metadata": {
        "id": "0zfliKHZQP2g"
      },
      "source": [
        "# create the model\r\n",
        "model = Sequential()\r\n",
        "model.add(Input(shape=(None,)))\r\n",
        "\r\n",
        "# Embedding layer\r\n",
        "model.add(Embedding(input_dim=VOCAB_SIZE, output_dim=100, input_length=MAX_LENGTH, mask_zero=True))\r\n",
        "\r\n",
        "# LSTM layer\r\n",
        "model.add(LSTM(units=50, go_backwards=True,dropout=0.2, return_sequences=False))\r\n",
        "#model.add(LSTM(units=20, go_backwards=False,dropout=0.2))\r\n",
        "# Dense layer\r\n",
        "model.add(Dense(512, activation='relu'))\r\n",
        "model.add(Dropout(0.4))\r\n",
        "\r\n",
        "model.add(Dense(1, activation='sigmoid'))"
      ],
      "execution_count": 47,
      "outputs": []
    },
    {
      "cell_type": "code",
      "metadata": {
        "colab": {
          "base_uri": "https://localhost:8080/"
        },
        "id": "Yi6V3moD88nc",
        "outputId": "14df9517-8fd1-4e25-ddb9-6170419cfd63"
      },
      "source": [
        "model.summary()"
      ],
      "execution_count": 48,
      "outputs": [
        {
          "output_type": "stream",
          "text": [
            "Model: \"sequential_4\"\n",
            "_________________________________________________________________\n",
            "Layer (type)                 Output Shape              Param #   \n",
            "=================================================================\n",
            "embedding_4 (Embedding)      (None, None, 100)         500000    \n",
            "_________________________________________________________________\n",
            "lstm_4 (LSTM)                (None, 50)                30200     \n",
            "_________________________________________________________________\n",
            "dense_8 (Dense)              (None, 512)               26112     \n",
            "_________________________________________________________________\n",
            "dropout_4 (Dropout)          (None, 512)               0         \n",
            "_________________________________________________________________\n",
            "dense_9 (Dense)              (None, 1)                 513       \n",
            "=================================================================\n",
            "Total params: 556,825\n",
            "Trainable params: 556,825\n",
            "Non-trainable params: 0\n",
            "_________________________________________________________________\n"
          ],
          "name": "stdout"
        }
      ]
    },
    {
      "cell_type": "code",
      "metadata": {
        "id": "JOl4I0nPQPzJ"
      },
      "source": [
        "# compile the model\r\n",
        "model.compile(tf.keras.optimizers.Adam(lr = 3e-4),loss='binary_crossentropy', metrics=['accuracy'])"
      ],
      "execution_count": 49,
      "outputs": []
    },
    {
      "cell_type": "code",
      "metadata": {
        "id": "dJ0ZGyOFUwyE"
      },
      "source": [
        "# add check points\r\n",
        "from tensorflow.keras.callbacks import ModelCheckpoint, EarlyStopping, ReduceLROnPlateau\r\n",
        "\r\n",
        "model_checkpoint = ModelCheckpoint(filepath='best_model.h5', monitor='val_loss',save_best_only=True, save_weights_only=True)\r\n",
        "er_stop = EarlyStopping(monitor='val_loss', min_delta=0.001,patience= 5, restore_best_weights=True)\r\n",
        "reduce_lr = ReduceLROnPlateau(monitor='val_loss', factor=0.2, min_delta=0.001, mode = 'min',\r\n",
        "                              patience=2,min_lr = 1e-6)\r\n"
      ],
      "execution_count": 50,
      "outputs": []
    },
    {
      "cell_type": "code",
      "metadata": {
        "colab": {
          "base_uri": "https://localhost:8080/"
        },
        "id": "ZV06oT0vT7db",
        "outputId": "4853b8c6-41fd-4c54-8c6a-05152c06f57a"
      },
      "source": [
        "history = model.fit(train_X, train_y,\r\n",
        "          batch_size=16, \r\n",
        "          epochs=50,\r\n",
        "          validation_split=0.2, \r\n",
        "          callbacks = [model_checkpoint, er_stop, reduce_lr])"
      ],
      "execution_count": 51,
      "outputs": [
        {
          "output_type": "stream",
          "text": [
            "Epoch 1/50\n",
            "301/301 [==============================] - 11s 26ms/step - loss: 0.6509 - accuracy: 0.6041 - val_loss: 0.4770 - val_accuracy: 0.7877\n",
            "Epoch 2/50\n",
            "301/301 [==============================] - 6s 21ms/step - loss: 0.3714 - accuracy: 0.8498 - val_loss: 0.4456 - val_accuracy: 0.8027\n",
            "Epoch 3/50\n",
            "301/301 [==============================] - 7s 22ms/step - loss: 0.2697 - accuracy: 0.9014 - val_loss: 0.4958 - val_accuracy: 0.7952\n",
            "Epoch 4/50\n",
            "301/301 [==============================] - 6s 22ms/step - loss: 0.2000 - accuracy: 0.9297 - val_loss: 0.5606 - val_accuracy: 0.7860\n",
            "Epoch 5/50\n",
            "301/301 [==============================] - 7s 22ms/step - loss: 0.1368 - accuracy: 0.9559 - val_loss: 0.6413 - val_accuracy: 0.7902\n",
            "Epoch 6/50\n",
            "301/301 [==============================] - 7s 22ms/step - loss: 0.1250 - accuracy: 0.9590 - val_loss: 0.6960 - val_accuracy: 0.7885\n",
            "Epoch 7/50\n",
            "301/301 [==============================] - 6s 21ms/step - loss: 0.1051 - accuracy: 0.9685 - val_loss: 0.7291 - val_accuracy: 0.7835\n"
          ],
          "name": "stdout"
        }
      ]
    },
    {
      "cell_type": "code",
      "metadata": {
        "colab": {
          "base_uri": "https://localhost:8080/"
        },
        "id": "WXs6DLC5eIEQ",
        "outputId": "6bfad05d-2401-4b38-b258-af241018e4ce"
      },
      "source": [
        "model.evaluate(test_X, test_y)"
      ],
      "execution_count": 52,
      "outputs": [
        {
          "output_type": "stream",
          "text": [
            "47/47 [==============================] - 0s 5ms/step - loss: 0.4565 - accuracy: 0.8035\n"
          ],
          "name": "stdout"
        },
        {
          "output_type": "execute_result",
          "data": {
            "text/plain": [
              "[0.4564518928527832, 0.8034643530845642]"
            ]
          },
          "metadata": {
            "tags": []
          },
          "execution_count": 52
        }
      ]
    },
    {
      "cell_type": "code",
      "metadata": {
        "id": "SI8Nb2JteH1b"
      },
      "source": [
        ""
      ],
      "execution_count": null,
      "outputs": []
    },
    {
      "cell_type": "markdown",
      "metadata": {
        "id": "oEy6palIf_oD"
      },
      "source": [
        "**Confusion matrix**"
      ]
    },
    {
      "cell_type": "code",
      "metadata": {
        "id": "6PHmWHYrT9ux"
      },
      "source": [
        "#prediction\r\n",
        "y_hat = model.predict(test_X)"
      ],
      "execution_count": 53,
      "outputs": []
    },
    {
      "cell_type": "code",
      "metadata": {
        "colab": {
          "base_uri": "https://localhost:8080/"
        },
        "id": "E-G4r3X8ihl0",
        "outputId": "fe3ef40e-76ff-490a-f41d-26d48ceee7cf"
      },
      "source": [
        "# AUC score\r\n",
        "from sklearn.metrics import roc_auc_score\r\n",
        "print(f'AUC score: {round(roc_auc_score(test_y, y_hat),3)}')"
      ],
      "execution_count": 54,
      "outputs": [
        {
          "output_type": "stream",
          "text": [
            "AUC score: 0.852\n"
          ],
          "name": "stdout"
        }
      ]
    },
    {
      "cell_type": "code",
      "metadata": {
        "id": "O4kRW34giiyj"
      },
      "source": [
        "from sklearn.metrics import confusion_matrix, classification_report\r\n",
        "y_class = np.round(y_hat).astype(int)"
      ],
      "execution_count": 55,
      "outputs": []
    },
    {
      "cell_type": "code",
      "metadata": {
        "colab": {
          "base_uri": "https://localhost:8080/"
        },
        "id": "jc16T_YGjQBj",
        "outputId": "26b43d41-17ef-41e3-e703-6f9a60c32341"
      },
      "source": [
        "conf_mat =confusion_matrix(test_y, y_class)\r\n",
        "conf_mat"
      ],
      "execution_count": 56,
      "outputs": [
        {
          "output_type": "execute_result",
          "data": {
            "text/plain": [
              "array([[776,  86],\n",
              "       [209, 430]])"
            ]
          },
          "metadata": {
            "tags": []
          },
          "execution_count": 56
        }
      ]
    },
    {
      "cell_type": "code",
      "metadata": {
        "id": "P4lFWd1ijQ30"
      },
      "source": [
        "import seaborn as sns "
      ],
      "execution_count": 57,
      "outputs": []
    },
    {
      "cell_type": "code",
      "metadata": {
        "colab": {
          "base_uri": "https://localhost:8080/",
          "height": 283
        },
        "id": "n3xHs3p3jn5S",
        "outputId": "387e7d77-cc85-48cd-a635-e1048818721a"
      },
      "source": [
        "sns.heatmap(conf_mat, cmap='Blues', annot=True, fmt= '.3g', cbar=False, )"
      ],
      "execution_count": 58,
      "outputs": [
        {
          "output_type": "execute_result",
          "data": {
            "text/plain": [
              "<matplotlib.axes._subplots.AxesSubplot at 0x7fb4cb097e80>"
            ]
          },
          "metadata": {
            "tags": []
          },
          "execution_count": 58
        },
        {
          "output_type": "display_data",
          "data": {
            "image/png": "[encoded data removed]",
            "text/plain": [
              "<Figure size 432x288 with 1 Axes>"
            ]
          },
          "metadata": {
            "tags": [],
            "needs_background": "light"
          }
        }
      ]
    },
    {
      "cell_type": "code",
      "metadata": {
        "colab": {
          "base_uri": "https://localhost:8080/"
        },
        "id": "4w8lPToojuAD",
        "outputId": "41fe42da-1c08-4992-8ea2-ae77b874a6e5"
      },
      "source": [
        "print(classification_report(test_y, y_class))"
      ],
      "execution_count": 59,
      "outputs": [
        {
          "output_type": "stream",
          "text": [
            "              precision    recall  f1-score   support\n",
            "\n",
            "           0       0.79      0.90      0.84       862\n",
            "           1       0.83      0.67      0.74       639\n",
            "\n",
            "    accuracy                           0.80      1501\n",
            "   macro avg       0.81      0.79      0.79      1501\n",
            "weighted avg       0.81      0.80      0.80      1501\n",
            "\n"
          ],
          "name": "stdout"
        }
      ]
    },
    {
      "cell_type": "code",
      "metadata": {
        "id": "EyeJEh93kNPV"
      },
      "source": [
        ""
      ],
      "execution_count": null,
      "outputs": []
    }
  ]
}
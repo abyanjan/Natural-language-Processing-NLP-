{
  "nbformat": 4,
  "nbformat_minor": 0,
  "metadata": {
    "colab": {
      "name": "Text classification with LSTM.ipynb",
      "provenance": [],
      "authorship_tag": "ABX9TyMkM5pw9n0PWLG3daLJeBb1",
      "include_colab_link": true
    },
    "kernelspec": {
      "name": "python3",
      "display_name": "Python 3"
    }
  },
  "cells": [
    {
      "cell_type": "markdown",
      "metadata": {
        "id": "view-in-github",
        "colab_type": "text"
      },
      "source": [
        "<a href=\"https://colab.research.google.com/github/abyanjan/Natural-language-Processing-NLP-/blob/master/Text_classification_with_LSTM.ipynb\" target=\"_parent\"><img src=\"https://colab.research.google.com/assets/colab-badge.svg\" alt=\"Open In Colab\"/></a>"
      ]
    },
    {
      "cell_type": "code",
      "metadata": {
        "colab": {
          "base_uri": "https://localhost:8080/"
        },
        "id": "BiNGtgRxyA0a",
        "outputId": "6a71ca03-e021-44a1-9b22-0115f45d44c4"
      },
      "source": [
        "!pip install emoji"
      ],
      "execution_count": 40,
      "outputs": [
        {
          "output_type": "stream",
          "text": [
            "Collecting emoji\n",
            "\u001b[?25l  Downloading https://files.pythonhosted.org/packages/24/fa/b3368f41b95a286f8d300e323449ab4e86b85334c2e0b477e94422b8ed0f/emoji-1.2.0-py3-none-any.whl (131kB)\n",
            "\r\u001b[K     |██▌                             | 10kB 13.5MB/s eta 0:00:01\r\u001b[K     |█████                           | 20kB 14.4MB/s eta 0:00:01\r\u001b[K     |███████▌                        | 30kB 7.7MB/s eta 0:00:01\r\u001b[K     |██████████                      | 40kB 7.7MB/s eta 0:00:01\r\u001b[K     |████████████▌                   | 51kB 4.4MB/s eta 0:00:01\r\u001b[K     |███████████████                 | 61kB 4.8MB/s eta 0:00:01\r\u001b[K     |█████████████████▌              | 71kB 5.0MB/s eta 0:00:01\r\u001b[K     |████████████████████            | 81kB 5.2MB/s eta 0:00:01\r\u001b[K     |██████████████████████▌         | 92kB 5.5MB/s eta 0:00:01\r\u001b[K     |█████████████████████████       | 102kB 5.7MB/s eta 0:00:01\r\u001b[K     |███████████████████████████▌    | 112kB 5.7MB/s eta 0:00:01\r\u001b[K     |██████████████████████████████  | 122kB 5.7MB/s eta 0:00:01\r\u001b[K     |████████████████████████████████| 133kB 5.7MB/s \n",
            "\u001b[?25hInstalling collected packages: emoji\n",
            "Successfully installed emoji-1.2.0\n"
          ],
          "name": "stdout"
        }
      ]
    },
    {
      "cell_type": "markdown",
      "metadata": {
        "id": "EvvgkJGQdh7o"
      },
      "source": [
        "**Dowloading data from kaggle**"
      ]
    },
    {
      "cell_type": "code",
      "metadata": {
        "id": "n5tXycx5afMA"
      },
      "source": [
        "!pip install -q kaggle"
      ],
      "execution_count": 1,
      "outputs": []
    },
    {
      "cell_type": "code",
      "metadata": {
        "id": "wt8wxA4ubm3Y"
      },
      "source": [
        "#from google.colab import files\r\n",
        "#files.upload()"
      ],
      "execution_count": null,
      "outputs": []
    },
    {
      "cell_type": "code",
      "metadata": {
        "id": "BfNymmxPbzeR"
      },
      "source": [
        "!mkdir ~/.kaggle"
      ],
      "execution_count": 2,
      "outputs": []
    },
    {
      "cell_type": "code",
      "metadata": {
        "id": "2eZCsddOcRux"
      },
      "source": [
        "! cp kaggle.json ~/.kaggle/"
      ],
      "execution_count": 3,
      "outputs": []
    },
    {
      "cell_type": "code",
      "metadata": {
        "id": "IF8M2J17cV59"
      },
      "source": [
        "! chmod 600 ~/.kaggle/kaggle.json"
      ],
      "execution_count": 4,
      "outputs": []
    },
    {
      "cell_type": "code",
      "metadata": {
        "id": "IyCn3NNbcefg"
      },
      "source": [
        "#! kaggle datasets list"
      ],
      "execution_count": null,
      "outputs": []
    },
    {
      "cell_type": "code",
      "metadata": {
        "colab": {
          "base_uri": "https://localhost:8080/"
        },
        "id": "9Smo1g3UcwsG",
        "outputId": "7b14da3a-2e4a-46dd-be2b-69d95cbd7f94"
      },
      "source": [
        "! kaggle competitions download -c 'nlp-getting-started'"
      ],
      "execution_count": 5,
      "outputs": [
        {
          "output_type": "stream",
          "text": [
            "Warning: Looks like you're using an outdated API Version, please consider updating (server 1.5.10 / client 1.5.4)\n",
            "Downloading train.csv to /content\n",
            "  0% 0.00/965k [00:00<?, ?B/s]\n",
            "100% 965k/965k [00:00<00:00, 31.0MB/s]\n",
            "Downloading test.csv to /content\n",
            "  0% 0.00/411k [00:00<?, ?B/s]\n",
            "100% 411k/411k [00:00<00:00, 124MB/s]\n",
            "Downloading sample_submission.csv to /content\n",
            "  0% 0.00/22.2k [00:00<?, ?B/s]\n",
            "100% 22.2k/22.2k [00:00<00:00, 21.8MB/s]\n"
          ],
          "name": "stdout"
        }
      ]
    },
    {
      "cell_type": "code",
      "metadata": {
        "id": "grSQFuxJyllZ"
      },
      "source": [
        ""
      ],
      "execution_count": null,
      "outputs": []
    },
    {
      "cell_type": "markdown",
      "metadata": {
        "id": "4Oy01ebPyzwk"
      },
      "source": [
        "## Data Processing"
      ]
    },
    {
      "cell_type": "code",
      "metadata": {
        "id": "gJU0pmYKylfJ"
      },
      "source": [
        "# Read data\r\n",
        "import pandas as pd\r\n",
        "import numpy as np"
      ],
      "execution_count": 6,
      "outputs": []
    },
    {
      "cell_type": "code",
      "metadata": {
        "colab": {
          "base_uri": "https://localhost:8080/",
          "height": 202
        },
        "id": "niqMudblylSq",
        "outputId": "f4af4a68-f22b-4667-8c18-9f5f5f5677ea"
      },
      "source": [
        "train_df = pd.read_csv('train.csv')\r\n",
        "train_df.head()"
      ],
      "execution_count": 7,
      "outputs": [
        {
          "output_type": "execute_result",
          "data": {
            "text/html": [
              "<div>\n",
              "<style scoped>\n",
              "    .dataframe tbody tr th:only-of-type {\n",
              "        vertical-align: middle;\n",
              "    }\n",
              "\n",
              "    .dataframe tbody tr th {\n",
              "        vertical-align: top;\n",
              "    }\n",
              "\n",
              "    .dataframe thead th {\n",
              "        text-align: right;\n",
              "    }\n",
              "</style>\n",
              "<table border=\"1\" class=\"dataframe\">\n",
              "  <thead>\n",
              "    <tr style=\"text-align: right;\">\n",
              "      <th></th>\n",
              "      <th>id</th>\n",
              "      <th>keyword</th>\n",
              "      <th>location</th>\n",
              "      <th>text</th>\n",
              "      <th>target</th>\n",
              "    </tr>\n",
              "  </thead>\n",
              "  <tbody>\n",
              "    <tr>\n",
              "      <th>0</th>\n",
              "      <td>1</td>\n",
              "      <td>NaN</td>\n",
              "      <td>NaN</td>\n",
              "      <td>Our Deeds are the Reason of this #earthquake M...</td>\n",
              "      <td>1</td>\n",
              "    </tr>\n",
              "    <tr>\n",
              "      <th>1</th>\n",
              "      <td>4</td>\n",
              "      <td>NaN</td>\n",
              "      <td>NaN</td>\n",
              "      <td>Forest fire near La Ronge Sask. Canada</td>\n",
              "      <td>1</td>\n",
              "    </tr>\n",
              "    <tr>\n",
              "      <th>2</th>\n",
              "      <td>5</td>\n",
              "      <td>NaN</td>\n",
              "      <td>NaN</td>\n",
              "      <td>All residents asked to 'shelter in place' are ...</td>\n",
              "      <td>1</td>\n",
              "    </tr>\n",
              "    <tr>\n",
              "      <th>3</th>\n",
              "      <td>6</td>\n",
              "      <td>NaN</td>\n",
              "      <td>NaN</td>\n",
              "      <td>13,000 people receive #wildfires evacuation or...</td>\n",
              "      <td>1</td>\n",
              "    </tr>\n",
              "    <tr>\n",
              "      <th>4</th>\n",
              "      <td>7</td>\n",
              "      <td>NaN</td>\n",
              "      <td>NaN</td>\n",
              "      <td>Just got sent this photo from Ruby #Alaska as ...</td>\n",
              "      <td>1</td>\n",
              "    </tr>\n",
              "  </tbody>\n",
              "</table>\n",
              "</div>"
            ],
            "text/plain": [
              "   id keyword  ...                                               text target\n",
              "0   1     NaN  ...  Our Deeds are the Reason of this #earthquake M...      1\n",
              "1   4     NaN  ...             Forest fire near La Ronge Sask. Canada      1\n",
              "2   5     NaN  ...  All residents asked to 'shelter in place' are ...      1\n",
              "3   6     NaN  ...  13,000 people receive #wildfires evacuation or...      1\n",
              "4   7     NaN  ...  Just got sent this photo from Ruby #Alaska as ...      1\n",
              "\n",
              "[5 rows x 5 columns]"
            ]
          },
          "metadata": {
            "tags": []
          },
          "execution_count": 7
        }
      ]
    },
    {
      "cell_type": "code",
      "metadata": {
        "id": "ZTpiGlo-ylPA"
      },
      "source": [
        "# taking only the required columns\r\n",
        "train_df = train_df[['text','target']]"
      ],
      "execution_count": 8,
      "outputs": []
    },
    {
      "cell_type": "code",
      "metadata": {
        "colab": {
          "base_uri": "https://localhost:8080/"
        },
        "id": "IKSt1syjzQLF",
        "outputId": "d3778619-6a19-4aac-bcbc-cf9e91d27dcb"
      },
      "source": [
        "print(f'Number of samples: {train_df.shape[0]}')"
      ],
      "execution_count": 9,
      "outputs": [
        {
          "output_type": "stream",
          "text": [
            "Number of samples: 7613\n"
          ],
          "name": "stdout"
        }
      ]
    },
    {
      "cell_type": "code",
      "metadata": {
        "colab": {
          "base_uri": "https://localhost:8080/",
          "height": 279
        },
        "id": "-qGT1p8uzeAT",
        "outputId": "5ae62172-aef0-4f4a-9fe7-bf96cbbcc797"
      },
      "source": [
        "# Target Distribution\r\n",
        "import matplotlib.pyplot as plt\r\n",
        "\r\n",
        "train_df.target.value_counts().plot(kind ='bar')\r\n",
        "#plt.bar()"
      ],
      "execution_count": 21,
      "outputs": [
        {
          "output_type": "execute_result",
          "data": {
            "text/plain": [
              "<matplotlib.axes._subplots.AxesSubplot at 0x7f2be6095c18>"
            ]
          },
          "metadata": {
            "tags": []
          },
          "execution_count": 21
        },
        {
          "output_type": "display_data",
          "data": {
            "image/png": "[encoded data removed]",
            "text/plain": [
              "<Figure size 432x288 with 1 Axes>"
            ]
          },
          "metadata": {
            "tags": [],
            "needs_background": "light"
          }
        }
      ]
    },
    {
      "cell_type": "markdown",
      "metadata": {
        "id": "zzqHgK2U1Ecs"
      },
      "source": [
        "**Checking for any duplicates in the text**"
      ]
    },
    {
      "cell_type": "code",
      "metadata": {
        "colab": {
          "base_uri": "https://localhost:8080/"
        },
        "id": "3jfXOGRZz7_N",
        "outputId": "fbf9964a-574b-4f3e-9a61-eaeff33e82ce"
      },
      "source": [
        "train_df['text'].duplicated().sum()"
      ],
      "execution_count": 23,
      "outputs": [
        {
          "output_type": "execute_result",
          "data": {
            "text/plain": [
              "110"
            ]
          },
          "metadata": {
            "tags": []
          },
          "execution_count": 23
        }
      ]
    },
    {
      "cell_type": "code",
      "metadata": {
        "id": "JOmGnDVP1U-P"
      },
      "source": [
        "# dropping the dupicated texts\r\n",
        "train_df = train_df.drop_duplicates('text', keep='last')"
      ],
      "execution_count": 24,
      "outputs": []
    },
    {
      "cell_type": "markdown",
      "metadata": {
        "id": "xdJDt_j41ovV"
      },
      "source": [
        "**Checking for any Null values**"
      ]
    },
    {
      "cell_type": "code",
      "metadata": {
        "colab": {
          "base_uri": "https://localhost:8080/"
        },
        "id": "GWCwls9a1n1c",
        "outputId": "ab1ea7a4-28b5-42f9-a19c-538255e63286"
      },
      "source": [
        "print(f\"Number of Null Values: {train_df['text'].isnull().sum()}\")"
      ],
      "execution_count": 25,
      "outputs": [
        {
          "output_type": "stream",
          "text": [
            "Number of Null Values: 0\n"
          ],
          "name": "stdout"
        }
      ]
    },
    {
      "cell_type": "code",
      "metadata": {
        "id": "hOSIDXuH2GpH"
      },
      "source": [
        ""
      ],
      "execution_count": null,
      "outputs": []
    },
    {
      "cell_type": "markdown",
      "metadata": {
        "id": "neeaQh5d2G9u"
      },
      "source": [
        "### Cleaning the Text"
      ]
    },
    {
      "cell_type": "code",
      "metadata": {
        "colab": {
          "base_uri": "https://localhost:8080/"
        },
        "id": "Kbe2404c2KEb",
        "outputId": "5f7beeb3-a065-4ddd-c1cb-42b23caf8acb"
      },
      "source": [
        "# checking few of the texts\r\n",
        "np.random.seed(123)\r\n",
        "for i in np.random.randint(0, len(train_df), 10):\r\n",
        "  print(train_df['text'][i], '\\n')"
      ],
      "execution_count": 38,
      "outputs": [
        {
          "output_type": "stream",
          "text": [
            "APD investigating fatal shooting of 3 year old child in southeast Anchorage http://t.co/qYccvUubkr \n",
            "\n",
            "holy crap @KingMyth1999 my phone just exploded. haha \n",
            "\n",
            "I will never support looting or the burning of buildings but when seeing the people fight back against the police. I was proud \n",
            "\n",
            "#HeartDisease U.S. Forest Service says spending more than half of budget on fires http://t.co/KzfiGkEeva \n",
            "\n",
            "I need an arcade shooter fix but CTE is empty &amp; only running obliteration. I'd even buy a CoD title if they weren't all overpriced on steam \n",
            "\n",
            "Long Road To Ruin - Foo Fighters \n",
            "\n",
            "FUCK NUCLEAR WEAPON \n",
            "\n",
            "#NowPlaying Last Smoke Before The Snowstorm by Benjamin Francis Leftwich - hopefully new album coming soon :) ? http://t.co/5kjy8G0i4y \n",
            "\n",
            "California oil spill might be larger than projected: http://t.co/xwxBYHTuzC http://t.co/wzeDxEFBlg \n",
            "\n",
            "'I'm there!' Bride &amp; Groom on mountain cliff edge. Ha Ha just kidding. I WILL NOT EVER be there. Ha Ha - http://t.co/Io9ry1akON \n",
            "\n"
          ],
          "name": "stdout"
        }
      ]
    },
    {
      "cell_type": "code",
      "metadata": {
        "id": "7EAgKGqW68V1"
      },
      "source": [
        "import re\r\n",
        "import emoji\r\n",
        "import nltk"
      ],
      "execution_count": 41,
      "outputs": []
    },
    {
      "cell_type": "code",
      "metadata": {
        "id": "8WeF1OhJ2Skw"
      },
      "source": [
        "# defining function to clean the text\r\n",
        "\r\n",
        "def clean_text(text):\r\n",
        "  text = re.sub(r\"(?:\\@|http?\\://|https?\\://|www)\\S+\", \"\", text) #Remove urls\r\n",
        "  text = re.sub(\"@[A-Za-z0-9]+\",\"\",text) #Remove @ sign\r\n",
        "  text = text.replace(\"#\", \"\") #Remove hashtag sign \r\n",
        "  #text = ''.join(w for w in text if w not in emoji.UNICODE_EMOJI) # remove emojis\r\n",
        "  text = re.sub(r\"[^a-zA-Z0-9]\", \" \", text.lower()) # remove any punctuations and convert to lower case\r\n",
        "  text = re.sub(' +', ' ', text) # remove any extra spaces\r\n",
        "\r\n",
        "  return text\r\n",
        " "
      ],
      "execution_count": 66,
      "outputs": []
    },
    {
      "cell_type": "code",
      "metadata": {
        "colab": {
          "base_uri": "https://localhost:8080/"
        },
        "id": "z_QvOA2W2ls9",
        "outputId": "7cac5ce1-c71b-4eca-a7de-fc7301fdeb4c"
      },
      "source": [
        "# checking the text after cleaning\r\n",
        "np.random.seed(123)\r\n",
        "for i in np.random.randint(0, len(train_df), 10):\r\n",
        "  text_after_clean = clean_text(train_df['text'][i])\r\n",
        "  print(text_after_clean, '\\n')"
      ],
      "execution_count": 67,
      "outputs": [
        {
          "output_type": "stream",
          "text": [
            "apd investigating fatal shooting of 3 year old child in southeast anchorage  \n",
            "\n",
            "holy crap my phone just exploded haha \n",
            "\n",
            "i will never support looting or the burning of buildings but when seeing the people fight back against the police i was proud \n",
            "\n",
            "heartdisease u s forest service says spending more than half of budget on fires  \n",
            "\n",
            "i need an arcade shooter fix but cte is empty amp only running obliteration i d even buy a cod title if they weren t all overpriced on steam \n",
            "\n",
            "long road to ruin foo fighters \n",
            "\n",
            "fuck nuclear weapon \n",
            "\n",
            "nowplaying last smoke before the snowstorm by benjamin francis leftwich hopefully new album coming soon  \n",
            "\n",
            "california oil spill might be larger than projected  \n",
            "\n",
            " i m there bride amp groom on mountain cliff edge ha ha just kidding i will not ever be there ha ha  \n",
            "\n"
          ],
          "name": "stdout"
        }
      ]
    },
    {
      "cell_type": "code",
      "metadata": {
        "id": "Jx8LDTSpDEQ_"
      },
      "source": [
        "# cleaning the whole text\r\n",
        "train_df['text'] = train_df['text'].apply(clean_text)"
      ],
      "execution_count": 68,
      "outputs": []
    },
    {
      "cell_type": "code",
      "metadata": {
        "colab": {
          "base_uri": "https://localhost:8080/",
          "height": 202
        },
        "id": "zmVIiiZNE5wP",
        "outputId": "1e3d1d27-5a91-439f-d27c-370d9c7fcb44"
      },
      "source": [
        "train_df.head()"
      ],
      "execution_count": 69,
      "outputs": [
        {
          "output_type": "execute_result",
          "data": {
            "text/html": [
              "<div>\n",
              "<style scoped>\n",
              "    .dataframe tbody tr th:only-of-type {\n",
              "        vertical-align: middle;\n",
              "    }\n",
              "\n",
              "    .dataframe tbody tr th {\n",
              "        vertical-align: top;\n",
              "    }\n",
              "\n",
              "    .dataframe thead th {\n",
              "        text-align: right;\n",
              "    }\n",
              "</style>\n",
              "<table border=\"1\" class=\"dataframe\">\n",
              "  <thead>\n",
              "    <tr style=\"text-align: right;\">\n",
              "      <th></th>\n",
              "      <th>text</th>\n",
              "      <th>target</th>\n",
              "    </tr>\n",
              "  </thead>\n",
              "  <tbody>\n",
              "    <tr>\n",
              "      <th>0</th>\n",
              "      <td>our deeds are the reason of this earthquake ma...</td>\n",
              "      <td>1</td>\n",
              "    </tr>\n",
              "    <tr>\n",
              "      <th>1</th>\n",
              "      <td>forest fire near la ronge sask canada</td>\n",
              "      <td>1</td>\n",
              "    </tr>\n",
              "    <tr>\n",
              "      <th>2</th>\n",
              "      <td>all residents asked to shelter in place are be...</td>\n",
              "      <td>1</td>\n",
              "    </tr>\n",
              "    <tr>\n",
              "      <th>3</th>\n",
              "      <td>13 000 people receive wildfires evacuation ord...</td>\n",
              "      <td>1</td>\n",
              "    </tr>\n",
              "    <tr>\n",
              "      <th>4</th>\n",
              "      <td>just got sent this photo from ruby alaska as s...</td>\n",
              "      <td>1</td>\n",
              "    </tr>\n",
              "  </tbody>\n",
              "</table>\n",
              "</div>"
            ],
            "text/plain": [
              "                                                text  target\n",
              "0  our deeds are the reason of this earthquake ma...       1\n",
              "1              forest fire near la ronge sask canada       1\n",
              "2  all residents asked to shelter in place are be...       1\n",
              "3  13 000 people receive wildfires evacuation ord...       1\n",
              "4  just got sent this photo from ruby alaska as s...       1"
            ]
          },
          "metadata": {
            "tags": []
          },
          "execution_count": 69
        }
      ]
    },
    {
      "cell_type": "code",
      "metadata": {
        "id": "3U-waQsVE8z_"
      },
      "source": [
        ""
      ],
      "execution_count": null,
      "outputs": []
    },
    {
      "cell_type": "markdown",
      "metadata": {
        "id": "K94VVAc5FEcx"
      },
      "source": [
        "**Train Test Split**"
      ]
    },
    {
      "cell_type": "code",
      "metadata": {
        "id": "LamnqkjqFHnG"
      },
      "source": [
        "from sklearn.model_selection import train_test_split\r\n",
        "\r\n",
        "train_X, test_X, train_y, test_y = train_test_split(train_df['text'], train_df['target'], \r\n",
        "                                                    test_size = 0.2, \r\n",
        "                                                    stratify = train_df['target'],\r\n",
        "                                                    random_state = 0)\r\n",
        "\r\n",
        "\r\n",
        "#train_X.shape, test_X.shape"
      ],
      "execution_count": 176,
      "outputs": []
    },
    {
      "cell_type": "code",
      "metadata": {
        "colab": {
          "base_uri": "https://localhost:8080/"
        },
        "id": "cKsRDX8fHFbG",
        "outputId": "d09c43fa-e43e-40d0-904d-65f1cfd34484"
      },
      "source": [
        "type(train_X)"
      ],
      "execution_count": 177,
      "outputs": [
        {
          "output_type": "execute_result",
          "data": {
            "text/plain": [
              "pandas.core.series.Series"
            ]
          },
          "metadata": {
            "tags": []
          },
          "execution_count": 177
        }
      ]
    },
    {
      "cell_type": "markdown",
      "metadata": {
        "id": "yC5K1ScHFpbr"
      },
      "source": [
        "### Text tokenization "
      ]
    },
    {
      "cell_type": "code",
      "metadata": {
        "id": "x68DZk5nFpJd"
      },
      "source": [
        "import tensorflow as tf\r\n",
        "from tensorflow.keras.preprocessing.text import Tokenizer\r\n"
      ],
      "execution_count": 85,
      "outputs": []
    },
    {
      "cell_type": "code",
      "metadata": {
        "id": "RlVtIwGzIXGB"
      },
      "source": [
        "# creating tokenizer\r\n",
        "VOCAB_SIZE = 10000\r\n",
        "tokenizer = Tokenizer(num_words= VOCAB_SIZE, oov_token='unk')\r\n",
        "\r\n",
        "# fit tokenizer on train data\r\n",
        "tokenizer.fit_on_texts(train_X)"
      ],
      "execution_count": 178,
      "outputs": []
    },
    {
      "cell_type": "code",
      "metadata": {
        "id": "pZExFpvrJmDv"
      },
      "source": [
        "# convert the train and test data with the tokenizer\r\n",
        "train_X = np.array(tokenizer.texts_to_sequences(train_X), dtype='object')\r\n",
        "test_X = np.array(tokenizer.texts_to_sequences(test_X),dtype='object')"
      ],
      "execution_count": 179,
      "outputs": []
    },
    {
      "cell_type": "code",
      "metadata": {
        "colab": {
          "base_uri": "https://localhost:8080/"
        },
        "id": "YZpxDFk4Jl0h",
        "outputId": "5e6593e4-76cc-4a0c-c517-1d3d81a4fa8d"
      },
      "source": [
        "train_X"
      ],
      "execution_count": 180,
      "outputs": [
        {
          "output_type": "execute_result",
          "data": {
            "text/plain": [
              "array([list([5631, 2010, 2011, 4, 120, 31, 215, 926, 256, 148, 216, 217, 159, 62, 5632, 3802]),\n",
              "       list([7, 66, 19, 118, 2, 2012, 5, 927, 2, 129, 154, 1790, 20, 3803, 3804, 28, 2, 1596]),\n",
              "       list([27, 5633, 1791, 2, 5634, 264, 257, 1447, 5635, 8, 163, 3805, 2926, 1597, 5, 2, 5636, 4, 107, 5637]),\n",
              "       ..., list([965, 2046, 2485, 1, 477, 5, 156, 160, 12, 47, 193]),\n",
              "       list([7, 28, 427, 1, 7, 1051, 784, 11]),\n",
              "       list([3797, 116, 578, 5, 242, 4, 964, 1, 705, 141, 1, 1, 2, 172, 2011, 3672, 109, 5, 3797, 4, 964])],\n",
              "      dtype=object)"
            ]
          },
          "metadata": {
            "tags": []
          },
          "execution_count": 180
        }
      ]
    },
    {
      "cell_type": "code",
      "metadata": {
        "id": "PJNHVGzhKrog"
      },
      "source": [
        ""
      ],
      "execution_count": null,
      "outputs": []
    },
    {
      "cell_type": "markdown",
      "metadata": {
        "id": "TZeh1X94OL5P"
      },
      "source": [
        "**Padding**"
      ]
    },
    {
      "cell_type": "code",
      "metadata": {
        "colab": {
          "base_uri": "https://localhost:8080/"
        },
        "id": "zk_Xzv7mGbaU",
        "outputId": "d6cb84a9-9c0f-41bb-9159-f9f7ca5caa73"
      },
      "source": [
        "# Distribution of Lengths of the sequences\r\n",
        "text_lengths = [len(seq) for seq in train_X]\r\n",
        "\r\n",
        "print(f'Maximum Text Length: {max(text_lengths)}')\r\n",
        "print(f'Minimum Text Length: {min(text_lengths)}')\r\n",
        "print(f'Mean Text Length: {round(np.mean(text_lengths),3)}')"
      ],
      "execution_count": 170,
      "outputs": [
        {
          "output_type": "stream",
          "text": [
            "Maximum Text Length: 34\n",
            "Minimum Text Length: 1\n",
            "Mean Text Length: 14.166\n"
          ],
          "name": "stdout"
        }
      ]
    },
    {
      "cell_type": "code",
      "metadata": {
        "colab": {
          "base_uri": "https://localhost:8080/",
          "height": 268
        },
        "id": "yh84ViwCHyoP",
        "outputId": "cbf80f64-7036-47c1-d0b7-0192734dd1be"
      },
      "source": [
        "plt.hist(text_lengths)\r\n",
        "plt.show()"
      ],
      "execution_count": 171,
      "outputs": [
        {
          "output_type": "display_data",
          "data": {
            "image/png": "[encoded data removed]",
            "text/plain": [
              "<Figure size 432x288 with 1 Axes>"
            ]
          },
          "metadata": {
            "tags": [],
            "needs_background": "light"
          }
        }
      ]
    },
    {
      "cell_type": "code",
      "metadata": {
        "id": "PEVcFdLNOO_B"
      },
      "source": [
        "# add the paddings\r\n",
        "train_X = tf.keras.preprocessing.sequence.pad_sequences(train_X, maxlen=34, padding='post',truncating='post')\r\n",
        "test_X =  tf.keras.preprocessing.sequence.pad_sequences(test_X, maxlen=34, padding='post',truncating='post')"
      ],
      "execution_count": 181,
      "outputs": []
    },
    {
      "cell_type": "code",
      "metadata": {
        "colab": {
          "base_uri": "https://localhost:8080/"
        },
        "id": "pB0hi_qPPmCD",
        "outputId": "6fbf8af2-4ea5-4a0a-965c-fcf2e7b5fd49"
      },
      "source": [
        "train_X[3]"
      ],
      "execution_count": 125,
      "outputs": [
        {
          "output_type": "execute_result",
          "data": {
            "text/plain": [
              "array([ 993,  541,    4,  682,   83,  201,    5, 1084,  721,   46,    7,\n",
              "        430,  928,    6,   15,  134, 1249,   72,  175,    7,  788,    0,\n",
              "          0,    0,    0,    0,    0,    0,    0,    0,    0,    0,    0,\n",
              "          0], dtype=int32)"
            ]
          },
          "metadata": {
            "tags": []
          },
          "execution_count": 125
        }
      ]
    },
    {
      "cell_type": "code",
      "metadata": {
        "id": "-6HaDy7DPnTA"
      },
      "source": [
        ""
      ],
      "execution_count": null,
      "outputs": []
    },
    {
      "cell_type": "markdown",
      "metadata": {
        "id": "qbuT4L6WPsUN"
      },
      "source": [
        "### Modeling"
      ]
    },
    {
      "cell_type": "code",
      "metadata": {
        "id": "6R-w50PHPzP-"
      },
      "source": [
        "from tensorflow.keras.models import Sequential\r\n",
        "from tensorflow.keras.layers import Input, LSTM, Dense, Embedding, Dropout"
      ],
      "execution_count": 128,
      "outputs": []
    },
    {
      "cell_type": "code",
      "metadata": {
        "id": "0zfliKHZQP2g"
      },
      "source": [
        "# create the model\r\n",
        "model = Sequential()\r\n",
        "model.add(Input(shape=(None,)))\r\n",
        "\r\n",
        "# Embedding layer\r\n",
        "model.add(Embedding(input_dim=VOCAB_SIZE, output_dim=100, mask_zero=True))\r\n",
        "\r\n",
        "# LSTM layer\r\n",
        "model.add(LSTM(units=20, go_backwards=True,dropout=0.2, return_sequences=False))\r\n",
        "#model.add(LSTM(units=20, go_backwards=False,dropout=0.2))\r\n",
        "# Dense layer\r\n",
        "model.add(Dense(500, activation='relu'))\r\n",
        "model.add(Dropout(0.4))\r\n",
        "\r\n",
        "model.add(Dense(1, activation='sigmoid'))"
      ],
      "execution_count": 191,
      "outputs": []
    },
    {
      "cell_type": "code",
      "metadata": {
        "id": "JOl4I0nPQPzJ"
      },
      "source": [
        "# compile the model\r\n",
        "model.compile(tf.keras.optimizers.Adam(lr = 3e-4),loss='binary_crossentropy', metrics=['accuracy'])"
      ],
      "execution_count": 192,
      "outputs": []
    },
    {
      "cell_type": "code",
      "metadata": {
        "id": "dJ0ZGyOFUwyE"
      },
      "source": [
        "# add check points\r\n",
        "from tensorflow.keras.callbacks import ModelCheckpoint, EarlyStopping\r\n",
        "\r\n",
        "model_checkpoint = ModelCheckpoint(filepath='best_model.h5', monitor='val_loss',save_best_only=True, save_weights_only=True)\r\n",
        "er_stop = EarlyStopping(monitor='val_loss', min_delta=0.001,patience=10, restore_best_weights=True)"
      ],
      "execution_count": 193,
      "outputs": []
    },
    {
      "cell_type": "code",
      "metadata": {
        "colab": {
          "base_uri": "https://localhost:8080/"
        },
        "id": "ZV06oT0vT7db",
        "outputId": "84692252-9957-4218-9f1e-ab996d3195ae"
      },
      "source": [
        "history = model.fit(train_X, train_y,\r\n",
        "          batch_size=16, \r\n",
        "          epochs=50,\r\n",
        "          validation_split=0.2, \r\n",
        "          callbacks = [model_checkpoint, er_stop])"
      ],
      "execution_count": 194,
      "outputs": [
        {
          "output_type": "stream",
          "text": [
            "Epoch 1/50\n",
            "301/301 [==============================] - 15s 37ms/step - loss: 0.6544 - accuracy: 0.6190 - val_loss: 0.4740 - val_accuracy: 0.7902\n",
            "Epoch 2/50\n",
            "301/301 [==============================] - 10s 33ms/step - loss: 0.3735 - accuracy: 0.8577 - val_loss: 0.4497 - val_accuracy: 0.8068\n",
            "Epoch 3/50\n",
            "301/301 [==============================] - 10s 33ms/step - loss: 0.2228 - accuracy: 0.9214 - val_loss: 0.5299 - val_accuracy: 0.7918\n",
            "Epoch 4/50\n",
            "301/301 [==============================] - 10s 33ms/step - loss: 0.1450 - accuracy: 0.9520 - val_loss: 0.6170 - val_accuracy: 0.7685\n",
            "Epoch 5/50\n",
            "301/301 [==============================] - 10s 33ms/step - loss: 0.0970 - accuracy: 0.9692 - val_loss: 0.7554 - val_accuracy: 0.7727\n",
            "Epoch 6/50\n",
            "301/301 [==============================] - 10s 33ms/step - loss: 0.0767 - accuracy: 0.9741 - val_loss: 0.8302 - val_accuracy: 0.7702\n",
            "Epoch 7/50\n",
            "301/301 [==============================] - 10s 33ms/step - loss: 0.0696 - accuracy: 0.9781 - val_loss: 0.8537 - val_accuracy: 0.7560\n",
            "Epoch 8/50\n",
            "301/301 [==============================] - 11s 35ms/step - loss: 0.0627 - accuracy: 0.9827 - val_loss: 0.8922 - val_accuracy: 0.7660\n",
            "Epoch 9/50\n",
            "301/301 [==============================] - 11s 35ms/step - loss: 0.0647 - accuracy: 0.9807 - val_loss: 0.9923 - val_accuracy: 0.7544\n",
            "Epoch 10/50\n",
            "301/301 [==============================] - 10s 33ms/step - loss: 0.0514 - accuracy: 0.9846 - val_loss: 0.8991 - val_accuracy: 0.7560\n",
            "Epoch 11/50\n",
            "301/301 [==============================] - 10s 33ms/step - loss: 0.0368 - accuracy: 0.9898 - val_loss: 0.8475 - val_accuracy: 0.7635\n",
            "Epoch 12/50\n",
            "301/301 [==============================] - 10s 33ms/step - loss: 0.0407 - accuracy: 0.9877 - val_loss: 0.8007 - val_accuracy: 0.7744\n"
          ],
          "name": "stdout"
        }
      ]
    },
    {
      "cell_type": "code",
      "metadata": {
        "colab": {
          "base_uri": "https://localhost:8080/"
        },
        "id": "WXs6DLC5eIEQ",
        "outputId": "923b7c8f-1ba7-436e-f086-89ff35d4d2a9"
      },
      "source": [
        "model.evaluate(test_X, test_y)"
      ],
      "execution_count": 195,
      "outputs": [
        {
          "output_type": "stream",
          "text": [
            "47/47 [==============================] - 0s 6ms/step - loss: 0.4538 - accuracy: 0.8041\n"
          ],
          "name": "stdout"
        },
        {
          "output_type": "execute_result",
          "data": {
            "text/plain": [
              "[0.45379260182380676, 0.8041305541992188]"
            ]
          },
          "metadata": {
            "tags": []
          },
          "execution_count": 195
        }
      ]
    },
    {
      "cell_type": "code",
      "metadata": {
        "id": "SI8Nb2JteH1b"
      },
      "source": [
        ""
      ],
      "execution_count": null,
      "outputs": []
    },
    {
      "cell_type": "markdown",
      "metadata": {
        "id": "oEy6palIf_oD"
      },
      "source": [
        "**Confusion matrix**"
      ]
    },
    {
      "cell_type": "code",
      "metadata": {
        "id": "6PHmWHYrT9ux"
      },
      "source": [
        "#prediction\r\n",
        "y_hat = model.predict(test_X)"
      ],
      "execution_count": 196,
      "outputs": []
    },
    {
      "cell_type": "code",
      "metadata": {
        "colab": {
          "base_uri": "https://localhost:8080/"
        },
        "id": "E-G4r3X8ihl0",
        "outputId": "8fb85657-f0e1-4d27-e06d-4727fef87a4e"
      },
      "source": [
        "# AUC score\r\n",
        "from sklearn.metrics import roc_auc_score\r\n",
        "print(f'AUC score: {round(roc_auc_score(test_y, y_hat),3)}')"
      ],
      "execution_count": 198,
      "outputs": [
        {
          "output_type": "stream",
          "text": [
            "AUC score: 0.86\n"
          ],
          "name": "stdout"
        }
      ]
    },
    {
      "cell_type": "code",
      "metadata": {
        "id": "O4kRW34giiyj"
      },
      "source": [
        "from sklearn.metrics import confusion_matrix, classification_report\r\n",
        "y_class = np.round(y_hat).astype(int)"
      ],
      "execution_count": 201,
      "outputs": []
    },
    {
      "cell_type": "code",
      "metadata": {
        "colab": {
          "base_uri": "https://localhost:8080/"
        },
        "id": "jc16T_YGjQBj",
        "outputId": "8d1c153a-9bb9-4f88-f6bc-da2ace49ab9f"
      },
      "source": [
        "conf_mat =confusion_matrix(test_y, y_class)\r\n",
        "conf_mat"
      ],
      "execution_count": 202,
      "outputs": [
        {
          "output_type": "execute_result",
          "data": {
            "text/plain": [
              "array([[771,  91],\n",
              "       [203, 436]])"
            ]
          },
          "metadata": {
            "tags": []
          },
          "execution_count": 202
        }
      ]
    },
    {
      "cell_type": "code",
      "metadata": {
        "id": "P4lFWd1ijQ30"
      },
      "source": [
        "import seaborn as sns "
      ],
      "execution_count": 203,
      "outputs": []
    },
    {
      "cell_type": "code",
      "metadata": {
        "colab": {
          "base_uri": "https://localhost:8080/",
          "height": 283
        },
        "id": "n3xHs3p3jn5S",
        "outputId": "b22f6492-49aa-4b1c-abc2-7899bf2766ec"
      },
      "source": [
        "sns.heatmap(conf_mat, cmap='Blues', annot=True, fmt= '.3g', cbar=False, )"
      ],
      "execution_count": 208,
      "outputs": [
        {
          "output_type": "execute_result",
          "data": {
            "text/plain": [
              "<matplotlib.axes._subplots.AxesSubplot at 0x7f2b8d4adcc0>"
            ]
          },
          "metadata": {
            "tags": []
          },
          "execution_count": 208
        },
        {
          "output_type": "display_data",
          "data": {
            "image/png": "[encoded data removed]",
            "text/plain": [
              "<Figure size 432x288 with 1 Axes>"
            ]
          },
          "metadata": {
            "tags": [],
            "needs_background": "light"
          }
        }
      ]
    },
    {
      "cell_type": "code",
      "metadata": {
        "colab": {
          "base_uri": "https://localhost:8080/"
        },
        "id": "4w8lPToojuAD",
        "outputId": "51d0f738-a441-4dd7-8d98-d41a9009b8c6"
      },
      "source": [
        "print(classification_report(test_y, y_class))"
      ],
      "execution_count": 209,
      "outputs": [
        {
          "output_type": "stream",
          "text": [
            "              precision    recall  f1-score   support\n",
            "\n",
            "           0       0.79      0.89      0.84       862\n",
            "           1       0.83      0.68      0.75       639\n",
            "\n",
            "    accuracy                           0.80      1501\n",
            "   macro avg       0.81      0.79      0.79      1501\n",
            "weighted avg       0.81      0.80      0.80      1501\n",
            "\n"
          ],
          "name": "stdout"
        }
      ]
    },
    {
      "cell_type": "code",
      "metadata": {
        "id": "EyeJEh93kNPV"
      },
      "source": [
        ""
      ],
      "execution_count": null,
      "outputs": []
    }
  ]
}
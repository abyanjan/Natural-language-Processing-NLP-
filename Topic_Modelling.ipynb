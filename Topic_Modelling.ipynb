{
  "nbformat": 4,
  "nbformat_minor": 0,
  "metadata": {
    "colab": {
      "name": "Topic Modelling.ipynb",
      "provenance": [],
      "authorship_tag": "ABX9TyMOTHVqTdajhlQ/Dh/83ODg",
      "include_colab_link": true
    },
    "kernelspec": {
      "name": "python3",
      "display_name": "Python 3"
    }
  },
  "cells": [
    {
      "cell_type": "markdown",
      "metadata": {
        "id": "view-in-github",
        "colab_type": "text"
      },
      "source": [
        "<a href=\"https://colab.research.google.com/github/abyanjan/Natural-language-Processing-NLP-/blob/master/Topic_Modelling.ipynb\" target=\"_parent\"><img src=\"https://colab.research.google.com/assets/colab-badge.svg\" alt=\"Open In Colab\"/></a>"
      ]
    },
    {
      "cell_type": "markdown",
      "metadata": {
        "id": "TJzHXaJx2MsJ",
        "colab_type": "text"
      },
      "source": [
        "## Topic Modelling "
      ]
    },
    {
      "cell_type": "code",
      "metadata": {
        "id": "ngTa9sNc2HoO",
        "colab_type": "code",
        "colab": {}
      },
      "source": [
        "import pandas as pd\n",
        "import numpy as np\n",
        "import matplotlib.pyplot as plt\n",
        "\n",
        "from sklearn.feature_extraction.text import TfidfVectorizer, CountVectorizer\n",
        "from sklearn import decomposition\n",
        "from sklearn.model_selection import train_test_split\n",
        "\n",
        "import re\n",
        "import nltk\n",
        "from nltk.stem.porter import PorterStemmer\n"
      ],
      "execution_count": 1,
      "outputs": []
    },
    {
      "cell_type": "code",
      "metadata": {
        "id": "2mPxBq-j3ljh",
        "colab_type": "code",
        "colab": {
          "base_uri": "https://localhost:8080/",
          "height": 69
        },
        "outputId": "1bb3e8b7-3e94-4596-e87b-d59824469061"
      },
      "source": [
        "nltk.download('punkt')"
      ],
      "execution_count": 2,
      "outputs": [
        {
          "output_type": "stream",
          "text": [
            "[nltk_data] Downloading package punkt to /root/nltk_data...\n",
            "[nltk_data]   Unzipping tokenizers/punkt.zip.\n"
          ],
          "name": "stdout"
        },
        {
          "output_type": "execute_result",
          "data": {
            "text/plain": [
              "True"
            ]
          },
          "metadata": {
            "tags": []
          },
          "execution_count": 2
        }
      ]
    },
    {
      "cell_type": "code",
      "metadata": {
        "id": "-bParm0G3ny3",
        "colab_type": "code",
        "colab": {}
      },
      "source": [
        "# Data\n",
        "df = pd.read_csv('https://github.com/srivatsan88/YouTubeLI/blob/master/dataset/consumer_compliants.zip?raw=true',compression='zip',sep=',',quotechar='\"')"
      ],
      "execution_count": 3,
      "outputs": []
    },
    {
      "cell_type": "code",
      "metadata": {
        "id": "Ko-Mcf7h4E5t",
        "colab_type": "code",
        "colab": {
          "base_uri": "https://localhost:8080/",
          "height": 638
        },
        "outputId": "5501038c-5b35-4c82-b099-f235cc0ef0d5"
      },
      "source": [
        "df.head()"
      ],
      "execution_count": null,
      "outputs": [
        {
          "output_type": "execute_result",
          "data": {
            "text/html": [
              "<div>\n",
              "<style scoped>\n",
              "    .dataframe tbody tr th:only-of-type {\n",
              "        vertical-align: middle;\n",
              "    }\n",
              "\n",
              "    .dataframe tbody tr th {\n",
              "        vertical-align: top;\n",
              "    }\n",
              "\n",
              "    .dataframe thead th {\n",
              "        text-align: right;\n",
              "    }\n",
              "</style>\n",
              "<table border=\"1\" class=\"dataframe\">\n",
              "  <thead>\n",
              "    <tr style=\"text-align: right;\">\n",
              "      <th></th>\n",
              "      <th>Date received</th>\n",
              "      <th>Product</th>\n",
              "      <th>Sub-product</th>\n",
              "      <th>Issue</th>\n",
              "      <th>Sub-issue</th>\n",
              "      <th>Consumer complaint narrative</th>\n",
              "      <th>Company public response</th>\n",
              "      <th>Company</th>\n",
              "      <th>State</th>\n",
              "      <th>ZIP code</th>\n",
              "      <th>Tags</th>\n",
              "      <th>Consumer consent provided?</th>\n",
              "      <th>Submitted via</th>\n",
              "      <th>Date sent to company</th>\n",
              "      <th>Company response to consumer</th>\n",
              "      <th>Timely response?</th>\n",
              "      <th>Consumer disputed?</th>\n",
              "      <th>Complaint ID</th>\n",
              "    </tr>\n",
              "  </thead>\n",
              "  <tbody>\n",
              "    <tr>\n",
              "      <th>0</th>\n",
              "      <td>4/3/2020</td>\n",
              "      <td>Vehicle loan or lease</td>\n",
              "      <td>Loan</td>\n",
              "      <td>Getting a loan or lease</td>\n",
              "      <td>Fraudulent loan</td>\n",
              "      <td>This auto loan was opened on XX/XX/2020 in XXX...</td>\n",
              "      <td>Company has responded to the consumer and the ...</td>\n",
              "      <td>TRUIST FINANCIAL CORPORATION</td>\n",
              "      <td>PA</td>\n",
              "      <td>None</td>\n",
              "      <td>None</td>\n",
              "      <td>Consent provided</td>\n",
              "      <td>Web</td>\n",
              "      <td>4/3/2020</td>\n",
              "      <td>Closed with explanation</td>\n",
              "      <td>Yes</td>\n",
              "      <td>NaN</td>\n",
              "      <td>3591341</td>\n",
              "    </tr>\n",
              "    <tr>\n",
              "      <th>1</th>\n",
              "      <td>3/12/2020</td>\n",
              "      <td>Debt collection</td>\n",
              "      <td>Payday loan debt</td>\n",
              "      <td>Attempts to collect debt not owed</td>\n",
              "      <td>Debt is not yours</td>\n",
              "      <td>In XXXX of 2019 I noticed a debt for {$620.00}...</td>\n",
              "      <td>None</td>\n",
              "      <td>CURO Intermediate Holdings</td>\n",
              "      <td>CO</td>\n",
              "      <td>806XX</td>\n",
              "      <td>None</td>\n",
              "      <td>Consent provided</td>\n",
              "      <td>Web</td>\n",
              "      <td>3/12/2020</td>\n",
              "      <td>Closed with explanation</td>\n",
              "      <td>Yes</td>\n",
              "      <td>NaN</td>\n",
              "      <td>3564184</td>\n",
              "    </tr>\n",
              "    <tr>\n",
              "      <th>2</th>\n",
              "      <td>2/6/2020</td>\n",
              "      <td>Vehicle loan or lease</td>\n",
              "      <td>Loan</td>\n",
              "      <td>Getting a loan or lease</td>\n",
              "      <td>Credit denial</td>\n",
              "      <td>As stated from Capital One, XXXX XX/XX/XXXX an...</td>\n",
              "      <td>None</td>\n",
              "      <td>CAPITAL ONE FINANCIAL CORPORATION</td>\n",
              "      <td>OH</td>\n",
              "      <td>430XX</td>\n",
              "      <td>None</td>\n",
              "      <td>Consent provided</td>\n",
              "      <td>Web</td>\n",
              "      <td>2/6/2020</td>\n",
              "      <td>Closed with explanation</td>\n",
              "      <td>Yes</td>\n",
              "      <td>NaN</td>\n",
              "      <td>3521949</td>\n",
              "    </tr>\n",
              "    <tr>\n",
              "      <th>3</th>\n",
              "      <td>3/6/2020</td>\n",
              "      <td>Checking or savings account</td>\n",
              "      <td>Savings account</td>\n",
              "      <td>Managing an account</td>\n",
              "      <td>Banking errors</td>\n",
              "      <td>Please see CFPB case XXXX. \\n\\nCapital One, in...</td>\n",
              "      <td>None</td>\n",
              "      <td>CAPITAL ONE FINANCIAL CORPORATION</td>\n",
              "      <td>CA</td>\n",
              "      <td>None</td>\n",
              "      <td>None</td>\n",
              "      <td>Consent provided</td>\n",
              "      <td>Web</td>\n",
              "      <td>3/6/2020</td>\n",
              "      <td>Closed with explanation</td>\n",
              "      <td>Yes</td>\n",
              "      <td>NaN</td>\n",
              "      <td>3556237</td>\n",
              "    </tr>\n",
              "    <tr>\n",
              "      <th>4</th>\n",
              "      <td>2/14/2020</td>\n",
              "      <td>Debt collection</td>\n",
              "      <td>Medical debt</td>\n",
              "      <td>Attempts to collect debt not owed</td>\n",
              "      <td>Debt is not yours</td>\n",
              "      <td>This debt was incurred due to medical malpract...</td>\n",
              "      <td>Company believes it acted appropriately as aut...</td>\n",
              "      <td>Merchants and Professional Bureau, Inc.</td>\n",
              "      <td>OH</td>\n",
              "      <td>432XX</td>\n",
              "      <td>None</td>\n",
              "      <td>Consent provided</td>\n",
              "      <td>Web</td>\n",
              "      <td>2/14/2020</td>\n",
              "      <td>Closed with explanation</td>\n",
              "      <td>Yes</td>\n",
              "      <td>NaN</td>\n",
              "      <td>3531704</td>\n",
              "    </tr>\n",
              "  </tbody>\n",
              "</table>\n",
              "</div>"
            ],
            "text/plain": [
              "  Date received                      Product  ... Consumer disputed? Complaint ID\n",
              "0      4/3/2020        Vehicle loan or lease  ...                NaN      3591341\n",
              "1     3/12/2020              Debt collection  ...                NaN      3564184\n",
              "2      2/6/2020        Vehicle loan or lease  ...                NaN      3521949\n",
              "3      3/6/2020  Checking or savings account  ...                NaN      3556237\n",
              "4     2/14/2020              Debt collection  ...                NaN      3531704\n",
              "\n",
              "[5 rows x 18 columns]"
            ]
          },
          "metadata": {
            "tags": []
          },
          "execution_count": 4
        }
      ]
    },
    {
      "cell_type": "markdown",
      "metadata": {
        "id": "YM8GoWBO5r7N",
        "colab_type": "text"
      },
      "source": [
        "Data is related to customer complaints made by customers in different services related to the banks."
      ]
    },
    {
      "cell_type": "code",
      "metadata": {
        "id": "OoENaEjV4FMO",
        "colab_type": "code",
        "colab": {
          "base_uri": "https://localhost:8080/",
          "height": 139
        },
        "outputId": "f346cc95-8e90-43ac-d26e-f6780be3bed9"
      },
      "source": [
        "df['Product'].value_counts()"
      ],
      "execution_count": null,
      "outputs": [
        {
          "output_type": "execute_result",
          "data": {
            "text/plain": [
              "Debt collection                21772\n",
              "Credit card or prepaid card    13193\n",
              "Mortgage                        9799\n",
              "Checking or savings account     7003\n",
              "Student loan                    2950\n",
              "Vehicle loan or lease           2736\n",
              "Name: Product, dtype: int64"
            ]
          },
          "metadata": {
            "tags": []
          },
          "execution_count": 5
        }
      ]
    },
    {
      "cell_type": "code",
      "metadata": {
        "id": "1OCBJIUK55yF",
        "colab_type": "code",
        "colab": {
          "base_uri": "https://localhost:8080/",
          "height": 225
        },
        "outputId": "c1ddab6f-d8a6-4d28-b292-29ab60c61913"
      },
      "source": [
        "df['Company'].value_counts()"
      ],
      "execution_count": null,
      "outputs": [
        {
          "output_type": "execute_result",
          "data": {
            "text/plain": [
              "CITIBANK, N.A.                                                 3226\n",
              "CAPITAL ONE FINANCIAL CORPORATION                              2711\n",
              "BANK OF AMERICA, NATIONAL ASSOCIATION                          2580\n",
              "JPMORGAN CHASE & CO.                                           2409\n",
              "WELLS FARGO & COMPANY                                          2001\n",
              "                                                               ... \n",
              "Rhodes, Kelly Assoc Inc                                           1\n",
              "Miller and Steeno, P.C.                                           1\n",
              "RABOBANK, NATIONAL ASSOCIATION                                    1\n",
              "KMD Partners, LLC                                                 1\n",
              "Citizens Savings & Loan Corporation, Chattanooga, TN Branch       1\n",
              "Name: Company, Length: 2197, dtype: int64"
            ]
          },
          "metadata": {
            "tags": []
          },
          "execution_count": 6
        }
      ]
    },
    {
      "cell_type": "code",
      "metadata": {
        "id": "jKbn6PIo59E1",
        "colab_type": "code",
        "colab": {}
      },
      "source": [
        "# selecting the columns and creating a new data\n",
        "complaint_df = df[['Consumer complaint narrative','Product','Company']].rename(columns = {'Consumer complaint narrative':'complaints'})"
      ],
      "execution_count": 4,
      "outputs": []
    },
    {
      "cell_type": "code",
      "metadata": {
        "id": "doflvszd6HOk",
        "colab_type": "code",
        "colab": {
          "base_uri": "https://localhost:8080/",
          "height": 72
        },
        "outputId": "7389c6c5-fd0b-4df4-d93c-b4c9fb802ad4"
      },
      "source": [
        "pd.set_option('display.max_colwidth', -1)"
      ],
      "execution_count": 5,
      "outputs": [
        {
          "output_type": "stream",
          "text": [
            "/usr/local/lib/python3.6/dist-packages/ipykernel_launcher.py:1: FutureWarning: Passing a negative integer is deprecated in version 1.0 and will not be supported in future version. Instead, use None to not limit the column width.\n",
            "  \"\"\"Entry point for launching an IPython kernel.\n"
          ],
          "name": "stderr"
        }
      ]
    },
    {
      "cell_type": "code",
      "metadata": {
        "id": "0Dhw43g56wzA",
        "colab_type": "code",
        "colab": {
          "base_uri": "https://localhost:8080/",
          "height": 601
        },
        "outputId": "3fb2a885-45ca-4b09-e360-ed067cd3bc35"
      },
      "source": [
        "complaint_df.head()"
      ],
      "execution_count": null,
      "outputs": [
        {
          "output_type": "execute_result",
          "data": {
            "text/html": [
              "<div>\n",
              "<style scoped>\n",
              "    .dataframe tbody tr th:only-of-type {\n",
              "        vertical-align: middle;\n",
              "    }\n",
              "\n",
              "    .dataframe tbody tr th {\n",
              "        vertical-align: top;\n",
              "    }\n",
              "\n",
              "    .dataframe thead th {\n",
              "        text-align: right;\n",
              "    }\n",
              "</style>\n",
              "<table border=\"1\" class=\"dataframe\">\n",
              "  <thead>\n",
              "    <tr style=\"text-align: right;\">\n",
              "      <th></th>\n",
              "      <th>complaints</th>\n",
              "      <th>Product</th>\n",
              "      <th>Company</th>\n",
              "    </tr>\n",
              "  </thead>\n",
              "  <tbody>\n",
              "    <tr>\n",
              "      <th>0</th>\n",
              "      <td>This auto loan was opened on XX/XX/2020 in XXXX, NC with BB &amp; T in my name. I have NEVER been to North Carolina and I have NEVER been a resident. I have filed a dispute twice through my credit bureaus but both times BB &amp; T has claimed that this is an accurate loan. Which I wasn't aware of until today. I have tried to contact BB &amp; T multiple times but I have never gotten through to a live person. I do n't drive and I have never owned a car before. I didn't have any knowledge of this account until I checked XXXXXXXX XXXX  and noticed it. I've tried twice to dispute it. Additionally I never received any bills or information about this account. This is my last resort in trying to remove this fraudulent loan off of my account.</td>\n",
              "      <td>Vehicle loan or lease</td>\n",
              "      <td>TRUIST FINANCIAL CORPORATION</td>\n",
              "    </tr>\n",
              "    <tr>\n",
              "      <th>1</th>\n",
              "      <td>In XXXX of 2019 I noticed a debt for {$620.00} on my credit which i believed was mine I thought speedy cash had bought one of my old debts and sold it to XXXX XXXX XXXX XXXX. I contacted XXXX XXXX XXXX XXXX and after several attempts of giving my full name, nothing came up in their system. I gave my social and the rep said the account popped up but DID NOT tell me that the account was under someone elses name and continued to let me make a payment. The payment was for {$120.00}. Confirmation number-XXXX. After realizing it was not my account, I called back to get my money back and inform them of the mistake. I was told i needed to mail them an FTC report and dispute letter to get my money back. I completed all of this and when i called again they said they transferred the account back to speedy cash for fraud review and I would need to contact them. After contacting them i was again told that i can not get my money back. The issue im having is this representative at XXXX XXXX played blind to obvious fraud and let an innocent person make a payment on someone elses debt and i want my money back.</td>\n",
              "      <td>Debt collection</td>\n",
              "      <td>CURO Intermediate Holdings</td>\n",
              "    </tr>\n",
              "    <tr>\n",
              "      <th>2</th>\n",
              "      <td>As stated from Capital One, XXXX XX/XX/XXXX and XXXX 2018, My wife and I went to several car dealerships to request for a car loan to get a used car. However, according to their credit requirements unfortunately my credit score was insufficient for the car loan approval at that time. It seemed as though they pulled my credit report multiple times.</td>\n",
              "      <td>Vehicle loan or lease</td>\n",
              "      <td>CAPITAL ONE FINANCIAL CORPORATION</td>\n",
              "    </tr>\n",
              "    <tr>\n",
              "      <th>3</th>\n",
              "      <td>Please see CFPB case XXXX. \\n\\nCapital One, in the letter they provided ( and attached to that case as their response ) said this : \" The funds were reversed and sent back to XXXX XXXX XXXX  on XX/XX/XXXX ''. \\n\\nXXXX XXXX XXXX  ( now XXXX XXXX  ) has not received these funds. Staff at XXXX XXXX  - and also staff at the account-holder 's business - have looked for return of my money ( {$650.00} ) and find nothing. \\n\\nCapital One needs to document - actually prove - they returned the funds, as stated in their letter. Capital One must provide electronic information, if the return was made that way, or document the paper check they sent back to XXXX XXXX. \\n\\nI've left 3 messages about this problem for the person who signed the letter ( XXXX ) from Capital One. I have received no call-backs. \\n\\nSummary : Capital One said they returned my money on XX/XX/XXXX : they did not. If they continue claim they did, then they need to prove that.</td>\n",
              "      <td>Checking or savings account</td>\n",
              "      <td>CAPITAL ONE FINANCIAL CORPORATION</td>\n",
              "    </tr>\n",
              "    <tr>\n",
              "      <th>4</th>\n",
              "      <td>This debt was incurred due to medical malpractice ( XXXX XXXX XXXX, XXXX, TX ). I asked the doctor to turn over my claim to his malpractice insurance company. This has cost me thousands of dollars to XXXX XXXX XXXX. I am still trying to collect damages from this doctor. He never responded and turned over me to collections Merchants and Professional Collection Bureau , Inc. I sent them a letter describing exactly this issue and instead of not contacting me and verifying my debt they start reporting this debt to the credit reporting agencies. They never verified the debt, like I asked and they never stopped it from being reported when I specifically told them not to, due to the circumstances above.</td>\n",
              "      <td>Debt collection</td>\n",
              "      <td>Merchants and Professional Bureau, Inc.</td>\n",
              "    </tr>\n",
              "  </tbody>\n",
              "</table>\n",
              "</div>"
            ],
            "text/plain": [
              "                                                                                                                                                                                                                                                                                                                                                                                                                                                                                                                                                                                                                                                                                                                                                                                                                                                                                                                                                                                                                                                                                                                                               complaints  ...                                  Company\n",
              "0  This auto loan was opened on XX/XX/2020 in XXXX, NC with BB & T in my name. I have NEVER been to North Carolina and I have NEVER been a resident. I have filed a dispute twice through my credit bureaus but both times BB & T has claimed that this is an accurate loan. Which I wasn't aware of until today. I have tried to contact BB & T multiple times but I have never gotten through to a live person. I do n't drive and I have never owned a car before. I didn't have any knowledge of this account until I checked XXXXXXXX XXXX  and noticed it. I've tried twice to dispute it. Additionally I never received any bills or information about this account. This is my last resort in trying to remove this fraudulent loan off of my account.                                                                                                                                                                                                                                                                                                                                                                                             ...  TRUIST FINANCIAL CORPORATION           \n",
              "1  In XXXX of 2019 I noticed a debt for {$620.00} on my credit which i believed was mine I thought speedy cash had bought one of my old debts and sold it to XXXX XXXX XXXX XXXX. I contacted XXXX XXXX XXXX XXXX and after several attempts of giving my full name, nothing came up in their system. I gave my social and the rep said the account popped up but DID NOT tell me that the account was under someone elses name and continued to let me make a payment. The payment was for {$120.00}. Confirmation number-XXXX. After realizing it was not my account, I called back to get my money back and inform them of the mistake. I was told i needed to mail them an FTC report and dispute letter to get my money back. I completed all of this and when i called again they said they transferred the account back to speedy cash for fraud review and I would need to contact them. After contacting them i was again told that i can not get my money back. The issue im having is this representative at XXXX XXXX played blind to obvious fraud and let an innocent person make a payment on someone elses debt and i want my money back.  ...  CURO Intermediate Holdings             \n",
              "2  As stated from Capital One, XXXX XX/XX/XXXX and XXXX 2018, My wife and I went to several car dealerships to request for a car loan to get a used car. However, according to their credit requirements unfortunately my credit score was insufficient for the car loan approval at that time. It seemed as though they pulled my credit report multiple times.                                                                                                                                                                                                                                                                                                                                                                                                                                                                                                                                                                                                                                                                                                                                                                                           ...  CAPITAL ONE FINANCIAL CORPORATION      \n",
              "3  Please see CFPB case XXXX. \\n\\nCapital One, in the letter they provided ( and attached to that case as their response ) said this : \" The funds were reversed and sent back to XXXX XXXX XXXX  on XX/XX/XXXX ''. \\n\\nXXXX XXXX XXXX  ( now XXXX XXXX  ) has not received these funds. Staff at XXXX XXXX  - and also staff at the account-holder 's business - have looked for return of my money ( {$650.00} ) and find nothing. \\n\\nCapital One needs to document - actually prove - they returned the funds, as stated in their letter. Capital One must provide electronic information, if the return was made that way, or document the paper check they sent back to XXXX XXXX. \\n\\nI've left 3 messages about this problem for the person who signed the letter ( XXXX ) from Capital One. I have received no call-backs. \\n\\nSummary : Capital One said they returned my money on XX/XX/XXXX : they did not. If they continue claim they did, then they need to prove that.                                                                                                                                                                     ...  CAPITAL ONE FINANCIAL CORPORATION      \n",
              "4  This debt was incurred due to medical malpractice ( XXXX XXXX XXXX, XXXX, TX ). I asked the doctor to turn over my claim to his malpractice insurance company. This has cost me thousands of dollars to XXXX XXXX XXXX. I am still trying to collect damages from this doctor. He never responded and turned over me to collections Merchants and Professional Collection Bureau , Inc. I sent them a letter describing exactly this issue and instead of not contacting me and verifying my debt they start reporting this debt to the credit reporting agencies. They never verified the debt, like I asked and they never stopped it from being reported when I specifically told them not to, due to the circumstances above.                                                                                                                                                                                                                                                                                                                                                                                                                       ...  Merchants and Professional Bureau, Inc.\n",
              "\n",
              "[5 rows x 3 columns]"
            ]
          },
          "metadata": {
            "tags": []
          },
          "execution_count": 10
        }
      ]
    },
    {
      "cell_type": "code",
      "metadata": {
        "id": "uaV1s9uz6znj",
        "colab_type": "code",
        "colab": {}
      },
      "source": [
        ""
      ],
      "execution_count": null,
      "outputs": []
    },
    {
      "cell_type": "markdown",
      "metadata": {
        "id": "wIH4zKNq6ZbO",
        "colab_type": "text"
      },
      "source": [
        "**Train Test Split**"
      ]
    },
    {
      "cell_type": "code",
      "metadata": {
        "id": "Jr4v8AlH6R56",
        "colab_type": "code",
        "colab": {}
      },
      "source": [
        "X_train, X_test = train_test_split(complaint_df, test_size = 0.5, random_state = 11)"
      ],
      "execution_count": 6,
      "outputs": []
    },
    {
      "cell_type": "code",
      "metadata": {
        "id": "2ijosS5X6R3E",
        "colab_type": "code",
        "colab": {
          "base_uri": "https://localhost:8080/",
          "height": 139
        },
        "outputId": "c40ea87b-6269-4468-aad9-2a8a3c43a7c7"
      },
      "source": [
        "X_train.Product.value_counts()"
      ],
      "execution_count": null,
      "outputs": [
        {
          "output_type": "execute_result",
          "data": {
            "text/plain": [
              "Debt collection                10882\n",
              "Credit card or prepaid card    6551 \n",
              "Mortgage                       4873 \n",
              "Checking or savings account    3527 \n",
              "Student loan                   1512 \n",
              "Vehicle loan or lease          1381 \n",
              "Name: Product, dtype: int64"
            ]
          },
          "metadata": {
            "tags": []
          },
          "execution_count": 11
        }
      ]
    },
    {
      "cell_type": "code",
      "metadata": {
        "id": "JvVCpsw-69fk",
        "colab_type": "code",
        "colab": {}
      },
      "source": [
        ""
      ],
      "execution_count": null,
      "outputs": []
    },
    {
      "cell_type": "markdown",
      "metadata": {
        "id": "pTVBDKBr8Q0g",
        "colab_type": "text"
      },
      "source": [
        "**Data Processing**"
      ]
    },
    {
      "cell_type": "code",
      "metadata": {
        "id": "JUiSvHAd7E-4",
        "colab_type": "code",
        "colab": {}
      },
      "source": [
        "# initialize stemming\n",
        "#stemmer = PorterStemmer()"
      ],
      "execution_count": null,
      "outputs": []
    },
    {
      "cell_type": "code",
      "metadata": {
        "id": "xyi-hRvRuXqj",
        "colab_type": "code",
        "colab": {}
      },
      "source": [
        "import spacy"
      ],
      "execution_count": 7,
      "outputs": []
    },
    {
      "cell_type": "code",
      "metadata": {
        "id": "V7Pz3jx_wf9u",
        "colab_type": "code",
        "colab": {}
      },
      "source": [
        "nlp = spacy.load(\"en_core_web_sm\")"
      ],
      "execution_count": 11,
      "outputs": []
    },
    {
      "cell_type": "code",
      "metadata": {
        "id": "Slo3vVy67I1E",
        "colab_type": "code",
        "colab": {}
      },
      "source": [
        "# word tokenization function\n",
        "def tokenize(text):\n",
        "  tokens = [word for word in nltk.word_tokenize(text) if (len(word) > 3 and len(word.strip('Xx/')) > 2 and len(re.sub('\\d+','', word.strip('Xx/'))) > 2)]\n",
        "  # lemmatization with spacy\n",
        "  doc = nlp(\" \".join(tokens))\n",
        "  #stems = [stemmer.stem(word) for word in tokens]\n",
        "  lemma_words = [word.lemma_ for word in doc]\n",
        "  return lemma_words"
      ],
      "execution_count": 31,
      "outputs": []
    },
    {
      "cell_type": "code",
      "metadata": {
        "id": "YU_c0TEJ7nrr",
        "colab_type": "code",
        "colab": {}
      },
      "source": [
        "# count vectorizer\n",
        "vectorizer = CountVectorizer(tokenizer=tokenize, stop_words='english', max_df=0.75, min_df=50, max_features=10000)"
      ],
      "execution_count": 34,
      "outputs": []
    },
    {
      "cell_type": "code",
      "metadata": {
        "id": "vjOZMC067n7E",
        "colab_type": "code",
        "colab": {
          "base_uri": "https://localhost:8080/",
          "height": 72
        },
        "outputId": "6b042e41-21d1-4a28-b6b2-ecfab7aa5819"
      },
      "source": [
        "train_vectors = vectorizer.fit_transform(X_train['complaints'])"
      ],
      "execution_count": 35,
      "outputs": [
        {
          "output_type": "stream",
          "text": [
            "/usr/local/lib/python3.6/dist-packages/sklearn/feature_extraction/text.py:385: UserWarning: Your stop_words may be inconsistent with your preprocessing. Tokenizing the stop words generated tokens ['-PRON-', 'make'] not in stop_words.\n",
            "  'stop_words.' % sorted(inconsistent))\n"
          ],
          "name": "stderr"
        }
      ]
    },
    {
      "cell_type": "code",
      "metadata": {
        "id": "VG_gI2y37nW2",
        "colab_type": "code",
        "colab": {
          "base_uri": "https://localhost:8080/",
          "height": 139
        },
        "outputId": "5929744d-9148-4030-b3b0-2721752842bc"
      },
      "source": [
        "train_vectors.A"
      ],
      "execution_count": 36,
      "outputs": [
        {
          "output_type": "execute_result",
          "data": {
            "text/plain": [
              "array([[0, 0, 0, ..., 0, 0, 0],\n",
              "       [0, 0, 0, ..., 0, 0, 0],\n",
              "       [0, 0, 0, ..., 0, 0, 0],\n",
              "       ...,\n",
              "       [0, 0, 0, ..., 0, 0, 0],\n",
              "       [0, 0, 0, ..., 0, 0, 0],\n",
              "       [0, 0, 0, ..., 0, 0, 0]])"
            ]
          },
          "metadata": {
            "tags": []
          },
          "execution_count": 36
        }
      ]
    },
    {
      "cell_type": "code",
      "metadata": {
        "id": "XAi-IKpP9GsA",
        "colab_type": "code",
        "colab": {
          "base_uri": "https://localhost:8080/",
          "height": 347
        },
        "outputId": "e50e33c1-94c5-410d-8f32-18236b77051b"
      },
      "source": [
        "vectorizer.get_feature_names()[1:20]"
      ],
      "execution_count": 37,
      "outputs": [
        {
          "output_type": "execute_result",
          "data": {
            "text/plain": [
              "['*',\n",
              " '-',\n",
              " '.',\n",
              " '..',\n",
              " '/',\n",
              " 'aadvantage',\n",
              " 'abide',\n",
              " 'ability',\n",
              " 'able',\n",
              " 'abruptly',\n",
              " 'absolute',\n",
              " 'absolutely',\n",
              " 'absurd',\n",
              " 'abuse',\n",
              " 'abusive',\n",
              " 'accelerate',\n",
              " 'accept',\n",
              " 'acceptable',\n",
              " 'acceptance']"
            ]
          },
          "metadata": {
            "tags": []
          },
          "execution_count": 37
        }
      ]
    },
    {
      "cell_type": "code",
      "metadata": {
        "id": "CKug0M8893xU",
        "colab_type": "code",
        "colab": {}
      },
      "source": [
        ""
      ],
      "execution_count": null,
      "outputs": []
    },
    {
      "cell_type": "markdown",
      "metadata": {
        "id": "AwTzWeeZ_SM9",
        "colab_type": "text"
      },
      "source": [
        "## Topic Modelling with LDA (Latent Dirichlet Allocation)\n",
        "\n",
        "\n"
      ]
    },
    {
      "cell_type": "code",
      "metadata": {
        "id": "BReDpcvJ_Xha",
        "colab_type": "code",
        "colab": {}
      },
      "source": [
        "lda = decomposition.LatentDirichletAllocation(n_components=6, max_iter=10,learning_method='online', learning_offset=50,n_jobs=-1, random_state=111)"
      ],
      "execution_count": 38,
      "outputs": []
    },
    {
      "cell_type": "code",
      "metadata": {
        "id": "3C0Fpb95_X3r",
        "colab_type": "code",
        "colab": {
          "base_uri": "https://localhost:8080/",
          "height": 243
        },
        "outputId": "bb083fb6-a6e2-4269-88ce-a7bc387f9bda"
      },
      "source": [
        "# probability of a document belonging to the 6 topics\n",
        "topic_weights = lda.fit_transform(train_vectors)\n",
        "topic_weights"
      ],
      "execution_count": 39,
      "outputs": [
        {
          "output_type": "execute_result",
          "data": {
            "text/plain": [
              "array([[0.00542894, 0.64761597, 0.03868751, 0.00541285, 0.29743759,\n",
              "        0.00541714],\n",
              "       [0.38216682, 0.00184237, 0.00184893, 0.00184933, 0.00183886,\n",
              "        0.61045369],\n",
              "       [0.47790268, 0.25308094, 0.00236216, 0.06515623, 0.00238013,\n",
              "        0.19911786],\n",
              "       ...,\n",
              "       [0.00371151, 0.00371517, 0.19748551, 0.00371815, 0.00372238,\n",
              "        0.78764727],\n",
              "       [0.00671001, 0.00671333, 0.0066974 , 0.57648036, 0.39671026,\n",
              "        0.00668864],\n",
              "       [0.00351633, 0.00350472, 0.00350562, 0.27788607, 0.53340237,\n",
              "        0.17818488]])"
            ]
          },
          "metadata": {
            "tags": []
          },
          "execution_count": 39
        }
      ]
    },
    {
      "cell_type": "code",
      "metadata": {
        "id": "zr-uj31DAcsU",
        "colab_type": "code",
        "colab": {}
      },
      "source": [
        "# lda components\n",
        "components = lda.components_"
      ],
      "execution_count": 40,
      "outputs": []
    },
    {
      "cell_type": "code",
      "metadata": {
        "id": "p5PGrnyrBRrj",
        "colab_type": "code",
        "colab": {}
      },
      "source": [
        ""
      ],
      "execution_count": null,
      "outputs": []
    },
    {
      "cell_type": "code",
      "metadata": {
        "id": "fPTxirwJBmUR",
        "colab_type": "code",
        "colab": {}
      },
      "source": [
        "# taking top 15 words from each topic\n",
        "num_words = 15\n",
        "\n",
        "# vocabulary of all the words\n",
        "vocab = np.array(vectorizer.get_feature_names())\n",
        "\n",
        "# function to extract top words\n",
        "top_words = lambda t: [vocab[i] for i in np.argsort(t)[:-num_words-1:-1]]\n",
        "\n",
        "topic_words = ([top_words(t) for t in components])\n",
        "topic_words = [\" \".join(t) for t in topic_words]"
      ],
      "execution_count": 41,
      "outputs": []
    },
    {
      "cell_type": "code",
      "metadata": {
        "id": "h3iqu1W_7J54",
        "colab_type": "code",
        "colab": {
          "base_uri": "https://localhost:8080/",
          "height": 121
        },
        "outputId": "1da1f157-9e35-4a53-a686-98ea75712a9e"
      },
      "source": [
        "topic_words"
      ],
      "execution_count": 42,
      "outputs": [
        {
          "output_type": "execute_result",
          "data": {
            "text/plain": [
              "['account card tell say time credit phone number ask receive close send chase bank speak',\n",
              " 'bank charge account check card transaction dispute fund receive claim purchase deposit make fraud america',\n",
              " 'payment pay make month late receive mortgage account balance time send insurance tell statement loan',\n",
              " 'debt collection letter send company provide receive request information state contact collect claim dispute proof',\n",
              " 'credit report account remove information company debt identity theft collection score open dispute balance reporting',\n",
              " 'loan mortgage home - year time property work document rate make tell income modification state']"
            ]
          },
          "metadata": {
            "tags": []
          },
          "execution_count": 42
        }
      ]
    },
    {
      "cell_type": "code",
      "metadata": {
        "id": "bJFIibo7B3dC",
        "colab_type": "code",
        "colab": {}
      },
      "source": [
        ""
      ],
      "execution_count": null,
      "outputs": []
    },
    {
      "cell_type": "markdown",
      "metadata": {
        "id": "3K1-N0yqGADt",
        "colab_type": "text"
      },
      "source": [
        "**Adding the topics to the data**"
      ]
    },
    {
      "cell_type": "code",
      "metadata": {
        "id": "IvxVxR0QGJ44",
        "colab_type": "code",
        "colab": {}
      },
      "source": [
        "colnames = ['Topic'+str(i) for i in range(lda.n_components)]\n",
        "documents = ['Doc'+str(i) for i in range(len(X_train.complaints))]\n",
        "\n",
        "df_doc_topic = pd.DataFrame(np.round(topic_weights,2), columns=colnames, index=documents)\n",
        "\n",
        "top_topic = np.argmax(df_doc_topic.values, axis=1)\n",
        "df_doc_topic['Dominant_topic'] = top_topic"
      ],
      "execution_count": 43,
      "outputs": []
    },
    {
      "cell_type": "code",
      "metadata": {
        "id": "lfE0oElZHuSh",
        "colab_type": "code",
        "colab": {
          "base_uri": "https://localhost:8080/",
          "height": 415
        },
        "outputId": "96e1b63c-e85d-41db-f709-aaea1698ef88"
      },
      "source": [
        "df_doc_topic"
      ],
      "execution_count": 44,
      "outputs": [
        {
          "output_type": "execute_result",
          "data": {
            "text/html": [
              "<div>\n",
              "<style scoped>\n",
              "    .dataframe tbody tr th:only-of-type {\n",
              "        vertical-align: middle;\n",
              "    }\n",
              "\n",
              "    .dataframe tbody tr th {\n",
              "        vertical-align: top;\n",
              "    }\n",
              "\n",
              "    .dataframe thead th {\n",
              "        text-align: right;\n",
              "    }\n",
              "</style>\n",
              "<table border=\"1\" class=\"dataframe\">\n",
              "  <thead>\n",
              "    <tr style=\"text-align: right;\">\n",
              "      <th></th>\n",
              "      <th>Topic0</th>\n",
              "      <th>Topic1</th>\n",
              "      <th>Topic2</th>\n",
              "      <th>Topic3</th>\n",
              "      <th>Topic4</th>\n",
              "      <th>Topic5</th>\n",
              "      <th>Dominant_topic</th>\n",
              "    </tr>\n",
              "  </thead>\n",
              "  <tbody>\n",
              "    <tr>\n",
              "      <th>Doc0</th>\n",
              "      <td>0.01</td>\n",
              "      <td>0.65</td>\n",
              "      <td>0.04</td>\n",
              "      <td>0.01</td>\n",
              "      <td>0.30</td>\n",
              "      <td>0.01</td>\n",
              "      <td>1</td>\n",
              "    </tr>\n",
              "    <tr>\n",
              "      <th>Doc1</th>\n",
              "      <td>0.38</td>\n",
              "      <td>0.00</td>\n",
              "      <td>0.00</td>\n",
              "      <td>0.00</td>\n",
              "      <td>0.00</td>\n",
              "      <td>0.61</td>\n",
              "      <td>5</td>\n",
              "    </tr>\n",
              "    <tr>\n",
              "      <th>Doc2</th>\n",
              "      <td>0.48</td>\n",
              "      <td>0.25</td>\n",
              "      <td>0.00</td>\n",
              "      <td>0.07</td>\n",
              "      <td>0.00</td>\n",
              "      <td>0.20</td>\n",
              "      <td>0</td>\n",
              "    </tr>\n",
              "    <tr>\n",
              "      <th>Doc3</th>\n",
              "      <td>0.06</td>\n",
              "      <td>0.00</td>\n",
              "      <td>0.92</td>\n",
              "      <td>0.00</td>\n",
              "      <td>0.00</td>\n",
              "      <td>0.00</td>\n",
              "      <td>2</td>\n",
              "    </tr>\n",
              "    <tr>\n",
              "      <th>Doc4</th>\n",
              "      <td>0.00</td>\n",
              "      <td>0.00</td>\n",
              "      <td>0.00</td>\n",
              "      <td>0.28</td>\n",
              "      <td>0.70</td>\n",
              "      <td>0.00</td>\n",
              "      <td>4</td>\n",
              "    </tr>\n",
              "    <tr>\n",
              "      <th>...</th>\n",
              "      <td>...</td>\n",
              "      <td>...</td>\n",
              "      <td>...</td>\n",
              "      <td>...</td>\n",
              "      <td>...</td>\n",
              "      <td>...</td>\n",
              "      <td>...</td>\n",
              "    </tr>\n",
              "    <tr>\n",
              "      <th>Doc28721</th>\n",
              "      <td>0.26</td>\n",
              "      <td>0.68</td>\n",
              "      <td>0.00</td>\n",
              "      <td>0.05</td>\n",
              "      <td>0.00</td>\n",
              "      <td>0.00</td>\n",
              "      <td>1</td>\n",
              "    </tr>\n",
              "    <tr>\n",
              "      <th>Doc28722</th>\n",
              "      <td>0.62</td>\n",
              "      <td>0.19</td>\n",
              "      <td>0.07</td>\n",
              "      <td>0.00</td>\n",
              "      <td>0.11</td>\n",
              "      <td>0.00</td>\n",
              "      <td>0</td>\n",
              "    </tr>\n",
              "    <tr>\n",
              "      <th>Doc28723</th>\n",
              "      <td>0.00</td>\n",
              "      <td>0.00</td>\n",
              "      <td>0.20</td>\n",
              "      <td>0.00</td>\n",
              "      <td>0.00</td>\n",
              "      <td>0.79</td>\n",
              "      <td>5</td>\n",
              "    </tr>\n",
              "    <tr>\n",
              "      <th>Doc28724</th>\n",
              "      <td>0.01</td>\n",
              "      <td>0.01</td>\n",
              "      <td>0.01</td>\n",
              "      <td>0.58</td>\n",
              "      <td>0.40</td>\n",
              "      <td>0.01</td>\n",
              "      <td>3</td>\n",
              "    </tr>\n",
              "    <tr>\n",
              "      <th>Doc28725</th>\n",
              "      <td>0.00</td>\n",
              "      <td>0.00</td>\n",
              "      <td>0.00</td>\n",
              "      <td>0.28</td>\n",
              "      <td>0.53</td>\n",
              "      <td>0.18</td>\n",
              "      <td>4</td>\n",
              "    </tr>\n",
              "  </tbody>\n",
              "</table>\n",
              "<p>28726 rows × 7 columns</p>\n",
              "</div>"
            ],
            "text/plain": [
              "          Topic0  Topic1  Topic2  Topic3  Topic4  Topic5  Dominant_topic\n",
              "Doc0      0.01    0.65    0.04    0.01    0.30    0.01    1             \n",
              "Doc1      0.38    0.00    0.00    0.00    0.00    0.61    5             \n",
              "Doc2      0.48    0.25    0.00    0.07    0.00    0.20    0             \n",
              "Doc3      0.06    0.00    0.92    0.00    0.00    0.00    2             \n",
              "Doc4      0.00    0.00    0.00    0.28    0.70    0.00    4             \n",
              "...        ...     ...     ...     ...     ...     ...   ..             \n",
              "Doc28721  0.26    0.68    0.00    0.05    0.00    0.00    1             \n",
              "Doc28722  0.62    0.19    0.07    0.00    0.11    0.00    0             \n",
              "Doc28723  0.00    0.00    0.20    0.00    0.00    0.79    5             \n",
              "Doc28724  0.01    0.01    0.01    0.58    0.40    0.01    3             \n",
              "Doc28725  0.00    0.00    0.00    0.28    0.53    0.18    4             \n",
              "\n",
              "[28726 rows x 7 columns]"
            ]
          },
          "metadata": {
            "tags": []
          },
          "execution_count": 44
        }
      ]
    },
    {
      "cell_type": "code",
      "metadata": {
        "id": "NPdGWTN4HvMP",
        "colab_type": "code",
        "colab": {}
      },
      "source": [
        ""
      ],
      "execution_count": null,
      "outputs": []
    },
    {
      "cell_type": "markdown",
      "metadata": {
        "id": "UNtdSZ8MIBu7",
        "colab_type": "text"
      },
      "source": [
        "**Applying the topic modeling to test data**"
      ]
    },
    {
      "cell_type": "code",
      "metadata": {
        "id": "IXtGLSYuIBBb",
        "colab_type": "code",
        "colab": {}
      },
      "source": [
        "# testing for first 5 rows\n",
        "test_topic_weights = lda.transform(vectorizer.transform(X_test.complaints[:5]))"
      ],
      "execution_count": null,
      "outputs": []
    },
    {
      "cell_type": "code",
      "metadata": {
        "id": "ztUZDM47IpFC",
        "colab_type": "code",
        "colab": {}
      },
      "source": [
        "colnames = ['Topic'+str(i) for i in range(lda.n_components)]\n",
        "documents = ['Doc'+str(i) for i in range(len(X_test.complaints[:5]))]\n",
        "\n",
        "df_doc_topic = pd.DataFrame(np.round(test_topic_weights,2), columns=colnames, index=documents)\n",
        "\n",
        "top_topic = np.argmax(df_doc_topic.values, axis=1)\n",
        "df_doc_topic['Dominant_topic'] = top_topic"
      ],
      "execution_count": null,
      "outputs": []
    },
    {
      "cell_type": "code",
      "metadata": {
        "id": "1IRLfrcUJ2Kh",
        "colab_type": "code",
        "colab": {}
      },
      "source": [
        ""
      ],
      "execution_count": null,
      "outputs": []
    },
    {
      "cell_type": "code",
      "metadata": {
        "id": "oD2bm0ECI7b_",
        "colab_type": "code",
        "colab": {}
      },
      "source": [
        ""
      ],
      "execution_count": null,
      "outputs": []
    },
    {
      "cell_type": "markdown",
      "metadata": {
        "id": "5Gh02iFI71rM",
        "colab_type": "text"
      },
      "source": [
        "## Topic Modelling with Truncated SVD"
      ]
    },
    {
      "cell_type": "code",
      "metadata": {
        "id": "wdd0pWPuJEiP",
        "colab_type": "code",
        "colab": {}
      },
      "source": [
        "from sklearn.decomposition import TruncatedSVD"
      ],
      "execution_count": 45,
      "outputs": []
    },
    {
      "cell_type": "code",
      "metadata": {
        "id": "Tbk13iam7-Ng",
        "colab_type": "code",
        "colab": {}
      },
      "source": [
        "trunc_SVD = TruncatedSVD(n_components=6, n_iter=10, random_state=12)"
      ],
      "execution_count": 46,
      "outputs": []
    },
    {
      "cell_type": "code",
      "metadata": {
        "id": "nPJL5BGH8HTT",
        "colab_type": "code",
        "colab": {
          "base_uri": "https://localhost:8080/",
          "height": 52
        },
        "outputId": "70f6b5de-cdc0-4b93-b58f-4004b333b036"
      },
      "source": [
        "trunc_SVD.fit(train_vectors)"
      ],
      "execution_count": 47,
      "outputs": [
        {
          "output_type": "execute_result",
          "data": {
            "text/plain": [
              "TruncatedSVD(algorithm='randomized', n_components=6, n_iter=10, random_state=12,\n",
              "             tol=0.0)"
            ]
          },
          "metadata": {
            "tags": []
          },
          "execution_count": 47
        }
      ]
    },
    {
      "cell_type": "code",
      "metadata": {
        "id": "nCdLk5sC8sq_",
        "colab_type": "code",
        "colab": {}
      },
      "source": [
        "components = trunc_SVD.components_"
      ],
      "execution_count": 65,
      "outputs": []
    },
    {
      "cell_type": "markdown",
      "metadata": {
        "id": "LIVjcNzOCGEN",
        "colab_type": "text"
      },
      "source": [
        "**Topics**"
      ]
    },
    {
      "cell_type": "code",
      "metadata": {
        "id": "r-iZvFNEAujs",
        "colab_type": "code",
        "colab": {}
      },
      "source": [
        "# taking top 15 words from each topic\n",
        "num_words = 15\n",
        "\n",
        "# vocabulary of all the words\n",
        "vocab = np.array(vectorizer.get_feature_names())\n",
        "\n",
        "# function to extract top words\n",
        "top_words = lambda t: [vocab[i] for i in np.argsort(t)[:-num_words-1:-1]]\n",
        "\n",
        "topic_words = ([top_words(t) for t in components])\n",
        "topic_words = [\" \".join(t) for t in topic_words]"
      ],
      "execution_count": 66,
      "outputs": []
    },
    {
      "cell_type": "code",
      "metadata": {
        "id": "DHK3AWrlAufE",
        "colab_type": "code",
        "colab": {
          "base_uri": "https://localhost:8080/",
          "height": 121
        },
        "outputId": "1e8e5c09-a84c-4e94-b7d2-2eddfe670495"
      },
      "source": [
        "topic_words"
      ],
      "execution_count": 67,
      "outputs": [
        {
          "output_type": "execute_result",
          "data": {
            "text/plain": [
              "['account payment credit loan receive make bank tell card time send say information charge mortgage',\n",
              " 'loan payment mortgage make home month property modification pay insurance - escrow document servicer year',\n",
              " 'debt credit report collection information provide company request dispute letter loan consumer agency state file',\n",
              " 'account bank loan check mortgage information deposit fund provide money state document - request property',\n",
              " 'card loan tell charge say bank receive email purchase ask time home fraud chase phone',\n",
              " 'loan credit account card report balance mortgage close student servicer open rate - application year']"
            ]
          },
          "metadata": {
            "tags": []
          },
          "execution_count": 67
        }
      ]
    },
    {
      "cell_type": "code",
      "metadata": {
        "id": "JbgJQ077BHql",
        "colab_type": "code",
        "colab": {}
      },
      "source": [
        ""
      ],
      "execution_count": null,
      "outputs": []
    },
    {
      "cell_type": "code",
      "metadata": {
        "id": "XtN4P46GBHm4",
        "colab_type": "code",
        "colab": {}
      },
      "source": [
        ""
      ],
      "execution_count": null,
      "outputs": []
    },
    {
      "cell_type": "markdown",
      "metadata": {
        "id": "wNMIh2BQBJ0V",
        "colab_type": "text"
      },
      "source": [
        "## Topic Modelling with NMF(Non negative Matrix Factorization)"
      ]
    },
    {
      "cell_type": "code",
      "metadata": {
        "id": "8LyK_lytBV83",
        "colab_type": "code",
        "colab": {}
      },
      "source": [
        "from sklearn.decomposition import NMF"
      ],
      "execution_count": 68,
      "outputs": []
    },
    {
      "cell_type": "code",
      "metadata": {
        "id": "KQMw0We3BY3v",
        "colab_type": "code",
        "colab": {}
      },
      "source": [
        "model = NMF(n_components=6, random_state=12)"
      ],
      "execution_count": 69,
      "outputs": []
    },
    {
      "cell_type": "code",
      "metadata": {
        "id": "HL8RkKoQBzf9",
        "colab_type": "code",
        "colab": {}
      },
      "source": [
        "W = model.fit_transform(train_vectors)"
      ],
      "execution_count": 70,
      "outputs": []
    },
    {
      "cell_type": "code",
      "metadata": {
        "id": "20sqCdGvB7MO",
        "colab_type": "code",
        "colab": {}
      },
      "source": [
        "components = model.components_"
      ],
      "execution_count": 72,
      "outputs": []
    },
    {
      "cell_type": "markdown",
      "metadata": {
        "id": "9GwiWEPkCCgW",
        "colab_type": "text"
      },
      "source": [
        "**Topics**"
      ]
    },
    {
      "cell_type": "code",
      "metadata": {
        "id": "t230gTl-B9e-",
        "colab_type": "code",
        "colab": {}
      },
      "source": [
        "# taking top 15 words from each topic\n",
        "num_words = 15\n",
        "\n",
        "# vocabulary of all the words\n",
        "vocab = np.array(vectorizer.get_feature_names())\n",
        "\n",
        "# function to extract top words\n",
        "top_words = lambda t: [vocab[i] for i in np.argsort(t)[:-num_words-1:-1]]\n",
        "\n",
        "topic_words = ([top_words(t) for t in components])\n",
        "topic_words = [\" \".join(t) for t in topic_words]"
      ],
      "execution_count": 73,
      "outputs": []
    },
    {
      "cell_type": "code",
      "metadata": {
        "id": "nByP5Oy4CNId",
        "colab_type": "code",
        "colab": {
          "base_uri": "https://localhost:8080/",
          "height": 121
        },
        "outputId": "f8ca3686-522c-40ae-88a4-c8e975da6dcb"
      },
      "source": [
        "topic_words"
      ],
      "execution_count": 74,
      "outputs": [
        {
          "output_type": "execute_result",
          "data": {
            "text/plain": [
              "['account bank check open close money deposit fund balance transfer fee information branch customer business',\n",
              " 'payment make month late pay mortgage time balance statement credit receive monthly apply date tell',\n",
              " 'debt credit report collection information company provide request consumer dispute letter send state agency creditor',\n",
              " 'card credit charge purchase balance report fraud make use dispute transaction capital citi time statement',\n",
              " 'tell receive say send time bank ask email letter phone state speak contact number need',\n",
              " 'loan mortgage - home property document request servicer year modification / rate provide date student']"
            ]
          },
          "metadata": {
            "tags": []
          },
          "execution_count": 74
        }
      ]
    }
  ]
}
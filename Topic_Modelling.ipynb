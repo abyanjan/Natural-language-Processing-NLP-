{
  "nbformat": 4,
  "nbformat_minor": 0,
  "metadata": {
    "colab": {
      "name": "Topic Modelling.ipynb",
      "provenance": [],
      "authorship_tag": "ABX9TyMN7FDuIMbDX6Z9DZpYtp2W",
      "include_colab_link": true
    },
    "kernelspec": {
      "name": "python3",
      "display_name": "Python 3"
    }
  },
  "cells": [
    {
      "cell_type": "markdown",
      "metadata": {
        "id": "view-in-github",
        "colab_type": "text"
      },
      "source": [
        "<a href=\"https://colab.research.google.com/github/abyanjan/Natural-language-Processing-NLP-/blob/master/Topic_Modelling.ipynb\" target=\"_parent\"><img src=\"https://colab.research.google.com/assets/colab-badge.svg\" alt=\"Open In Colab\"/></a>"
      ]
    },
    {
      "cell_type": "markdown",
      "metadata": {
        "id": "TJzHXaJx2MsJ",
        "colab_type": "text"
      },
      "source": [
        "## Topic Modelling Using LDA(Latent Dirichlet Allocation)"
      ]
    },
    {
      "cell_type": "code",
      "metadata": {
        "id": "ngTa9sNc2HoO",
        "colab_type": "code",
        "colab": {}
      },
      "source": [
        "import pandas as pd\n",
        "import numpy as np\n",
        "import matplotlib.pyplot as plt\n",
        "\n",
        "from sklearn.feature_extraction.text import TfidfVectorizer, CountVectorizer\n",
        "from sklearn import decomposition\n",
        "from sklearn.model_selection import train_test_split\n",
        "\n",
        "import re\n",
        "import nltk\n",
        "from nltk.stem.porter import PorterStemmer\n"
      ],
      "execution_count": 1,
      "outputs": []
    },
    {
      "cell_type": "code",
      "metadata": {
        "id": "2mPxBq-j3ljh",
        "colab_type": "code",
        "colab": {
          "base_uri": "https://localhost:8080/",
          "height": 69
        },
        "outputId": "986ce16b-f3bc-4a1f-b9d6-01c3ec839cd0"
      },
      "source": [
        "nltk.download('punkt')"
      ],
      "execution_count": 2,
      "outputs": [
        {
          "output_type": "stream",
          "text": [
            "[nltk_data] Downloading package punkt to /root/nltk_data...\n",
            "[nltk_data]   Unzipping tokenizers/punkt.zip.\n"
          ],
          "name": "stdout"
        },
        {
          "output_type": "execute_result",
          "data": {
            "text/plain": [
              "True"
            ]
          },
          "metadata": {
            "tags": []
          },
          "execution_count": 2
        }
      ]
    },
    {
      "cell_type": "code",
      "metadata": {
        "id": "-bParm0G3ny3",
        "colab_type": "code",
        "colab": {}
      },
      "source": [
        "# Data\n",
        "df = pd.read_csv('https://github.com/srivatsan88/YouTubeLI/blob/master/dataset/consumer_compliants.zip?raw=true',compression='zip',sep=',',quotechar='\"')"
      ],
      "execution_count": 3,
      "outputs": []
    },
    {
      "cell_type": "code",
      "metadata": {
        "id": "Ko-Mcf7h4E5t",
        "colab_type": "code",
        "colab": {
          "base_uri": "https://localhost:8080/",
          "height": 638
        },
        "outputId": "5501038c-5b35-4c82-b099-f235cc0ef0d5"
      },
      "source": [
        "df.head()"
      ],
      "execution_count": 4,
      "outputs": [
        {
          "output_type": "execute_result",
          "data": {
            "text/html": [
              "<div>\n",
              "<style scoped>\n",
              "    .dataframe tbody tr th:only-of-type {\n",
              "        vertical-align: middle;\n",
              "    }\n",
              "\n",
              "    .dataframe tbody tr th {\n",
              "        vertical-align: top;\n",
              "    }\n",
              "\n",
              "    .dataframe thead th {\n",
              "        text-align: right;\n",
              "    }\n",
              "</style>\n",
              "<table border=\"1\" class=\"dataframe\">\n",
              "  <thead>\n",
              "    <tr style=\"text-align: right;\">\n",
              "      <th></th>\n",
              "      <th>Date received</th>\n",
              "      <th>Product</th>\n",
              "      <th>Sub-product</th>\n",
              "      <th>Issue</th>\n",
              "      <th>Sub-issue</th>\n",
              "      <th>Consumer complaint narrative</th>\n",
              "      <th>Company public response</th>\n",
              "      <th>Company</th>\n",
              "      <th>State</th>\n",
              "      <th>ZIP code</th>\n",
              "      <th>Tags</th>\n",
              "      <th>Consumer consent provided?</th>\n",
              "      <th>Submitted via</th>\n",
              "      <th>Date sent to company</th>\n",
              "      <th>Company response to consumer</th>\n",
              "      <th>Timely response?</th>\n",
              "      <th>Consumer disputed?</th>\n",
              "      <th>Complaint ID</th>\n",
              "    </tr>\n",
              "  </thead>\n",
              "  <tbody>\n",
              "    <tr>\n",
              "      <th>0</th>\n",
              "      <td>4/3/2020</td>\n",
              "      <td>Vehicle loan or lease</td>\n",
              "      <td>Loan</td>\n",
              "      <td>Getting a loan or lease</td>\n",
              "      <td>Fraudulent loan</td>\n",
              "      <td>This auto loan was opened on XX/XX/2020 in XXX...</td>\n",
              "      <td>Company has responded to the consumer and the ...</td>\n",
              "      <td>TRUIST FINANCIAL CORPORATION</td>\n",
              "      <td>PA</td>\n",
              "      <td>None</td>\n",
              "      <td>None</td>\n",
              "      <td>Consent provided</td>\n",
              "      <td>Web</td>\n",
              "      <td>4/3/2020</td>\n",
              "      <td>Closed with explanation</td>\n",
              "      <td>Yes</td>\n",
              "      <td>NaN</td>\n",
              "      <td>3591341</td>\n",
              "    </tr>\n",
              "    <tr>\n",
              "      <th>1</th>\n",
              "      <td>3/12/2020</td>\n",
              "      <td>Debt collection</td>\n",
              "      <td>Payday loan debt</td>\n",
              "      <td>Attempts to collect debt not owed</td>\n",
              "      <td>Debt is not yours</td>\n",
              "      <td>In XXXX of 2019 I noticed a debt for {$620.00}...</td>\n",
              "      <td>None</td>\n",
              "      <td>CURO Intermediate Holdings</td>\n",
              "      <td>CO</td>\n",
              "      <td>806XX</td>\n",
              "      <td>None</td>\n",
              "      <td>Consent provided</td>\n",
              "      <td>Web</td>\n",
              "      <td>3/12/2020</td>\n",
              "      <td>Closed with explanation</td>\n",
              "      <td>Yes</td>\n",
              "      <td>NaN</td>\n",
              "      <td>3564184</td>\n",
              "    </tr>\n",
              "    <tr>\n",
              "      <th>2</th>\n",
              "      <td>2/6/2020</td>\n",
              "      <td>Vehicle loan or lease</td>\n",
              "      <td>Loan</td>\n",
              "      <td>Getting a loan or lease</td>\n",
              "      <td>Credit denial</td>\n",
              "      <td>As stated from Capital One, XXXX XX/XX/XXXX an...</td>\n",
              "      <td>None</td>\n",
              "      <td>CAPITAL ONE FINANCIAL CORPORATION</td>\n",
              "      <td>OH</td>\n",
              "      <td>430XX</td>\n",
              "      <td>None</td>\n",
              "      <td>Consent provided</td>\n",
              "      <td>Web</td>\n",
              "      <td>2/6/2020</td>\n",
              "      <td>Closed with explanation</td>\n",
              "      <td>Yes</td>\n",
              "      <td>NaN</td>\n",
              "      <td>3521949</td>\n",
              "    </tr>\n",
              "    <tr>\n",
              "      <th>3</th>\n",
              "      <td>3/6/2020</td>\n",
              "      <td>Checking or savings account</td>\n",
              "      <td>Savings account</td>\n",
              "      <td>Managing an account</td>\n",
              "      <td>Banking errors</td>\n",
              "      <td>Please see CFPB case XXXX. \\n\\nCapital One, in...</td>\n",
              "      <td>None</td>\n",
              "      <td>CAPITAL ONE FINANCIAL CORPORATION</td>\n",
              "      <td>CA</td>\n",
              "      <td>None</td>\n",
              "      <td>None</td>\n",
              "      <td>Consent provided</td>\n",
              "      <td>Web</td>\n",
              "      <td>3/6/2020</td>\n",
              "      <td>Closed with explanation</td>\n",
              "      <td>Yes</td>\n",
              "      <td>NaN</td>\n",
              "      <td>3556237</td>\n",
              "    </tr>\n",
              "    <tr>\n",
              "      <th>4</th>\n",
              "      <td>2/14/2020</td>\n",
              "      <td>Debt collection</td>\n",
              "      <td>Medical debt</td>\n",
              "      <td>Attempts to collect debt not owed</td>\n",
              "      <td>Debt is not yours</td>\n",
              "      <td>This debt was incurred due to medical malpract...</td>\n",
              "      <td>Company believes it acted appropriately as aut...</td>\n",
              "      <td>Merchants and Professional Bureau, Inc.</td>\n",
              "      <td>OH</td>\n",
              "      <td>432XX</td>\n",
              "      <td>None</td>\n",
              "      <td>Consent provided</td>\n",
              "      <td>Web</td>\n",
              "      <td>2/14/2020</td>\n",
              "      <td>Closed with explanation</td>\n",
              "      <td>Yes</td>\n",
              "      <td>NaN</td>\n",
              "      <td>3531704</td>\n",
              "    </tr>\n",
              "  </tbody>\n",
              "</table>\n",
              "</div>"
            ],
            "text/plain": [
              "  Date received                      Product  ... Consumer disputed? Complaint ID\n",
              "0      4/3/2020        Vehicle loan or lease  ...                NaN      3591341\n",
              "1     3/12/2020              Debt collection  ...                NaN      3564184\n",
              "2      2/6/2020        Vehicle loan or lease  ...                NaN      3521949\n",
              "3      3/6/2020  Checking or savings account  ...                NaN      3556237\n",
              "4     2/14/2020              Debt collection  ...                NaN      3531704\n",
              "\n",
              "[5 rows x 18 columns]"
            ]
          },
          "metadata": {
            "tags": []
          },
          "execution_count": 4
        }
      ]
    },
    {
      "cell_type": "markdown",
      "metadata": {
        "id": "YM8GoWBO5r7N",
        "colab_type": "text"
      },
      "source": [
        "Data is related to customer complaints made by customers in different services related to the banks."
      ]
    },
    {
      "cell_type": "code",
      "metadata": {
        "id": "OoENaEjV4FMO",
        "colab_type": "code",
        "colab": {
          "base_uri": "https://localhost:8080/",
          "height": 139
        },
        "outputId": "f346cc95-8e90-43ac-d26e-f6780be3bed9"
      },
      "source": [
        "df['Product'].value_counts()"
      ],
      "execution_count": 5,
      "outputs": [
        {
          "output_type": "execute_result",
          "data": {
            "text/plain": [
              "Debt collection                21772\n",
              "Credit card or prepaid card    13193\n",
              "Mortgage                        9799\n",
              "Checking or savings account     7003\n",
              "Student loan                    2950\n",
              "Vehicle loan or lease           2736\n",
              "Name: Product, dtype: int64"
            ]
          },
          "metadata": {
            "tags": []
          },
          "execution_count": 5
        }
      ]
    },
    {
      "cell_type": "code",
      "metadata": {
        "id": "1OCBJIUK55yF",
        "colab_type": "code",
        "colab": {
          "base_uri": "https://localhost:8080/",
          "height": 225
        },
        "outputId": "c1ddab6f-d8a6-4d28-b292-29ab60c61913"
      },
      "source": [
        "df['Company'].value_counts()"
      ],
      "execution_count": 6,
      "outputs": [
        {
          "output_type": "execute_result",
          "data": {
            "text/plain": [
              "CITIBANK, N.A.                                                 3226\n",
              "CAPITAL ONE FINANCIAL CORPORATION                              2711\n",
              "BANK OF AMERICA, NATIONAL ASSOCIATION                          2580\n",
              "JPMORGAN CHASE & CO.                                           2409\n",
              "WELLS FARGO & COMPANY                                          2001\n",
              "                                                               ... \n",
              "Rhodes, Kelly Assoc Inc                                           1\n",
              "Miller and Steeno, P.C.                                           1\n",
              "RABOBANK, NATIONAL ASSOCIATION                                    1\n",
              "KMD Partners, LLC                                                 1\n",
              "Citizens Savings & Loan Corporation, Chattanooga, TN Branch       1\n",
              "Name: Company, Length: 2197, dtype: int64"
            ]
          },
          "metadata": {
            "tags": []
          },
          "execution_count": 6
        }
      ]
    },
    {
      "cell_type": "code",
      "metadata": {
        "id": "jKbn6PIo59E1",
        "colab_type": "code",
        "colab": {}
      },
      "source": [
        "# selecting the columns and creating a new data\n",
        "complaint_df = df[['Consumer complaint narrative','Product','Company']].rename(columns = {'Consumer complaint narrative':'complaints'})"
      ],
      "execution_count": 7,
      "outputs": []
    },
    {
      "cell_type": "code",
      "metadata": {
        "id": "doflvszd6HOk",
        "colab_type": "code",
        "colab": {
          "base_uri": "https://localhost:8080/",
          "height": 72
        },
        "outputId": "790cb110-9d01-4ef4-e874-53f1008b3cec"
      },
      "source": [
        "pd.set_option('display.max_colwidth', -1)"
      ],
      "execution_count": 8,
      "outputs": [
        {
          "output_type": "stream",
          "text": [
            "/usr/local/lib/python3.6/dist-packages/ipykernel_launcher.py:1: FutureWarning: Passing a negative integer is deprecated in version 1.0 and will not be supported in future version. Instead, use None to not limit the column width.\n",
            "  \"\"\"Entry point for launching an IPython kernel.\n"
          ],
          "name": "stderr"
        }
      ]
    },
    {
      "cell_type": "code",
      "metadata": {
        "id": "0Dhw43g56wzA",
        "colab_type": "code",
        "colab": {
          "base_uri": "https://localhost:8080/",
          "height": 601
        },
        "outputId": "3fb2a885-45ca-4b09-e360-ed067cd3bc35"
      },
      "source": [
        "complaint_df.head()"
      ],
      "execution_count": 10,
      "outputs": [
        {
          "output_type": "execute_result",
          "data": {
            "text/html": [
              "<div>\n",
              "<style scoped>\n",
              "    .dataframe tbody tr th:only-of-type {\n",
              "        vertical-align: middle;\n",
              "    }\n",
              "\n",
              "    .dataframe tbody tr th {\n",
              "        vertical-align: top;\n",
              "    }\n",
              "\n",
              "    .dataframe thead th {\n",
              "        text-align: right;\n",
              "    }\n",
              "</style>\n",
              "<table border=\"1\" class=\"dataframe\">\n",
              "  <thead>\n",
              "    <tr style=\"text-align: right;\">\n",
              "      <th></th>\n",
              "      <th>complaints</th>\n",
              "      <th>Product</th>\n",
              "      <th>Company</th>\n",
              "    </tr>\n",
              "  </thead>\n",
              "  <tbody>\n",
              "    <tr>\n",
              "      <th>0</th>\n",
              "      <td>This auto loan was opened on XX/XX/2020 in XXXX, NC with BB &amp; T in my name. I have NEVER been to North Carolina and I have NEVER been a resident. I have filed a dispute twice through my credit bureaus but both times BB &amp; T has claimed that this is an accurate loan. Which I wasn't aware of until today. I have tried to contact BB &amp; T multiple times but I have never gotten through to a live person. I do n't drive and I have never owned a car before. I didn't have any knowledge of this account until I checked XXXXXXXX XXXX  and noticed it. I've tried twice to dispute it. Additionally I never received any bills or information about this account. This is my last resort in trying to remove this fraudulent loan off of my account.</td>\n",
              "      <td>Vehicle loan or lease</td>\n",
              "      <td>TRUIST FINANCIAL CORPORATION</td>\n",
              "    </tr>\n",
              "    <tr>\n",
              "      <th>1</th>\n",
              "      <td>In XXXX of 2019 I noticed a debt for {$620.00} on my credit which i believed was mine I thought speedy cash had bought one of my old debts and sold it to XXXX XXXX XXXX XXXX. I contacted XXXX XXXX XXXX XXXX and after several attempts of giving my full name, nothing came up in their system. I gave my social and the rep said the account popped up but DID NOT tell me that the account was under someone elses name and continued to let me make a payment. The payment was for {$120.00}. Confirmation number-XXXX. After realizing it was not my account, I called back to get my money back and inform them of the mistake. I was told i needed to mail them an FTC report and dispute letter to get my money back. I completed all of this and when i called again they said they transferred the account back to speedy cash for fraud review and I would need to contact them. After contacting them i was again told that i can not get my money back. The issue im having is this representative at XXXX XXXX played blind to obvious fraud and let an innocent person make a payment on someone elses debt and i want my money back.</td>\n",
              "      <td>Debt collection</td>\n",
              "      <td>CURO Intermediate Holdings</td>\n",
              "    </tr>\n",
              "    <tr>\n",
              "      <th>2</th>\n",
              "      <td>As stated from Capital One, XXXX XX/XX/XXXX and XXXX 2018, My wife and I went to several car dealerships to request for a car loan to get a used car. However, according to their credit requirements unfortunately my credit score was insufficient for the car loan approval at that time. It seemed as though they pulled my credit report multiple times.</td>\n",
              "      <td>Vehicle loan or lease</td>\n",
              "      <td>CAPITAL ONE FINANCIAL CORPORATION</td>\n",
              "    </tr>\n",
              "    <tr>\n",
              "      <th>3</th>\n",
              "      <td>Please see CFPB case XXXX. \\n\\nCapital One, in the letter they provided ( and attached to that case as their response ) said this : \" The funds were reversed and sent back to XXXX XXXX XXXX  on XX/XX/XXXX ''. \\n\\nXXXX XXXX XXXX  ( now XXXX XXXX  ) has not received these funds. Staff at XXXX XXXX  - and also staff at the account-holder 's business - have looked for return of my money ( {$650.00} ) and find nothing. \\n\\nCapital One needs to document - actually prove - they returned the funds, as stated in their letter. Capital One must provide electronic information, if the return was made that way, or document the paper check they sent back to XXXX XXXX. \\n\\nI've left 3 messages about this problem for the person who signed the letter ( XXXX ) from Capital One. I have received no call-backs. \\n\\nSummary : Capital One said they returned my money on XX/XX/XXXX : they did not. If they continue claim they did, then they need to prove that.</td>\n",
              "      <td>Checking or savings account</td>\n",
              "      <td>CAPITAL ONE FINANCIAL CORPORATION</td>\n",
              "    </tr>\n",
              "    <tr>\n",
              "      <th>4</th>\n",
              "      <td>This debt was incurred due to medical malpractice ( XXXX XXXX XXXX, XXXX, TX ). I asked the doctor to turn over my claim to his malpractice insurance company. This has cost me thousands of dollars to XXXX XXXX XXXX. I am still trying to collect damages from this doctor. He never responded and turned over me to collections Merchants and Professional Collection Bureau , Inc. I sent them a letter describing exactly this issue and instead of not contacting me and verifying my debt they start reporting this debt to the credit reporting agencies. They never verified the debt, like I asked and they never stopped it from being reported when I specifically told them not to, due to the circumstances above.</td>\n",
              "      <td>Debt collection</td>\n",
              "      <td>Merchants and Professional Bureau, Inc.</td>\n",
              "    </tr>\n",
              "  </tbody>\n",
              "</table>\n",
              "</div>"
            ],
            "text/plain": [
              "                                                                                                                                                                                                                                                                                                                                                                                                                                                                                                                                                                                                                                                                                                                                                                                                                                                                                                                                                                                                                                                                                                                                               complaints  ...                                  Company\n",
              "0  This auto loan was opened on XX/XX/2020 in XXXX, NC with BB & T in my name. I have NEVER been to North Carolina and I have NEVER been a resident. I have filed a dispute twice through my credit bureaus but both times BB & T has claimed that this is an accurate loan. Which I wasn't aware of until today. I have tried to contact BB & T multiple times but I have never gotten through to a live person. I do n't drive and I have never owned a car before. I didn't have any knowledge of this account until I checked XXXXXXXX XXXX  and noticed it. I've tried twice to dispute it. Additionally I never received any bills or information about this account. This is my last resort in trying to remove this fraudulent loan off of my account.                                                                                                                                                                                                                                                                                                                                                                                             ...  TRUIST FINANCIAL CORPORATION           \n",
              "1  In XXXX of 2019 I noticed a debt for {$620.00} on my credit which i believed was mine I thought speedy cash had bought one of my old debts and sold it to XXXX XXXX XXXX XXXX. I contacted XXXX XXXX XXXX XXXX and after several attempts of giving my full name, nothing came up in their system. I gave my social and the rep said the account popped up but DID NOT tell me that the account was under someone elses name and continued to let me make a payment. The payment was for {$120.00}. Confirmation number-XXXX. After realizing it was not my account, I called back to get my money back and inform them of the mistake. I was told i needed to mail them an FTC report and dispute letter to get my money back. I completed all of this and when i called again they said they transferred the account back to speedy cash for fraud review and I would need to contact them. After contacting them i was again told that i can not get my money back. The issue im having is this representative at XXXX XXXX played blind to obvious fraud and let an innocent person make a payment on someone elses debt and i want my money back.  ...  CURO Intermediate Holdings             \n",
              "2  As stated from Capital One, XXXX XX/XX/XXXX and XXXX 2018, My wife and I went to several car dealerships to request for a car loan to get a used car. However, according to their credit requirements unfortunately my credit score was insufficient for the car loan approval at that time. It seemed as though they pulled my credit report multiple times.                                                                                                                                                                                                                                                                                                                                                                                                                                                                                                                                                                                                                                                                                                                                                                                           ...  CAPITAL ONE FINANCIAL CORPORATION      \n",
              "3  Please see CFPB case XXXX. \\n\\nCapital One, in the letter they provided ( and attached to that case as their response ) said this : \" The funds were reversed and sent back to XXXX XXXX XXXX  on XX/XX/XXXX ''. \\n\\nXXXX XXXX XXXX  ( now XXXX XXXX  ) has not received these funds. Staff at XXXX XXXX  - and also staff at the account-holder 's business - have looked for return of my money ( {$650.00} ) and find nothing. \\n\\nCapital One needs to document - actually prove - they returned the funds, as stated in their letter. Capital One must provide electronic information, if the return was made that way, or document the paper check they sent back to XXXX XXXX. \\n\\nI've left 3 messages about this problem for the person who signed the letter ( XXXX ) from Capital One. I have received no call-backs. \\n\\nSummary : Capital One said they returned my money on XX/XX/XXXX : they did not. If they continue claim they did, then they need to prove that.                                                                                                                                                                     ...  CAPITAL ONE FINANCIAL CORPORATION      \n",
              "4  This debt was incurred due to medical malpractice ( XXXX XXXX XXXX, XXXX, TX ). I asked the doctor to turn over my claim to his malpractice insurance company. This has cost me thousands of dollars to XXXX XXXX XXXX. I am still trying to collect damages from this doctor. He never responded and turned over me to collections Merchants and Professional Collection Bureau , Inc. I sent them a letter describing exactly this issue and instead of not contacting me and verifying my debt they start reporting this debt to the credit reporting agencies. They never verified the debt, like I asked and they never stopped it from being reported when I specifically told them not to, due to the circumstances above.                                                                                                                                                                                                                                                                                                                                                                                                                       ...  Merchants and Professional Bureau, Inc.\n",
              "\n",
              "[5 rows x 3 columns]"
            ]
          },
          "metadata": {
            "tags": []
          },
          "execution_count": 10
        }
      ]
    },
    {
      "cell_type": "code",
      "metadata": {
        "id": "uaV1s9uz6znj",
        "colab_type": "code",
        "colab": {}
      },
      "source": [
        ""
      ],
      "execution_count": null,
      "outputs": []
    },
    {
      "cell_type": "markdown",
      "metadata": {
        "id": "wIH4zKNq6ZbO",
        "colab_type": "text"
      },
      "source": [
        "**Train Test Split**"
      ]
    },
    {
      "cell_type": "code",
      "metadata": {
        "id": "Jr4v8AlH6R56",
        "colab_type": "code",
        "colab": {}
      },
      "source": [
        "X_train, X_test = train_test_split(complaint_df, test_size = 0.5, random_state = 11)"
      ],
      "execution_count": 9,
      "outputs": []
    },
    {
      "cell_type": "code",
      "metadata": {
        "id": "2ijosS5X6R3E",
        "colab_type": "code",
        "colab": {
          "base_uri": "https://localhost:8080/",
          "height": 139
        },
        "outputId": "c40ea87b-6269-4468-aad9-2a8a3c43a7c7"
      },
      "source": [
        "X_train.Product.value_counts()"
      ],
      "execution_count": 11,
      "outputs": [
        {
          "output_type": "execute_result",
          "data": {
            "text/plain": [
              "Debt collection                10882\n",
              "Credit card or prepaid card    6551 \n",
              "Mortgage                       4873 \n",
              "Checking or savings account    3527 \n",
              "Student loan                   1512 \n",
              "Vehicle loan or lease          1381 \n",
              "Name: Product, dtype: int64"
            ]
          },
          "metadata": {
            "tags": []
          },
          "execution_count": 11
        }
      ]
    },
    {
      "cell_type": "code",
      "metadata": {
        "id": "JvVCpsw-69fk",
        "colab_type": "code",
        "colab": {}
      },
      "source": [
        ""
      ],
      "execution_count": null,
      "outputs": []
    },
    {
      "cell_type": "markdown",
      "metadata": {
        "id": "pTVBDKBr8Q0g",
        "colab_type": "text"
      },
      "source": [
        "**Data Processing**"
      ]
    },
    {
      "cell_type": "code",
      "metadata": {
        "id": "JUiSvHAd7E-4",
        "colab_type": "code",
        "colab": {}
      },
      "source": [
        "# initialize stemming\n",
        "stemmer = PorterStemmer()"
      ],
      "execution_count": 12,
      "outputs": []
    },
    {
      "cell_type": "code",
      "metadata": {
        "id": "Slo3vVy67I1E",
        "colab_type": "code",
        "colab": {}
      },
      "source": [
        "# word tokenization function\n",
        "def tokenize(text):\n",
        "  tokens = [word for word in nltk.word_tokenize(text) if (len(word) > 3 and len(word.strip('Xx/')) > 2 and len(re.sub('\\d+','', word.strip('Xx/'))) > 2)]\n",
        "  #stems = [stemmer.stem(word) for word in tokens]\n",
        "  return tokens"
      ],
      "execution_count": 43,
      "outputs": []
    },
    {
      "cell_type": "code",
      "metadata": {
        "id": "BY5Z-yCQ7moV",
        "colab_type": "code",
        "colab": {}
      },
      "source": [
        ""
      ],
      "execution_count": null,
      "outputs": []
    },
    {
      "cell_type": "code",
      "metadata": {
        "id": "YU_c0TEJ7nrr",
        "colab_type": "code",
        "colab": {}
      },
      "source": [
        "# count vectorizer\n",
        "vectorizer = CountVectorizer(tokenizer=tokenize, stop_words='english', max_df=0.75, min_df=50, max_features=10000)"
      ],
      "execution_count": 44,
      "outputs": []
    },
    {
      "cell_type": "code",
      "metadata": {
        "id": "vjOZMC067n7E",
        "colab_type": "code",
        "colab": {}
      },
      "source": [
        "tf_vectors = vectorizer.fit_transform(X_train['complaints'])"
      ],
      "execution_count": null,
      "outputs": []
    },
    {
      "cell_type": "code",
      "metadata": {
        "id": "VG_gI2y37nW2",
        "colab_type": "code",
        "colab": {
          "base_uri": "https://localhost:8080/",
          "height": 139
        },
        "outputId": "b295641b-ffd8-455c-b99c-96e0835d7c11"
      },
      "source": [
        "tf_vectors.A"
      ],
      "execution_count": 47,
      "outputs": [
        {
          "output_type": "execute_result",
          "data": {
            "text/plain": [
              "array([[0, 0, 0, ..., 0, 0, 0],\n",
              "       [0, 0, 0, ..., 0, 0, 0],\n",
              "       [0, 0, 0, ..., 0, 0, 0],\n",
              "       ...,\n",
              "       [0, 0, 0, ..., 0, 0, 0],\n",
              "       [0, 0, 0, ..., 0, 0, 0],\n",
              "       [0, 0, 0, ..., 0, 0, 0]])"
            ]
          },
          "metadata": {
            "tags": []
          },
          "execution_count": 47
        }
      ]
    },
    {
      "cell_type": "code",
      "metadata": {
        "id": "XAi-IKpP9GsA",
        "colab_type": "code",
        "colab": {
          "base_uri": "https://localhost:8080/",
          "height": 347
        },
        "outputId": "665c55a8-2796-4c96-bf67-75bcca9a2456"
      },
      "source": [
        "vectorizer.get_feature_names()[1:20]"
      ],
      "execution_count": 48,
      "outputs": [
        {
          "output_type": "execute_result",
          "data": {
            "text/plain": [
              "['abide',\n",
              " 'ability',\n",
              " 'able',\n",
              " 'above-named',\n",
              " 'abruptly',\n",
              " 'absolute',\n",
              " 'absolutely',\n",
              " 'absurd',\n",
              " 'abuse',\n",
              " 'abused',\n",
              " 'abusive',\n",
              " 'accept',\n",
              " 'acceptable',\n",
              " 'acceptance',\n",
              " 'accepted',\n",
              " 'accepting',\n",
              " 'access',\n",
              " 'accessed',\n",
              " 'accessible']"
            ]
          },
          "metadata": {
            "tags": []
          },
          "execution_count": 48
        }
      ]
    },
    {
      "cell_type": "code",
      "metadata": {
        "id": "CKug0M8893xU",
        "colab_type": "code",
        "colab": {}
      },
      "source": [
        ""
      ],
      "execution_count": null,
      "outputs": []
    },
    {
      "cell_type": "markdown",
      "metadata": {
        "id": "AwTzWeeZ_SM9",
        "colab_type": "text"
      },
      "source": [
        "**Topic Modelling - LDA**"
      ]
    },
    {
      "cell_type": "code",
      "metadata": {
        "id": "BReDpcvJ_Xha",
        "colab_type": "code",
        "colab": {}
      },
      "source": [
        "lda = decomposition.LatentDirichletAllocation(n_components=6, max_iter=6,learning_method='online', learning_offset=50,n_jobs=-1, random_state=111)"
      ],
      "execution_count": 51,
      "outputs": []
    },
    {
      "cell_type": "code",
      "metadata": {
        "id": "3C0Fpb95_X3r",
        "colab_type": "code",
        "colab": {
          "base_uri": "https://localhost:8080/",
          "height": 243
        },
        "outputId": "11a7cb6a-8d88-45c6-f04f-8b30cc9504b1"
      },
      "source": [
        "# probability of a document belonging to the 6 topics\n",
        "topic_weights = lda.fit_transform(tf_vectors)\n",
        "topic_weights"
      ],
      "execution_count": 52,
      "outputs": [
        {
          "output_type": "execute_result",
          "data": {
            "text/plain": [
              "array([[0.00525585, 0.15198299, 0.0052432 , 0.00529711, 0.82699261,\n",
              "        0.00522824],\n",
              "       [0.91524126, 0.0016278 , 0.03731678, 0.04255544, 0.00162629,\n",
              "        0.00163243],\n",
              "       [0.30314044, 0.08648794, 0.03108877, 0.14013567, 0.334871  ,\n",
              "        0.10427617],\n",
              "       ...,\n",
              "       [0.00397571, 0.00398046, 0.00398616, 0.20959967, 0.00398123,\n",
              "        0.77447677],\n",
              "       [0.00669457, 0.00673135, 0.96642074, 0.00669593, 0.00676003,\n",
              "        0.00669737],\n",
              "       [0.18788646, 0.0033641 , 0.55717786, 0.00339308, 0.00337781,\n",
              "        0.24480068]])"
            ]
          },
          "metadata": {
            "tags": []
          },
          "execution_count": 52
        }
      ]
    },
    {
      "cell_type": "code",
      "metadata": {
        "id": "zr-uj31DAcsU",
        "colab_type": "code",
        "colab": {}
      },
      "source": [
        "# lda components\n",
        "components = lda.components_"
      ],
      "execution_count": 53,
      "outputs": []
    },
    {
      "cell_type": "code",
      "metadata": {
        "id": "p5PGrnyrBRrj",
        "colab_type": "code",
        "colab": {}
      },
      "source": [
        ""
      ],
      "execution_count": null,
      "outputs": []
    },
    {
      "cell_type": "code",
      "metadata": {
        "id": "fPTxirwJBmUR",
        "colab_type": "code",
        "colab": {}
      },
      "source": [
        "# taking top 15 words from each topic\n",
        "num_words = 15\n",
        "\n",
        "# vocabulary of all the words\n",
        "vocab = np.array(vectorizer.get_feature_names())\n",
        "\n",
        "# function to extract top words\n",
        "top_words = lambda t: [vocab[i] for i in np.argsort(t)[:-num_words-1:-1]]\n",
        "\n",
        "topic_words = ([top_words(t) for t in components])\n",
        "topic_words = [\" \".join(t) for t in topic_words]"
      ],
      "execution_count": 57,
      "outputs": []
    },
    {
      "cell_type": "code",
      "metadata": {
        "id": "fnS29yVlB21r",
        "colab_type": "code",
        "colab": {
          "base_uri": "https://localhost:8080/",
          "height": 121
        },
        "outputId": "e2e725e7-6310-4ecd-945e-1cf58c36cdb7"
      },
      "source": [
        "topic_words"
      ],
      "execution_count": 58,
      "outputs": [
        {
          "output_type": "execute_result",
          "data": {
            "text/plain": [
              "['told called said phone asked time company number money just received know help times calls',\n",
              " 'account bank check chase money funds checking received days customer wells america fargo closed online',\n",
              " 'debt credit account collection information report company letter reporting sent received provide agency original consumer',\n",
              " 'mortgage loan home insurance property received escrow letter sent documents company modification closing servicing information',\n",
              " 'card credit account charges charge dispute capital fraud report citi cards fraudulent closed balance purchase',\n",
              " 'payment payments loan late paid balance credit month fees account time loans monthly make months']"
            ]
          },
          "metadata": {
            "tags": []
          },
          "execution_count": 58
        }
      ]
    },
    {
      "cell_type": "code",
      "metadata": {
        "id": "bJFIibo7B3dC",
        "colab_type": "code",
        "colab": {}
      },
      "source": [
        ""
      ],
      "execution_count": null,
      "outputs": []
    },
    {
      "cell_type": "markdown",
      "metadata": {
        "id": "3K1-N0yqGADt",
        "colab_type": "text"
      },
      "source": [
        "**Adding the topics to the data**"
      ]
    },
    {
      "cell_type": "code",
      "metadata": {
        "id": "IvxVxR0QGJ44",
        "colab_type": "code",
        "colab": {}
      },
      "source": [
        "colnames = ['Topic'+str(i) for i in range(lda.n_components)]\n",
        "documents = ['Doc'+str(i) for i in range(len(X_train.complaints))]\n",
        "\n",
        "df_doc_topic = pd.DataFrame(np.round(topic_weights,2), columns=colnames, index=documents)\n",
        "\n",
        "top_topic = np.argmax(df_doc_topic.values, axis=1)\n",
        "df_doc_topic['Dominant_topic'] = top_topic"
      ],
      "execution_count": 62,
      "outputs": []
    },
    {
      "cell_type": "code",
      "metadata": {
        "id": "lfE0oElZHuSh",
        "colab_type": "code",
        "colab": {
          "base_uri": "https://localhost:8080/",
          "height": 415
        },
        "outputId": "08cfc190-0f2c-4242-b99b-2658e34db7fa"
      },
      "source": [
        "df_doc_topic"
      ],
      "execution_count": 63,
      "outputs": [
        {
          "output_type": "execute_result",
          "data": {
            "text/html": [
              "<div>\n",
              "<style scoped>\n",
              "    .dataframe tbody tr th:only-of-type {\n",
              "        vertical-align: middle;\n",
              "    }\n",
              "\n",
              "    .dataframe tbody tr th {\n",
              "        vertical-align: top;\n",
              "    }\n",
              "\n",
              "    .dataframe thead th {\n",
              "        text-align: right;\n",
              "    }\n",
              "</style>\n",
              "<table border=\"1\" class=\"dataframe\">\n",
              "  <thead>\n",
              "    <tr style=\"text-align: right;\">\n",
              "      <th></th>\n",
              "      <th>Topic0</th>\n",
              "      <th>Topic1</th>\n",
              "      <th>Topic2</th>\n",
              "      <th>Topic3</th>\n",
              "      <th>Topic4</th>\n",
              "      <th>Topic5</th>\n",
              "      <th>Dominant_topic</th>\n",
              "    </tr>\n",
              "  </thead>\n",
              "  <tbody>\n",
              "    <tr>\n",
              "      <th>Doc0</th>\n",
              "      <td>0.01</td>\n",
              "      <td>0.15</td>\n",
              "      <td>0.01</td>\n",
              "      <td>0.01</td>\n",
              "      <td>0.83</td>\n",
              "      <td>0.01</td>\n",
              "      <td>4</td>\n",
              "    </tr>\n",
              "    <tr>\n",
              "      <th>Doc1</th>\n",
              "      <td>0.92</td>\n",
              "      <td>0.00</td>\n",
              "      <td>0.04</td>\n",
              "      <td>0.04</td>\n",
              "      <td>0.00</td>\n",
              "      <td>0.00</td>\n",
              "      <td>0</td>\n",
              "    </tr>\n",
              "    <tr>\n",
              "      <th>Doc2</th>\n",
              "      <td>0.30</td>\n",
              "      <td>0.09</td>\n",
              "      <td>0.03</td>\n",
              "      <td>0.14</td>\n",
              "      <td>0.33</td>\n",
              "      <td>0.10</td>\n",
              "      <td>4</td>\n",
              "    </tr>\n",
              "    <tr>\n",
              "      <th>Doc3</th>\n",
              "      <td>0.44</td>\n",
              "      <td>0.04</td>\n",
              "      <td>0.00</td>\n",
              "      <td>0.50</td>\n",
              "      <td>0.00</td>\n",
              "      <td>0.00</td>\n",
              "      <td>3</td>\n",
              "    </tr>\n",
              "    <tr>\n",
              "      <th>Doc4</th>\n",
              "      <td>0.00</td>\n",
              "      <td>0.00</td>\n",
              "      <td>0.98</td>\n",
              "      <td>0.00</td>\n",
              "      <td>0.00</td>\n",
              "      <td>0.00</td>\n",
              "      <td>2</td>\n",
              "    </tr>\n",
              "    <tr>\n",
              "      <th>...</th>\n",
              "      <td>...</td>\n",
              "      <td>...</td>\n",
              "      <td>...</td>\n",
              "      <td>...</td>\n",
              "      <td>...</td>\n",
              "      <td>...</td>\n",
              "      <td>...</td>\n",
              "    </tr>\n",
              "    <tr>\n",
              "      <th>Doc28721</th>\n",
              "      <td>0.00</td>\n",
              "      <td>0.98</td>\n",
              "      <td>0.00</td>\n",
              "      <td>0.00</td>\n",
              "      <td>0.00</td>\n",
              "      <td>0.00</td>\n",
              "      <td>1</td>\n",
              "    </tr>\n",
              "    <tr>\n",
              "      <th>Doc28722</th>\n",
              "      <td>0.30</td>\n",
              "      <td>0.57</td>\n",
              "      <td>0.07</td>\n",
              "      <td>0.00</td>\n",
              "      <td>0.00</td>\n",
              "      <td>0.06</td>\n",
              "      <td>1</td>\n",
              "    </tr>\n",
              "    <tr>\n",
              "      <th>Doc28723</th>\n",
              "      <td>0.00</td>\n",
              "      <td>0.00</td>\n",
              "      <td>0.00</td>\n",
              "      <td>0.21</td>\n",
              "      <td>0.00</td>\n",
              "      <td>0.77</td>\n",
              "      <td>5</td>\n",
              "    </tr>\n",
              "    <tr>\n",
              "      <th>Doc28724</th>\n",
              "      <td>0.01</td>\n",
              "      <td>0.01</td>\n",
              "      <td>0.97</td>\n",
              "      <td>0.01</td>\n",
              "      <td>0.01</td>\n",
              "      <td>0.01</td>\n",
              "      <td>2</td>\n",
              "    </tr>\n",
              "    <tr>\n",
              "      <th>Doc28725</th>\n",
              "      <td>0.19</td>\n",
              "      <td>0.00</td>\n",
              "      <td>0.56</td>\n",
              "      <td>0.00</td>\n",
              "      <td>0.00</td>\n",
              "      <td>0.24</td>\n",
              "      <td>2</td>\n",
              "    </tr>\n",
              "  </tbody>\n",
              "</table>\n",
              "<p>28726 rows × 7 columns</p>\n",
              "</div>"
            ],
            "text/plain": [
              "          Topic0  Topic1  Topic2  Topic3  Topic4  Topic5  Dominant_topic\n",
              "Doc0      0.01    0.15    0.01    0.01    0.83    0.01    4             \n",
              "Doc1      0.92    0.00    0.04    0.04    0.00    0.00    0             \n",
              "Doc2      0.30    0.09    0.03    0.14    0.33    0.10    4             \n",
              "Doc3      0.44    0.04    0.00    0.50    0.00    0.00    3             \n",
              "Doc4      0.00    0.00    0.98    0.00    0.00    0.00    2             \n",
              "...        ...     ...     ...     ...     ...     ...   ..             \n",
              "Doc28721  0.00    0.98    0.00    0.00    0.00    0.00    1             \n",
              "Doc28722  0.30    0.57    0.07    0.00    0.00    0.06    1             \n",
              "Doc28723  0.00    0.00    0.00    0.21    0.00    0.77    5             \n",
              "Doc28724  0.01    0.01    0.97    0.01    0.01    0.01    2             \n",
              "Doc28725  0.19    0.00    0.56    0.00    0.00    0.24    2             \n",
              "\n",
              "[28726 rows x 7 columns]"
            ]
          },
          "metadata": {
            "tags": []
          },
          "execution_count": 63
        }
      ]
    },
    {
      "cell_type": "code",
      "metadata": {
        "id": "NPdGWTN4HvMP",
        "colab_type": "code",
        "colab": {}
      },
      "source": [
        ""
      ],
      "execution_count": null,
      "outputs": []
    },
    {
      "cell_type": "markdown",
      "metadata": {
        "id": "UNtdSZ8MIBu7",
        "colab_type": "text"
      },
      "source": [
        "**Applying the topic modeling to test data**"
      ]
    },
    {
      "cell_type": "code",
      "metadata": {
        "id": "IXtGLSYuIBBb",
        "colab_type": "code",
        "colab": {}
      },
      "source": [
        "# testing for first 5 rows\n",
        "test_topic_weights = lda.transform(vectorizer.transform(X_test.complaints[:5]))"
      ],
      "execution_count": 66,
      "outputs": []
    },
    {
      "cell_type": "code",
      "metadata": {
        "id": "ztUZDM47IpFC",
        "colab_type": "code",
        "colab": {}
      },
      "source": [
        "colnames = ['Topic'+str(i) for i in range(lda.n_components)]\n",
        "documents = ['Doc'+str(i) for i in range(len(X_test.complaints[:5]))]\n",
        "\n",
        "df_doc_topic = pd.DataFrame(np.round(test_topic_weights,2), columns=colnames, index=documents)\n",
        "\n",
        "top_topic = np.argmax(df_doc_topic.values, axis=1)\n",
        "df_doc_topic['Dominant_topic'] = top_topic"
      ],
      "execution_count": 67,
      "outputs": []
    },
    {
      "cell_type": "code",
      "metadata": {
        "id": "1IRLfrcUJ2Kh",
        "colab_type": "code",
        "colab": {}
      },
      "source": [
        ""
      ],
      "execution_count": null,
      "outputs": []
    },
    {
      "cell_type": "code",
      "metadata": {
        "id": "syVWbHgBJ2Gk",
        "colab_type": "code",
        "colab": {
          "base_uri": "https://localhost:8080/",
          "height": 1000
        },
        "outputId": "4a340dec-9eef-47c2-90b4-38f414ce5966"
      },
      "source": [
        "X_test[['complaints','Product']].head(5)"
      ],
      "execution_count": 75,
      "outputs": [
        {
          "output_type": "execute_result",
          "data": {
            "text/html": [
              "<div>\n",
              "<style scoped>\n",
              "    .dataframe tbody tr th:only-of-type {\n",
              "        vertical-align: middle;\n",
              "    }\n",
              "\n",
              "    .dataframe tbody tr th {\n",
              "        vertical-align: top;\n",
              "    }\n",
              "\n",
              "    .dataframe thead th {\n",
              "        text-align: right;\n",
              "    }\n",
              "</style>\n",
              "<table border=\"1\" class=\"dataframe\">\n",
              "  <thead>\n",
              "    <tr style=\"text-align: right;\">\n",
              "      <th></th>\n",
              "      <th>complaints</th>\n",
              "      <th>Product</th>\n",
              "    </tr>\n",
              "  </thead>\n",
              "  <tbody>\n",
              "    <tr>\n",
              "      <th>50868</th>\n",
              "      <td>I.C. Systems has reported and posted to my credit that I owe {$550.00} for a XXXX  bill. I contacted XXXX  and they stated the amount owed is {$320.00}. I have called both XXXX  and I.C. Systems multiple times since XX/XX/2020 -today XX/XX/2020 trying to get the correct balance updated so the debt can be paid. I.C. Systems have yet to make any attempt to update this amount.</td>\n",
              "      <td>Debt collection</td>\n",
              "    </tr>\n",
              "    <tr>\n",
              "      <th>8513</th>\n",
              "      <td>Navient collected a {$100.00} Forbearance Payment from me on XX/XX/2017, and then collected another {$100.00} Forbearance Payment from me three months later on XX/XX/2017. The Forbearance Payment collected on XX/XX/2017 should have covered a one year period, but Navient collected another {$100.00} Forbearance Payment only three months later.</td>\n",
              "      <td>Student loan</td>\n",
              "    </tr>\n",
              "    <tr>\n",
              "      <th>56440</th>\n",
              "      <td>When we were looking to start using credit cards to help build our credit we contacted USAA to see what options they had. The rep we spoke with told us our best option was their secured credit card. The benefit was after 2 years of payments we would be moved to an unsecured card and our deposit would be returned to us. We chose to do this since we really wanted to build credit. We had to call today to say we didn't want our deposit to roll into a CD and we wanted to withdraw it and to ask how the procedure was moving forward. ( Did we need new cards or anything else that we needed to do since our 2 years was up. ) The woman on the phone said we don't do secured cards anymore so you'll have to reapply ( dinging our credit again ) if we chose to withdraw our money. I asked her if she was really telling me that after we had done everything that was asked of us USAA was not going to follow thru on end of our contract. She put us on hold for quite awhile while she spoke with another department and came back. She had no explanation except that we had to reapply. I again asked the same question and she started beating around the bush so I stopped her and said it's a yes or no question and she no they would not be honoring the terms of the agreement. I advised that it would be in her best interest to get me a supervisor. Guess what, no supervisors were available and no one in ERT ( whatever that is ) was available either. She said she was putting in for an emergency call back from a supervisor. I said they will call today, correct? The CD will renew tomorrow and the decision has to be made today. She said she making it urgent. I again said they will call today correct. She said I am hanging up to get someone right now. It is now 2 hours later and no phone call and they are closed. No call. Not surprised. USAA has gone downhill since their new CEO has taken over. We are XXXX XXXX XXXX and can not go thru having our credit dinged more than it already is getting dinged right now by the federal government and banks to help out in the shut down. We chose USAA because of the program that they described to us and we did what was asked of us. They should be following thru and doing their part now that the 2 years are up. We have seen them break federal and state laws when it comes to insurance and have moved our insurance from them and now we see they think they are above the law in banking also. We hope that you will help us to let them know they are not.</td>\n",
              "      <td>Credit card or prepaid card</td>\n",
              "    </tr>\n",
              "    <tr>\n",
              "      <th>22873</th>\n",
              "      <td>This particular account situation that is lately filing on my own credit document has a seriously unfavorable relation to my personal ability to obtain a present loan application. I highly recommend you generate verification that BANKAMERICA has been reported completely in accordance with the Fair Credit Reporting Act regulations, it's really a serious problem to mis-report. Moreconfirmation of the aforesaid item too. My proper request mustover, I was never 30 days/60 days/120 days late in any of my payments and I'm not greatly tuned in to the date opened so I prefer to ask you be investigated as soon as possible and confirmed to be correct. Thanks!</td>\n",
              "      <td>Mortgage</td>\n",
              "    </tr>\n",
              "    <tr>\n",
              "      <th>51741</th>\n",
              "      <td>I hired a contractor to install an epoxy floor in my basement. On XX/XX/XXXX, ( after being paid in full ) the contractor refused to finish the floor, honor the warranty, or provide compensation for the damages he caused to my bathtub and concrete patio. The payment to the merchant was split up into two separate transactions, so I disputed both charges with Citi on the same date ( XX/XX/XXXX ). My dispute numbers are XXXX and XXXX. Citi handled these disputes completely differently, and this dispute is regarding the way in which Citi has handled dispute # XXXX. On XX/XX/XXXX, I received an email stating that they received the dispute XXXX, this email made no requests for information or even a detailed reason for my dispute. The next email I received came on XX/XX/XXXX. It said that they contacted the merchant and would let me know if they needed anything further. This is in stark contrast to the notice that was sent to my account on XX/XX/XXXX for the other dispute ( XXXX ) which requested a detailed account of the transaction as well as the reason for the dispute and documentation from an expert concerning what was wrong with the floor. I reached out to Citis dispute department via phone on XX/XX/XXXX. I expressed my concern that I hadnt been asked to provide any information for the dispute in this complaint # XXXX. I was told that I could send the information via email and that it would be attached to my dispute. I sent all of the information that was requested for the other dispute in for the dispute in this complaint # XXXX on XX/XX/XXXX. This information included statements from 4 different experts regarding the issues with the floor, a transcript of all the text communication between myself and the merchant ( including the text where he stated that he would not be honoring the warranty ), all email communication, the contract, warranty, terms and conditions, photos of the issues with the floor, and a detailed account of the reason for my dispute. All the information that I sent was the same that was sent for the other dispute, however on XX/XX/XXXX, I received a notice in my account stating that the investigation for the dispute in this complaint ( XXXX ) had been closed based on the information they had available. The notice stated that if I wanted to continue the dispute that I would need to return the signed letter as well as a review from a similar merchant saying what was done incorrectly and proof of what was expected vs. what was received. I contacted Citi dispute customer service again via phone on XX/XX/XXXX. The agent looked into the account and verified that all the required documentation was there. He told me that he would be making a note on my account so that the investigator would look back and find the information. He instructed me to send in the signed letter via email and write a note explaining that the information had already been sent. I called back in and spoke with another agent to verify that this was all that was needed, and on XX/XX/XXXX, I sent in the signed letter with notations as instructed. I contacted Citi dispute center again on XX/XX/XXXX to make sure the letter was received and to verify that nothing further was needed and was told that everything was as it should be. However, on XX/XX/XXXX, I received a notice in my account stating that my dispute had been reviewed and that they would not be able to assist because they did not have a letter from a similar merchant stating that the work performed by the original merchant was incorrectly or unnecessarily performed. I provided statements from 4 different similar merchants stating what was wrong with the floor and why it needed to be redone. On XX/XX/XXXX I received a notice in my account for the other dispute ( XXXX ) stating that they were continuing to try to obtain a permanent credit. Both disputes are for the same service and I have provided all of the same information. I do not believe the dispute in this complaint ( XXXX ) is being handled correctly. I have provided all the necessary and requested information in a timely fashion. The investigation into this dispute should have never been closed. The dispute # is XXXX</td>\n",
              "      <td>Credit card or prepaid card</td>\n",
              "    </tr>\n",
              "  </tbody>\n",
              "</table>\n",
              "</div>"
            ],
            "text/plain": [
              "                                                                                                                                                                                                                                                                                                                                                                                                                                                                                                                                                                                                                                                                                                                                                                                                                                                                                                                                                                                                                                                                                                                                                                                                                                                                                                                                                                                                                                                                                                                                                                                                                                                                                                                                                                                                                                                                                                                                                                                                                                                                                                                                                                                                                                                                                                                                                                                                                                                                                                                                                                                                                                                                                                                                                                                                                                                                                                                                                                                                                                                                                                                                                                                                                                                                                                                                                                                                                                                                                                                                                                                                                                                                                                                                                                                                                                                                                                                                                                                                                                                                                                                                                                                                                                                                                                                                                         complaints                      Product\n",
              "50868  I.C. Systems has reported and posted to my credit that I owe {$550.00} for a XXXX  bill. I contacted XXXX  and they stated the amount owed is {$320.00}. I have called both XXXX  and I.C. Systems multiple times since XX/XX/2020 -today XX/XX/2020 trying to get the correct balance updated so the debt can be paid. I.C. Systems have yet to make any attempt to update this amount.                                                                                                                                                                                                                                                                                                                                                                                                                                                                                                                                                                                                                                                                                                                                                                                                                                                                                                                                                                                                                                                                                                                                                                                                                                                                                                                                                                                                                                                                                                                                                                                                                                                                                                                                                                                                                                                                                                                                                                                                                                                                                                                                                                                                                                                                                                                                                                                                                                                                                                                                                                                                                                                                                                                                                                                                                                                                                                                                                                                                                                                                                                                                                                                                                                                                                                                                                                                                                                                                                                                                                                                                                                                                                                                                                                                                                                                                                                                                                                      Debt collection            \n",
              "8513   Navient collected a {$100.00} Forbearance Payment from me on XX/XX/2017, and then collected another {$100.00} Forbearance Payment from me three months later on XX/XX/2017. The Forbearance Payment collected on XX/XX/2017 should have covered a one year period, but Navient collected another {$100.00} Forbearance Payment only three months later.                                                                                                                                                                                                                                                                                                                                                                                                                                                                                                                                                                                                                                                                                                                                                                                                                                                                                                                                                                                                                                                                                                                                                                                                                                                                                                                                                                                                                                                                                                                                                                                                                                                                                                                                                                                                                                                                                                                                                                                                                                                                                                                                                                                                                                                                                                                                                                                                                                                                                                                                                                                                                                                                                                                                                                                                                                                                                                                                                                                                                                                                                                                                                                                                                                                                                                                                                                                                                                                                                                                                                                                                                                                                                                                                                                                                                                                                                                                                                                                                       Student loan               \n",
              "56440  When we were looking to start using credit cards to help build our credit we contacted USAA to see what options they had. The rep we spoke with told us our best option was their secured credit card. The benefit was after 2 years of payments we would be moved to an unsecured card and our deposit would be returned to us. We chose to do this since we really wanted to build credit. We had to call today to say we didn't want our deposit to roll into a CD and we wanted to withdraw it and to ask how the procedure was moving forward. ( Did we need new cards or anything else that we needed to do since our 2 years was up. ) The woman on the phone said we don't do secured cards anymore so you'll have to reapply ( dinging our credit again ) if we chose to withdraw our money. I asked her if she was really telling me that after we had done everything that was asked of us USAA was not going to follow thru on end of our contract. She put us on hold for quite awhile while she spoke with another department and came back. She had no explanation except that we had to reapply. I again asked the same question and she started beating around the bush so I stopped her and said it's a yes or no question and she no they would not be honoring the terms of the agreement. I advised that it would be in her best interest to get me a supervisor. Guess what, no supervisors were available and no one in ERT ( whatever that is ) was available either. She said she was putting in for an emergency call back from a supervisor. I said they will call today, correct? The CD will renew tomorrow and the decision has to be made today. She said she making it urgent. I again said they will call today correct. She said I am hanging up to get someone right now. It is now 2 hours later and no phone call and they are closed. No call. Not surprised. USAA has gone downhill since their new CEO has taken over. We are XXXX XXXX XXXX and can not go thru having our credit dinged more than it already is getting dinged right now by the federal government and banks to help out in the shut down. We chose USAA because of the program that they described to us and we did what was asked of us. They should be following thru and doing their part now that the 2 years are up. We have seen them break federal and state laws when it comes to insurance and have moved our insurance from them and now we see they think they are above the law in banking also. We hope that you will help us to let them know they are not.                                                                                                                                                                                                                                                                                                                                                                                                                                                                                                                                                                                                                                                                                                                                                                                                                                                                                                                                                                                                                                                                                                                                                                                                                                                                                                                                                                                                                                                                                                                                                                                                                                                                                                                                                                          Credit card or prepaid card\n",
              "22873  This particular account situation that is lately filing on my own credit document has a seriously unfavorable relation to my personal ability to obtain a present loan application. I highly recommend you generate verification that BANKAMERICA has been reported completely in accordance with the Fair Credit Reporting Act regulations, it's really a serious problem to mis-report. Moreconfirmation of the aforesaid item too. My proper request mustover, I was never 30 days/60 days/120 days late in any of my payments and I'm not greatly tuned in to the date opened so I prefer to ask you be investigated as soon as possible and confirmed to be correct. Thanks!                                                                                                                                                                                                                                                                                                                                                                                                                                                                                                                                                                                                                                                                                                                                                                                                                                                                                                                                                                                                                                                                                                                                                                                                                                                                                                                                                                                                                                                                                                                                                                                                                                                                                                                                                                                                                                                                                                                                                                                                                                                                                                                                                                                                                                                                                                                                                                                                                                                                                                                                                                                                                                                                                                                                                                                                                                                                                                                                                                                                                                                                                                                                                                                                                                                                                                                                                                                                                                                                                                                                                                                                                                                                             Mortgage                   \n",
              "51741  I hired a contractor to install an epoxy floor in my basement. On XX/XX/XXXX, ( after being paid in full ) the contractor refused to finish the floor, honor the warranty, or provide compensation for the damages he caused to my bathtub and concrete patio. The payment to the merchant was split up into two separate transactions, so I disputed both charges with Citi on the same date ( XX/XX/XXXX ). My dispute numbers are XXXX and XXXX. Citi handled these disputes completely differently, and this dispute is regarding the way in which Citi has handled dispute # XXXX. On XX/XX/XXXX, I received an email stating that they received the dispute XXXX, this email made no requests for information or even a detailed reason for my dispute. The next email I received came on XX/XX/XXXX. It said that they contacted the merchant and would let me know if they needed anything further. This is in stark contrast to the notice that was sent to my account on XX/XX/XXXX for the other dispute ( XXXX ) which requested a detailed account of the transaction as well as the reason for the dispute and documentation from an expert concerning what was wrong with the floor. I reached out to Citis dispute department via phone on XX/XX/XXXX. I expressed my concern that I hadnt been asked to provide any information for the dispute in this complaint # XXXX. I was told that I could send the information via email and that it would be attached to my dispute. I sent all of the information that was requested for the other dispute in for the dispute in this complaint # XXXX on XX/XX/XXXX. This information included statements from 4 different experts regarding the issues with the floor, a transcript of all the text communication between myself and the merchant ( including the text where he stated that he would not be honoring the warranty ), all email communication, the contract, warranty, terms and conditions, photos of the issues with the floor, and a detailed account of the reason for my dispute. All the information that I sent was the same that was sent for the other dispute, however on XX/XX/XXXX, I received a notice in my account stating that the investigation for the dispute in this complaint ( XXXX ) had been closed based on the information they had available. The notice stated that if I wanted to continue the dispute that I would need to return the signed letter as well as a review from a similar merchant saying what was done incorrectly and proof of what was expected vs. what was received. I contacted Citi dispute customer service again via phone on XX/XX/XXXX. The agent looked into the account and verified that all the required documentation was there. He told me that he would be making a note on my account so that the investigator would look back and find the information. He instructed me to send in the signed letter via email and write a note explaining that the information had already been sent. I called back in and spoke with another agent to verify that this was all that was needed, and on XX/XX/XXXX, I sent in the signed letter with notations as instructed. I contacted Citi dispute center again on XX/XX/XXXX to make sure the letter was received and to verify that nothing further was needed and was told that everything was as it should be. However, on XX/XX/XXXX, I received a notice in my account stating that my dispute had been reviewed and that they would not be able to assist because they did not have a letter from a similar merchant stating that the work performed by the original merchant was incorrectly or unnecessarily performed. I provided statements from 4 different similar merchants stating what was wrong with the floor and why it needed to be redone. On XX/XX/XXXX I received a notice in my account for the other dispute ( XXXX ) stating that they were continuing to try to obtain a permanent credit. Both disputes are for the same service and I have provided all of the same information. I do not believe the dispute in this complaint ( XXXX ) is being handled correctly. I have provided all the necessary and requested information in a timely fashion. The investigation into this dispute should have never been closed. The dispute # is XXXX  Credit card or prepaid card"
            ]
          },
          "metadata": {
            "tags": []
          },
          "execution_count": 75
        }
      ]
    },
    {
      "cell_type": "code",
      "metadata": {
        "id": "ESGqeF4bI6MZ",
        "colab_type": "code",
        "colab": {
          "base_uri": "https://localhost:8080/",
          "height": 202
        },
        "outputId": "d9df4815-ee89-42c5-a5b9-cfec6637f37e"
      },
      "source": [
        "df_doc_topic"
      ],
      "execution_count": 68,
      "outputs": [
        {
          "output_type": "execute_result",
          "data": {
            "text/html": [
              "<div>\n",
              "<style scoped>\n",
              "    .dataframe tbody tr th:only-of-type {\n",
              "        vertical-align: middle;\n",
              "    }\n",
              "\n",
              "    .dataframe tbody tr th {\n",
              "        vertical-align: top;\n",
              "    }\n",
              "\n",
              "    .dataframe thead th {\n",
              "        text-align: right;\n",
              "    }\n",
              "</style>\n",
              "<table border=\"1\" class=\"dataframe\">\n",
              "  <thead>\n",
              "    <tr style=\"text-align: right;\">\n",
              "      <th></th>\n",
              "      <th>Topic0</th>\n",
              "      <th>Topic1</th>\n",
              "      <th>Topic2</th>\n",
              "      <th>Topic3</th>\n",
              "      <th>Topic4</th>\n",
              "      <th>Topic5</th>\n",
              "      <th>Dominant_topic</th>\n",
              "    </tr>\n",
              "  </thead>\n",
              "  <tbody>\n",
              "    <tr>\n",
              "      <th>Doc0</th>\n",
              "      <td>0.16</td>\n",
              "      <td>0.01</td>\n",
              "      <td>0.50</td>\n",
              "      <td>0.01</td>\n",
              "      <td>0.01</td>\n",
              "      <td>0.31</td>\n",
              "      <td>2</td>\n",
              "    </tr>\n",
              "    <tr>\n",
              "      <th>Doc1</th>\n",
              "      <td>0.01</td>\n",
              "      <td>0.01</td>\n",
              "      <td>0.01</td>\n",
              "      <td>0.01</td>\n",
              "      <td>0.01</td>\n",
              "      <td>0.96</td>\n",
              "      <td>5</td>\n",
              "    </tr>\n",
              "    <tr>\n",
              "      <th>Doc2</th>\n",
              "      <td>0.63</td>\n",
              "      <td>0.12</td>\n",
              "      <td>0.00</td>\n",
              "      <td>0.03</td>\n",
              "      <td>0.16</td>\n",
              "      <td>0.05</td>\n",
              "      <td>0</td>\n",
              "    </tr>\n",
              "    <tr>\n",
              "      <th>Doc3</th>\n",
              "      <td>0.00</td>\n",
              "      <td>0.00</td>\n",
              "      <td>0.00</td>\n",
              "      <td>0.00</td>\n",
              "      <td>0.98</td>\n",
              "      <td>0.00</td>\n",
              "      <td>4</td>\n",
              "    </tr>\n",
              "    <tr>\n",
              "      <th>Doc4</th>\n",
              "      <td>0.28</td>\n",
              "      <td>0.03</td>\n",
              "      <td>0.14</td>\n",
              "      <td>0.19</td>\n",
              "      <td>0.37</td>\n",
              "      <td>0.00</td>\n",
              "      <td>4</td>\n",
              "    </tr>\n",
              "  </tbody>\n",
              "</table>\n",
              "</div>"
            ],
            "text/plain": [
              "      Topic0  Topic1  Topic2  Topic3  Topic4  Topic5  Dominant_topic\n",
              "Doc0  0.16    0.01    0.50    0.01    0.01    0.31    2             \n",
              "Doc1  0.01    0.01    0.01    0.01    0.01    0.96    5             \n",
              "Doc2  0.63    0.12    0.00    0.03    0.16    0.05    0             \n",
              "Doc3  0.00    0.00    0.00    0.00    0.98    0.00    4             \n",
              "Doc4  0.28    0.03    0.14    0.19    0.37    0.00    4             "
            ]
          },
          "metadata": {
            "tags": []
          },
          "execution_count": 68
        }
      ]
    },
    {
      "cell_type": "code",
      "metadata": {
        "id": "fwWB5iwAJY7o",
        "colab_type": "code",
        "colab": {
          "base_uri": "https://localhost:8080/",
          "height": 121
        },
        "outputId": "d2d67307-be27-431e-c334-469c75200126"
      },
      "source": [
        "topic_words"
      ],
      "execution_count": 73,
      "outputs": [
        {
          "output_type": "execute_result",
          "data": {
            "text/plain": [
              "['told called said phone asked time company number money just received know help times calls',\n",
              " 'account bank check chase money funds checking received days customer wells america fargo closed online',\n",
              " 'debt credit account collection information report company letter reporting sent received provide agency original consumer',\n",
              " 'mortgage loan home insurance property received escrow letter sent documents company modification closing servicing information',\n",
              " 'card credit account charges charge dispute capital fraud report citi cards fraudulent closed balance purchase',\n",
              " 'payment payments loan late paid balance credit month fees account time loans monthly make months']"
            ]
          },
          "metadata": {
            "tags": []
          },
          "execution_count": 73
        }
      ]
    },
    {
      "cell_type": "markdown",
      "metadata": {
        "id": "gWYTA7GNKKG-",
        "colab_type": "text"
      },
      "source": [
        "We can now compare if the top words in the topic the text was assigned to matches the text description. From the comparison on the first 5 test rows, it seems that the topic modelling is doing a decent job in assigining topic to a text."
      ]
    },
    {
      "cell_type": "code",
      "metadata": {
        "id": "oD2bm0ECI7b_",
        "colab_type": "code",
        "colab": {}
      },
      "source": [
        ""
      ],
      "execution_count": null,
      "outputs": []
    },
    {
      "cell_type": "code",
      "metadata": {
        "id": "wdd0pWPuJEiP",
        "colab_type": "code",
        "colab": {}
      },
      "source": [
        ""
      ],
      "execution_count": null,
      "outputs": []
    }
  ]
}
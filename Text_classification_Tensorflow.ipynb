{
  "nbformat": 4,
  "nbformat_minor": 0,
  "metadata": {
    "colab": {
      "name": "Text classification-Tensorflow.ipynb",
      "provenance": [],
      "mount_file_id": "1xpCme7ZKL6OLubgDHs2evNS3_pFNjuYT",
      "authorship_tag": "ABX9TyMKokdzv6XKtr7mxMHI8ZtD",
      "include_colab_link": true
    },
    "kernelspec": {
      "name": "python3",
      "display_name": "Python 3"
    },
    "accelerator": "GPU"
  },
  "cells": [
    {
      "cell_type": "markdown",
      "metadata": {
        "id": "view-in-github",
        "colab_type": "text"
      },
      "source": [
        "<a href=\"https://colab.research.google.com/github/abyanjan/Natural-language-Processing-NLP-/blob/master/Text_classification_Tensorflow.ipynb\" target=\"_parent\"><img src=\"https://colab.research.google.com/assets/colab-badge.svg\" alt=\"Open In Colab\"/></a>"
      ]
    },
    {
      "cell_type": "markdown",
      "metadata": {
        "id": "R9RiVbPWxlUz"
      },
      "source": [
        "## Text Classification with Word Embeddings and Deep Learning (Tensorflow)\n",
        "\n",
        "Tweet Sentiment Classification"
      ]
    },
    {
      "cell_type": "markdown",
      "metadata": {
        "id": "ORBHCYtkyHic"
      },
      "source": [
        "The dataset is from the Tweet Sentiment Extraction challenge from Kaggle(https://www.kaggle.com/c/tweet-sentiment-extraction/overview)"
      ]
    },
    {
      "cell_type": "markdown",
      "metadata": {
        "id": "H4LJ14PNzgOb"
      },
      "source": [
        "### Import Libraries"
      ]
    },
    {
      "cell_type": "code",
      "metadata": {
        "id": "w2POWy300KAD"
      },
      "source": [
        "import os\n",
        "import shutil\n",
        "import string\n",
        "import re"
      ],
      "execution_count": 1,
      "outputs": []
    },
    {
      "cell_type": "code",
      "metadata": {
        "id": "65A9pfqc0Qhk"
      },
      "source": [
        "import pandas as pd\n",
        "import numpy as np\n",
        "\n",
        "from sklearn.preprocessing import LabelEncoder\n",
        "from sklearn.model_selection import train_test_split\n",
        "\n",
        "import matplotlib.pyplot as plt\n"
      ],
      "execution_count": 2,
      "outputs": []
    },
    {
      "cell_type": "code",
      "metadata": {
        "id": "SDyH9Ar-xHzq"
      },
      "source": [
        "import tensorflow as tf\n",
        "import tensorflow_hub as hub\n",
        "\n",
        "from tensorflow.keras import layers, losses, regularizers\n"
      ],
      "execution_count": 3,
      "outputs": []
    },
    {
      "cell_type": "code",
      "metadata": {
        "id": "WIBXVKBX0vCk",
        "colab": {
          "base_uri": "https://localhost:8080/"
        },
        "outputId": "a59ab6b6-a330-4a49-862c-8904f1c40ad5"
      },
      "source": [
        "print(tf.__version__)"
      ],
      "execution_count": 4,
      "outputs": [
        {
          "output_type": "stream",
          "text": [
            "2.4.1\n"
          ],
          "name": "stdout"
        }
      ]
    },
    {
      "cell_type": "markdown",
      "metadata": {
        "id": "g_ubsuQr1VZU"
      },
      "source": [
        "### Preprocess Data"
      ]
    },
    {
      "cell_type": "code",
      "metadata": {
        "id": "QxAMHAoh0xgr"
      },
      "source": [
        "os.chdir(\"/content/drive/MyDrive/NLP with Deep Learning/Text classification-Tensorflow\")"
      ],
      "execution_count": 5,
      "outputs": []
    },
    {
      "cell_type": "code",
      "metadata": {
        "id": "NRqTzydN1IC6"
      },
      "source": [
        "train_df = pd.read_csv(\"train.csv\")\n",
        "test_df = pd.read_csv(\"test.csv\")"
      ],
      "execution_count": 6,
      "outputs": []
    },
    {
      "cell_type": "code",
      "metadata": {
        "id": "d9H_R58V1lRy",
        "colab": {
          "base_uri": "https://localhost:8080/",
          "height": 202
        },
        "outputId": "47c815eb-48d6-4a9d-844c-6b7d0a3a95a1"
      },
      "source": [
        "train_df.head()"
      ],
      "execution_count": 7,
      "outputs": [
        {
          "output_type": "execute_result",
          "data": {
            "text/html": [
              "<div>\n",
              "<style scoped>\n",
              "    .dataframe tbody tr th:only-of-type {\n",
              "        vertical-align: middle;\n",
              "    }\n",
              "\n",
              "    .dataframe tbody tr th {\n",
              "        vertical-align: top;\n",
              "    }\n",
              "\n",
              "    .dataframe thead th {\n",
              "        text-align: right;\n",
              "    }\n",
              "</style>\n",
              "<table border=\"1\" class=\"dataframe\">\n",
              "  <thead>\n",
              "    <tr style=\"text-align: right;\">\n",
              "      <th></th>\n",
              "      <th>textID</th>\n",
              "      <th>text</th>\n",
              "      <th>selected_text</th>\n",
              "      <th>sentiment</th>\n",
              "    </tr>\n",
              "  </thead>\n",
              "  <tbody>\n",
              "    <tr>\n",
              "      <th>0</th>\n",
              "      <td>cb774db0d1</td>\n",
              "      <td>I`d have responded, if I were going</td>\n",
              "      <td>I`d have responded, if I were going</td>\n",
              "      <td>neutral</td>\n",
              "    </tr>\n",
              "    <tr>\n",
              "      <th>1</th>\n",
              "      <td>549e992a42</td>\n",
              "      <td>Sooo SAD I will miss you here in San Diego!!!</td>\n",
              "      <td>Sooo SAD</td>\n",
              "      <td>negative</td>\n",
              "    </tr>\n",
              "    <tr>\n",
              "      <th>2</th>\n",
              "      <td>088c60f138</td>\n",
              "      <td>my boss is bullying me...</td>\n",
              "      <td>bullying me</td>\n",
              "      <td>negative</td>\n",
              "    </tr>\n",
              "    <tr>\n",
              "      <th>3</th>\n",
              "      <td>9642c003ef</td>\n",
              "      <td>what interview! leave me alone</td>\n",
              "      <td>leave me alone</td>\n",
              "      <td>negative</td>\n",
              "    </tr>\n",
              "    <tr>\n",
              "      <th>4</th>\n",
              "      <td>358bd9e861</td>\n",
              "      <td>Sons of ****, why couldn`t they put them on t...</td>\n",
              "      <td>Sons of ****,</td>\n",
              "      <td>negative</td>\n",
              "    </tr>\n",
              "  </tbody>\n",
              "</table>\n",
              "</div>"
            ],
            "text/plain": [
              "       textID  ... sentiment\n",
              "0  cb774db0d1  ...   neutral\n",
              "1  549e992a42  ...  negative\n",
              "2  088c60f138  ...  negative\n",
              "3  9642c003ef  ...  negative\n",
              "4  358bd9e861  ...  negative\n",
              "\n",
              "[5 rows x 4 columns]"
            ]
          },
          "metadata": {
            "tags": []
          },
          "execution_count": 7
        }
      ]
    },
    {
      "cell_type": "code",
      "metadata": {
        "id": "etjliBUZ1qhb",
        "colab": {
          "base_uri": "https://localhost:8080/"
        },
        "outputId": "eb4c7a29-017d-4301-ade8-b68f9faeffd3"
      },
      "source": [
        "print('===========Train Data =========')\n",
        "print(train_df['sentiment'].value_counts())\n",
        "print(len(train_df))\n",
        "print('==============================')"
      ],
      "execution_count": 8,
      "outputs": [
        {
          "output_type": "stream",
          "text": [
            "===========Train Data =========\n",
            "neutral     11118\n",
            "positive     8582\n",
            "negative     7781\n",
            "Name: sentiment, dtype: int64\n",
            "27481\n",
            "==============================\n"
          ],
          "name": "stdout"
        }
      ]
    },
    {
      "cell_type": "markdown",
      "metadata": {
        "id": "m9AzJigm2ag7"
      },
      "source": [
        "**Cleaning Text**"
      ]
    },
    {
      "cell_type": "code",
      "metadata": {
        "id": "E3m7NEzC2XWE"
      },
      "source": [
        "# Defining function for cleaning the text\n",
        "\n",
        "def remove_emoji(text):\n",
        "    emoji_pattern = re.compile(\"[\"\n",
        "                           u\"\\U0001F600-\\U0001F64F\"  # emoticons\n",
        "                           u\"\\U0001F300-\\U0001F5FF\"  # symbols & pictographs\n",
        "                           u\"\\U0001F680-\\U0001F6FF\"  # transport & map symbols\n",
        "                           u\"\\U0001F1E0-\\U0001F1FF\"  # flags (iOS)\n",
        "                           u\"\\U00002702-\\U000027B0\"\n",
        "                           u\"\\U000024C2-\\U0001F251\"\n",
        "                           \"]+\", flags=re.UNICODE)\n",
        "    return emoji_pattern.sub(r'', text)\n",
        "\n",
        "def remove_url(text): \n",
        "    url_pattern  = re.compile('http[s]?://(?:[a-zA-Z]|[0-9]|[$-_@.&+]|[!*\\(\\),]|(?:%[0-9a-fA-F][0-9a-fA-F]))+')\n",
        "    return url_pattern.sub(r'', text)\n",
        " # converting return value from list to string\n",
        "\n",
        "\n",
        "def clean_text(text ): \n",
        "    delete_dict = {sp_character: '' for sp_character in string.punctuation} \n",
        "    delete_dict[' '] = ' ' \n",
        "    table = str.maketrans(delete_dict)\n",
        "    text1 = text.translate(table)\n",
        "    #print('cleaned:'+text1)\n",
        "    textArr= text1.split()\n",
        "    text2 = ' '.join([w for w in textArr if ( not w.isdigit() and  ( not w.isdigit() and len(w)>3))]) \n",
        "    \n",
        "    return text2.lower()"
      ],
      "execution_count": 9,
      "outputs": []
    },
    {
      "cell_type": "markdown",
      "metadata": {
        "id": "c9IBgEfM3tPf"
      },
      "source": [
        "Processing the data"
      ]
    },
    {
      "cell_type": "code",
      "metadata": {
        "id": "bCiKIIle2Xk9"
      },
      "source": [
        "train_df = train_df.dropna(axis=0, how='any')\n",
        "train_df['text'] = train_df['text'].apply(remove_emoji)\n",
        "train_df['text'] = train_df['text'].apply(remove_url)\n",
        "train_df['text'] = train_df['text'].apply(clean_text)"
      ],
      "execution_count": 10,
      "outputs": []
    },
    {
      "cell_type": "code",
      "metadata": {
        "id": "tIeYDc082XZk"
      },
      "source": [
        "test_df = test_df.dropna(axis=0, how='any')\n",
        "test_df['text'] = test_df['text'].apply(remove_emoji)\n",
        "test_df['text'] = test_df['text'].apply(remove_url)\n",
        "test_df['text'] = test_df['text'].apply(clean_text)"
      ],
      "execution_count": 11,
      "outputs": []
    },
    {
      "cell_type": "code",
      "metadata": {
        "id": "yiR8ZAaS2XGL",
        "colab": {
          "base_uri": "https://localhost:8080/"
        },
        "outputId": "8624b159-5b2e-4207-d5a4-bef14c321237"
      },
      "source": [
        "print('===========Train Data =========')\n",
        "print(train_df['sentiment'].value_counts())\n",
        "print(len(train_df))\n",
        "print('==============================')\n",
        "\n",
        "\n",
        "print('===========Test Data =========')\n",
        "print(test_df['sentiment'].value_counts())\n",
        "print(len(test_df))\n",
        "print('==============================')"
      ],
      "execution_count": 12,
      "outputs": [
        {
          "output_type": "stream",
          "text": [
            "===========Train Data =========\n",
            "neutral     11117\n",
            "positive     8582\n",
            "negative     7781\n",
            "Name: sentiment, dtype: int64\n",
            "27480\n",
            "==============================\n",
            "===========Test Data =========\n",
            "neutral     1430\n",
            "positive    1103\n",
            "negative    1001\n",
            "Name: sentiment, dtype: int64\n",
            "3534\n",
            "==============================\n"
          ],
          "name": "stdout"
        }
      ]
    },
    {
      "cell_type": "markdown",
      "metadata": {
        "id": "uS10yFFB46I_"
      },
      "source": [
        "**Splitting training data further into train and validation set**"
      ]
    },
    {
      "cell_type": "code",
      "metadata": {
        "id": "6UpACLxd4ixB"
      },
      "source": [
        "X_train, X_valid, y_train, y_valid = train_test_split(train_df['text'], \n",
        "                                                      train_df['sentiment'], \n",
        "                                                      test_size = 0.3, \n",
        "                                                      stratify = train_df['sentiment'],\n",
        "                                                      random_state = 0)"
      ],
      "execution_count": 13,
      "outputs": []
    },
    {
      "cell_type": "code",
      "metadata": {
        "id": "iLGFLQjt5ZnH",
        "colab": {
          "base_uri": "https://localhost:8080/"
        },
        "outputId": "e497ffd4-debe-46a2-cade-290847c94b71"
      },
      "source": [
        "print('Train data len:'+str(len(X_train)))\n",
        "print('Class distribution: ')\n",
        "print(y_train.value_counts())\n",
        "print('\\n')\n",
        "\n",
        "print('Valid data len:'+str(len(X_valid)))\n",
        "print('Class distribution: ')\n",
        "print(y_valid.value_counts())"
      ],
      "execution_count": 14,
      "outputs": [
        {
          "output_type": "stream",
          "text": [
            "Train data len:19236\n",
            "Class distribution: \n",
            "neutral     7782\n",
            "positive    6007\n",
            "negative    5447\n",
            "Name: sentiment, dtype: int64\n",
            "\n",
            "\n",
            "Valid data len:8244\n",
            "Class distribution: \n",
            "neutral     3335\n",
            "positive    2575\n",
            "negative    2334\n",
            "Name: sentiment, dtype: int64\n"
          ],
          "name": "stdout"
        }
      ]
    },
    {
      "cell_type": "markdown",
      "metadata": {
        "id": "tQ5Sz_IM6l3v"
      },
      "source": [
        "Converting the data to arrays"
      ]
    },
    {
      "cell_type": "code",
      "metadata": {
        "id": "mL1ZmrBK5o26"
      },
      "source": [
        "X_train = X_train.to_numpy()\n",
        "X_valid = X_valid.to_numpy()\n",
        "X_test = test_df['text'].to_numpy()"
      ],
      "execution_count": 15,
      "outputs": []
    },
    {
      "cell_type": "markdown",
      "metadata": {
        "id": "t5R1rDpa7jGl"
      },
      "source": [
        "**Label Encoding the target label**"
      ]
    },
    {
      "cell_type": "code",
      "metadata": {
        "id": "wjGeQdSF7f2H"
      },
      "source": [
        "le = LabelEncoder()\n",
        "\n",
        "train_labels = le.fit_transform(y_train)\n",
        "train_labels = tf.keras.utils.to_categorical(train_labels)\n",
        "\n",
        "valid_labels = le.fit_transform(y_valid)\n",
        "valid_labels = tf.keras.utils.to_categorical(valid_labels)\n",
        "\n",
        "test_labels = le.fit_transform(test_df['sentiment'])\n",
        "test_labels = tf.keras.utils.to_categorical(test_labels)"
      ],
      "execution_count": 16,
      "outputs": []
    },
    {
      "cell_type": "code",
      "metadata": {
        "id": "9PvqR0lK7f8-",
        "colab": {
          "base_uri": "https://localhost:8080/"
        },
        "outputId": "a7f31eb3-397e-44e0-d9d8-c563abb40a64"
      },
      "source": [
        "le.classes_"
      ],
      "execution_count": 17,
      "outputs": [
        {
          "output_type": "execute_result",
          "data": {
            "text/plain": [
              "array(['negative', 'neutral', 'positive'], dtype=object)"
            ]
          },
          "metadata": {
            "tags": []
          },
          "execution_count": 17
        }
      ]
    },
    {
      "cell_type": "code",
      "metadata": {
        "id": "--PhE2y47f6J",
        "colab": {
          "base_uri": "https://localhost:8080/"
        },
        "outputId": "cb61e0ec-e315-41f8-8e6b-c8adec43ee42"
      },
      "source": [
        "train_labels"
      ],
      "execution_count": 18,
      "outputs": [
        {
          "output_type": "execute_result",
          "data": {
            "text/plain": [
              "array([[1., 0., 0.],\n",
              "       [0., 0., 1.],\n",
              "       [1., 0., 0.],\n",
              "       ...,\n",
              "       [0., 1., 0.],\n",
              "       [0., 1., 0.],\n",
              "       [0., 0., 1.]], dtype=float32)"
            ]
          },
          "metadata": {
            "tags": []
          },
          "execution_count": 18
        }
      ]
    },
    {
      "cell_type": "code",
      "metadata": {
        "id": "W1Ih9kiy7fzY"
      },
      "source": [
        ""
      ],
      "execution_count": null,
      "outputs": []
    },
    {
      "cell_type": "markdown",
      "metadata": {
        "id": "1MT12xvh-Y1U"
      },
      "source": [
        "### Training the model"
      ]
    },
    {
      "cell_type": "markdown",
      "metadata": {
        "id": "zoYQ4Bvu--eM"
      },
      "source": [
        "Using a pre-trained text embedding as the first layer to pocess the text for the deep learning."
      ]
    },
    {
      "cell_type": "code",
      "metadata": {
        "id": "TKcX_cr66Ry3"
      },
      "source": [
        "embedding = \"https://tfhub.dev/google/tf2-preview/nnlm-en-dim50/1\"\n",
        "hub_layer = hub.KerasLayer(embedding, input_shape=[],   \n",
        "                           dtype=tf.string, trainable=True)"
      ],
      "execution_count": 19,
      "outputs": []
    },
    {
      "cell_type": "code",
      "metadata": {
        "id": "d94GwMCY_wYD"
      },
      "source": [
        ""
      ],
      "execution_count": null,
      "outputs": []
    },
    {
      "cell_type": "code",
      "metadata": {
        "id": "nbIJVNtU_wrU",
        "colab": {
          "base_uri": "https://localhost:8080/"
        },
        "outputId": "e1fe364c-5457-43ba-9f7d-4b1be397e066"
      },
      "source": [
        "model = tf.keras.Sequential()\n",
        "model.add(hub_layer)\n",
        "model.add(tf.keras.layers.Dense(50, activation='relu',kernel_regularizer=regularizers.l2(0.05)))\n",
        "#model.add(tf.keras.layers.Dropout(0.5))\n",
        "#model.add(tf.keras.layers.Dense(200, activation='relu',kernel_regularizer=regularizers.l2(0.05)))\n",
        "#model.add(tf.keras.layers.Dropout(0.5))\n",
        "#model.add(tf.keras.layers.Dense(500, activation='relu',kernel_regularizer=regularizers.l2(0.02)))\n",
        "model.add(tf.keras.layers.Dropout(0.2))\n",
        "model.add(tf.keras.layers.Dense(3,activation='softmax'))\n",
        "\n",
        "model.summary()\n"
      ],
      "execution_count": 25,
      "outputs": [
        {
          "output_type": "stream",
          "text": [
            "Model: \"sequential_1\"\n",
            "_________________________________________________________________\n",
            "Layer (type)                 Output Shape              Param #   \n",
            "=================================================================\n",
            "keras_layer (KerasLayer)     (None, 50)                48190600  \n",
            "_________________________________________________________________\n",
            "dense_2 (Dense)              (None, 50)                2550      \n",
            "_________________________________________________________________\n",
            "dropout_1 (Dropout)          (None, 50)                0         \n",
            "_________________________________________________________________\n",
            "dense_3 (Dense)              (None, 3)                 153       \n",
            "=================================================================\n",
            "Total params: 48,193,303\n",
            "Trainable params: 48,193,303\n",
            "Non-trainable params: 0\n",
            "_________________________________________________________________\n"
          ],
          "name": "stdout"
        }
      ]
    },
    {
      "cell_type": "code",
      "metadata": {
        "id": "SnCnnOsUAMza"
      },
      "source": [
        "model.compile(loss='categorical_crossentropy',\n",
        "              optimizer= tf.keras.optimizers.Adam(learning_rate=0.001), \n",
        "              metrics=[\"CategoricalAccuracy\"])"
      ],
      "execution_count": 26,
      "outputs": []
    },
    {
      "cell_type": "code",
      "metadata": {
        "id": "6p3Toi1TH-Sh"
      },
      "source": [
        "es = tf.keras.callbacks.EarlyStopping(\n",
        "    monitor=\"val_loss\",\n",
        "    min_delta=0.001,\n",
        "    patience=3,\n",
        "    mode=\"auto\")\n",
        "\n",
        "reduce_lr = tf.keras.callbacks.ReduceLROnPlateau(monitor='val_loss', factor=0.2, min_delta=0.001,\n",
        "                              patience=2,min_lr = 1e-6)\n",
        "\n",
        "callbacks = [es,reduce_lr]"
      ],
      "execution_count": 27,
      "outputs": []
    },
    {
      "cell_type": "code",
      "metadata": {
        "id": "095a18dW_wU0",
        "colab": {
          "base_uri": "https://localhost:8080/"
        },
        "outputId": "8482a145-28f1-485c-8ba5-d2db0520ef61"
      },
      "source": [
        "history = model.fit(X_train, train_labels,\n",
        "                    validation_data= (X_valid,valid_labels),\n",
        "                    batch_size=64,\n",
        "                    epochs=20,\n",
        "                    callbacks = callbacks)"
      ],
      "execution_count": 28,
      "outputs": [
        {
          "output_type": "stream",
          "text": [
            "Epoch 1/20\n",
            "301/301 [==============================] - 9s 30ms/step - loss: 2.1502 - categorical_accuracy: 0.6929 - val_loss: 0.8914 - val_categorical_accuracy: 0.6611\n",
            "Epoch 2/20\n",
            "301/301 [==============================] - 9s 30ms/step - loss: 0.5863 - categorical_accuracy: 0.8326 - val_loss: 0.8805 - val_categorical_accuracy: 0.6536\n",
            "Epoch 3/20\n",
            "301/301 [==============================] - 9s 30ms/step - loss: 0.4891 - categorical_accuracy: 0.8627 - val_loss: 0.9111 - val_categorical_accuracy: 0.6463\n",
            "Epoch 4/20\n",
            "301/301 [==============================] - 9s 30ms/step - loss: 0.4393 - categorical_accuracy: 0.8813 - val_loss: 0.9365 - val_categorical_accuracy: 0.6450\n",
            "Epoch 5/20\n",
            "301/301 [==============================] - 9s 30ms/step - loss: 0.3855 - categorical_accuracy: 0.8951 - val_loss: 0.9685 - val_categorical_accuracy: 0.6386\n"
          ],
          "name": "stdout"
        }
      ]
    },
    {
      "cell_type": "code",
      "metadata": {
        "id": "1JXzOjhk6Rvu"
      },
      "source": [
        ""
      ],
      "execution_count": null,
      "outputs": []
    },
    {
      "cell_type": "code",
      "metadata": {
        "id": "P4kKAyW67l0_"
      },
      "source": [
        ""
      ],
      "execution_count": null,
      "outputs": []
    },
    {
      "cell_type": "code",
      "metadata": {
        "id": "kBX4eZx67lxK"
      },
      "source": [
        ""
      ],
      "execution_count": null,
      "outputs": []
    },
    {
      "cell_type": "markdown",
      "metadata": {
        "id": "LUI-UP357nAB"
      },
      "source": [
        "**Using Keras Embedding layer**"
      ]
    },
    {
      "cell_type": "code",
      "metadata": {
        "colab": {
          "base_uri": "https://localhost:8080/",
          "height": 352
        },
        "id": "E7cAMsJn3yAn",
        "outputId": "45aea707-add6-499a-db20-318f983e5198"
      },
      "source": [
        "import matplotlib.pyplot as plt\r\n",
        "\r\n",
        "text_lengths = ([len(text) for text in X_train])\r\n",
        "plt.hist(text_lengths)"
      ],
      "execution_count": 34,
      "outputs": [
        {
          "output_type": "execute_result",
          "data": {
            "text/plain": [
              "(array([1675., 3756., 3757., 3167., 2521., 2107., 1509.,  617.,  119.,\n",
              "           8.]),\n",
              " array([  0. ,  12.9,  25.8,  38.7,  51.6,  64.5,  77.4,  90.3, 103.2,\n",
              "        116.1, 129. ]),\n",
              " <a list of 10 Patch objects>)"
            ]
          },
          "metadata": {
            "tags": []
          },
          "execution_count": 34
        },
        {
          "output_type": "display_data",
          "data": {
            "image/png": "[encoded data removed]",
            "text/plain": [
              "<Figure size 432x288 with 1 Axes>"
            ]
          },
          "metadata": {
            "tags": [],
            "needs_background": "light"
          }
        }
      ]
    },
    {
      "cell_type": "code",
      "metadata": {
        "id": "DVj4UYWE3oSb"
      },
      "source": [
        "VOCAB_SIZE = 10000\r\n",
        "MAX_LENGTH=40"
      ],
      "execution_count": 49,
      "outputs": []
    },
    {
      "cell_type": "code",
      "metadata": {
        "id": "AR119O6j3N42"
      },
      "source": [
        "from tensorflow.keras.preprocessing.text import one_hot\r\n",
        "encoded_input = [one_hot(input, VOCAB_SIZE) for input in X_train]"
      ],
      "execution_count": 50,
      "outputs": []
    },
    {
      "cell_type": "code",
      "metadata": {
        "id": "Y61gvUIM3N0P"
      },
      "source": [
        "# padding\r\n",
        "padded_input = tf.keras.preprocessing.sequence.pad_sequences(encoded_input, maxlen=MAX_LENGTH, padding='post', truncating='post')"
      ],
      "execution_count": 51,
      "outputs": []
    },
    {
      "cell_type": "code",
      "metadata": {
        "colab": {
          "base_uri": "https://localhost:8080/"
        },
        "id": "MdUJkCMc3Nwi",
        "outputId": "e3ca0473-120f-4de6-c725-4ccfcce1db43"
      },
      "source": [
        "padded_input"
      ],
      "execution_count": 52,
      "outputs": [
        {
          "output_type": "execute_result",
          "data": {
            "text/plain": [
              "array([[5227, 7596, 7534, ...,    0,    0,    0],\n",
              "       [2890,  647, 6215, ...,    0,    0,    0],\n",
              "       [2319,  560, 1575, ...,    0,    0,    0],\n",
              "       ...,\n",
              "       [4909, 6081, 3693, ...,    0,    0,    0],\n",
              "       [2022, 1956, 6381, ...,    0,    0,    0],\n",
              "       [2303, 8114, 6521, ...,    0,    0,    0]], dtype=int32)"
            ]
          },
          "metadata": {
            "tags": []
          },
          "execution_count": 52
        }
      ]
    },
    {
      "cell_type": "code",
      "metadata": {
        "id": "Z6lC-64m6EA-"
      },
      "source": [
        ""
      ],
      "execution_count": null,
      "outputs": []
    },
    {
      "cell_type": "code",
      "metadata": {
        "id": "PXNCBAo86D96"
      },
      "source": [
        "# validation data processing\r\n",
        "valid_encoded = [one_hot(input, VOCAB_SIZE) for input in X_valid]\r\n",
        "valid_padded = tf.keras.preprocessing.sequence.pad_sequences(valid_encoded, maxlen=MAX_LENGTH, padding='post', truncating='post')"
      ],
      "execution_count": 53,
      "outputs": []
    },
    {
      "cell_type": "code",
      "metadata": {
        "id": "zlc5KFbD6D6k"
      },
      "source": [
        ""
      ],
      "execution_count": null,
      "outputs": []
    },
    {
      "cell_type": "code",
      "metadata": {
        "colab": {
          "base_uri": "https://localhost:8080/"
        },
        "id": "O9oWOg9O1H_0",
        "outputId": "1498e2b8-c9b4-49a9-b8f4-282f42b03deb"
      },
      "source": [
        "model = tf.keras.Sequential()\r\n",
        "model.add(tf.keras.layers.Embedding(input_dim=10000, output_dim=64, input_length=MAX_LENGTH))\r\n",
        "model.add(tf.keras.layers.Flatten())\r\n",
        "model.add(tf.keras.layers.Dense(500, activation='relu',kernel_regularizer=regularizers.l2(0.05)))\r\n",
        "model.add(tf.keras.layers.Dropout(0.2))\r\n",
        "#model.add(tf.keras.layers.Dense(100, activation='relu',kernel_regularizer=regularizers.l2(0.05)))\r\n",
        "#model.add(tf.keras.layers.Dropout(0.2))\r\n",
        "model.add(tf.keras.layers.Dense(3,activation='softmax'))\r\n",
        "\r\n",
        "model.summary()"
      ],
      "execution_count": 59,
      "outputs": [
        {
          "output_type": "stream",
          "text": [
            "Model: \"sequential_7\"\n",
            "_________________________________________________________________\n",
            "Layer (type)                 Output Shape              Param #   \n",
            "=================================================================\n",
            "embedding_5 (Embedding)      (None, 40, 64)            640000    \n",
            "_________________________________________________________________\n",
            "flatten_5 (Flatten)          (None, 2560)              0         \n",
            "_________________________________________________________________\n",
            "dense_12 (Dense)             (None, 500)               1280500   \n",
            "_________________________________________________________________\n",
            "dropout_6 (Dropout)          (None, 500)               0         \n",
            "_________________________________________________________________\n",
            "dense_13 (Dense)             (None, 3)                 1503      \n",
            "=================================================================\n",
            "Total params: 1,922,003\n",
            "Trainable params: 1,922,003\n",
            "Non-trainable params: 0\n",
            "_________________________________________________________________\n"
          ],
          "name": "stdout"
        }
      ]
    },
    {
      "cell_type": "code",
      "metadata": {
        "id": "KJ8gEvyK1HzF"
      },
      "source": [
        ""
      ],
      "execution_count": null,
      "outputs": []
    },
    {
      "cell_type": "code",
      "metadata": {
        "id": "RhP_Xiri56gd"
      },
      "source": [
        "model.compile(loss='categorical_crossentropy',\n",
        "              optimizer= tf.keras.optimizers.Adam(learning_rate=0.001), \n",
        "              metrics=[\"CategoricalAccuracy\"])"
      ],
      "execution_count": 60,
      "outputs": []
    },
    {
      "cell_type": "code",
      "metadata": {
        "id": "3SXRooV856hA"
      },
      "source": [
        "es = tf.keras.callbacks.EarlyStopping(\n",
        "    monitor=\"val_loss\",\n",
        "    min_delta=0.001,\n",
        "    patience=3,\n",
        "    mode=\"auto\")\n",
        "\n",
        "reduce_lr = tf.keras.callbacks.ReduceLROnPlateau(monitor='val_loss', factor=0.2, min_delta=0.001,\n",
        "                              patience=2,min_lr = 1e-6)\n",
        "\n",
        "callbacks = [es,reduce_lr]"
      ],
      "execution_count": 61,
      "outputs": []
    },
    {
      "cell_type": "code",
      "metadata": {
        "colab": {
          "base_uri": "https://localhost:8080/"
        },
        "id": "0kop6wa956hC",
        "outputId": "fff777bf-855e-49ed-a653-008ed887bea9"
      },
      "source": [
        "history = model.fit(padded_input, train_labels,\n",
        "                    validation_data= (valid_padded,valid_labels),\n",
        "                    batch_size=64,\n",
        "                    epochs=20,\n",
        "                    callbacks = callbacks)"
      ],
      "execution_count": 62,
      "outputs": [
        {
          "output_type": "stream",
          "text": [
            "Epoch 1/20\n",
            "301/301 [==============================] - 3s 9ms/step - loss: 7.6881 - categorical_accuracy: 0.4027 - val_loss: 1.0115 - val_categorical_accuracy: 0.5093\n",
            "Epoch 2/20\n",
            "301/301 [==============================] - 3s 9ms/step - loss: 0.9421 - categorical_accuracy: 0.5789 - val_loss: 0.9161 - val_categorical_accuracy: 0.6164\n",
            "Epoch 3/20\n",
            "301/301 [==============================] - 3s 9ms/step - loss: 0.8052 - categorical_accuracy: 0.7094 - val_loss: 0.9092 - val_categorical_accuracy: 0.6396\n",
            "Epoch 4/20\n",
            "301/301 [==============================] - 3s 9ms/step - loss: 0.7258 - categorical_accuracy: 0.7569 - val_loss: 0.9419 - val_categorical_accuracy: 0.6362\n",
            "Epoch 5/20\n",
            "301/301 [==============================] - 3s 9ms/step - loss: 0.6513 - categorical_accuracy: 0.7977 - val_loss: 0.9981 - val_categorical_accuracy: 0.6205\n",
            "Epoch 6/20\n",
            "301/301 [==============================] - 3s 9ms/step - loss: 0.5307 - categorical_accuracy: 0.8576 - val_loss: 0.9630 - val_categorical_accuracy: 0.6325\n"
          ],
          "name": "stdout"
        }
      ]
    }
  ]
}